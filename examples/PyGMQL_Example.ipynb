{
 "cells": [
  {
   "cell_type": "code",
   "execution_count": 1,
   "metadata": {
    "collapsed": true,
    "nbpresent": {
     "id": "13874c4d-9194-4e83-9bd7-1963118a93e2"
    },
    "slideshow": {
     "slide_type": "skip"
    }
   },
   "outputs": [],
   "source": [
    "import seaborn as sns\n",
    "import matplotlib.pyplot as plt\n",
    "%matplotlib inline"
   ]
  },
  {
   "cell_type": "markdown",
   "metadata": {
    "nbpresent": {
     "id": "81fa5fb9-451b-4a44-81df-0f7e73504474"
    },
    "slideshow": {
     "slide_type": "slide"
    }
   },
   "source": [
    "# PyGMQL in action"
   ]
  },
  {
   "cell_type": "markdown",
   "metadata": {
    "nbpresent": {
     "id": "a6e269fc-7e69-4774-997c-0452d55d740f"
    },
    "slideshow": {
     "slide_type": "-"
    }
   },
   "source": [
    "## Problem description\n",
    "We are given three replicas of a ChIP-Seq experiment.\n",
    "We want to:\n",
    "1. Extract **high-confidence regions** into one sample\n",
    "2. Identify which of these regions **overlap** with a set of given genes\n",
    "3. For each resulting region count ICGC **mutations**.\n",
    "4. Finally we want to select the regions with **at least one** mutation."
   ]
  },
  {
   "cell_type": "markdown",
   "metadata": {
    "nbpresent": {
     "id": "26d3ba85-9af8-4409-93cb-f32f969adcac"
    },
    "slideshow": {
     "slide_type": "-"
    }
   },
   "source": [
    "## Required GMQL operations\n",
    "For this pipeline we will need the following GMQL operations:\n",
    "- ```cover```: extracts regions which are confirmed by at least two replicas\n",
    "- ```join```: extracts regions which overalap with genes\n",
    "- ```map```: for each extracted region, counts the overlapping mutations"
   ]
  },
  {
   "cell_type": "markdown",
   "metadata": {
    "nbpresent": {
     "id": "d1131497-9781-4ea8-9a40-dd00f64c12dd"
    },
    "slideshow": {
     "slide_type": "slide"
    }
   },
   "source": [
    "## PyGMQL in a nutshell\n",
    "\n",
    "PyGMQL enables the writing of GMQL queries using the Python programming language. It exposes to the user all the GMQL operators and also a data structure for holding, manipulating and converting the results of a GMQL query."
   ]
  },
  {
   "cell_type": "markdown",
   "metadata": {
    "nbpresent": {
     "id": "faa40f07-a26f-4097-9bc4-0a5296b61f2c"
    },
    "slideshow": {
     "slide_type": "slide"
    }
   },
   "source": [
    "The library offers:\n",
    "- A data structure called ```GMQLDataset```, which represent a GMQL variable in the query. Every GMQLDataset is produced by a GMQL operator. When you call the ```materialize``` operation on a GMQLDataset the execution is started and the result is returned.\n",
    "- A data structure called ```GDataframe```, holding the result of a query. A GDataframe is a pure python structure and can be used directly as any other pandas dataframe. A GDataframe holds two pandas dataframes, one for the regions and one for the metadata. We can also, given a GDataframe, go back to a GMQLDataset for using it as a GMQL variable. This can be done calling the ```to_GMQLDataset``` function of the GDataframe.\n",
    "\n",
    "<img src=\"./images/GMQLDataset_to_GDataframe.png\" width=\"500\" height=\"600\">"
   ]
  },
  {
   "cell_type": "markdown",
   "metadata": {
    "nbpresent": {
     "id": "c42a620e-4aac-4b63-b6fd-7c4a78d3b93b"
    }
   },
   "source": [
    "### Getting the library\n",
    "\n",
    "The library can be downloaded from the PyPi public repository through the ```pip``` packaging system.\n",
    "\n",
    "```\n",
    "    pip install gmql\n",
    "```\n",
    "\n",
    "If you want the most recent version of the software you can directly download it from the GitHub page:\n",
    "\n",
    "```\n",
    "    git pull https://github.com/DEIB-GECO/PyGMQL.git\n",
    "    cd PyGMQL\n",
    "    pip install -e .\n",
    "```"
   ]
  },
  {
   "cell_type": "markdown",
   "metadata": {
    "nbpresent": {
     "id": "f1ada078-0dbe-40c2-b49a-51c4b6a8ab2f"
    },
    "slideshow": {
     "slide_type": "slide"
    }
   },
   "source": [
    "### Importing the library"
   ]
  },
  {
   "cell_type": "code",
   "execution_count": 2,
   "metadata": {
    "nbpresent": {
     "id": "d50b20e1-2e3d-49d7-b33f-12c2b507a8f5"
    },
    "slideshow": {
     "slide_type": "-"
    }
   },
   "outputs": [],
   "source": [
    "import gmql as gl\n",
    "import pandas as pd"
   ]
  },
  {
   "cell_type": "markdown",
   "metadata": {
    "nbpresent": {
     "id": "c4f86e65-7c4b-493a-b7fc-9a36a58366a0"
    },
    "slideshow": {
     "slide_type": "slide"
    }
   },
   "source": [
    "### Execution modes\n",
    "The queries are directly embedded inside the language and can be executed in two different modes:\n",
    "- __Local mode__: the computation is executed in the local machine\n",
    "- __Remote mode__: the query is sent to a remote server, executed there and the results are downloaded. This process is shown in the figure below.\n",
    "\n",
    "<img src=\"./images/remote.png\">\n",
    "\n",
    "\n",
    "\n",
    "##           <center>    <a href=\"http://www.gmql.eu/gmql-rest/swagger\">GMQL Rest Interface</a> </center>"
   ]
  },
  {
   "cell_type": "code",
   "execution_count": 3,
   "metadata": {
    "collapsed": true,
    "nbpresent": {
     "id": "ee145d06-7dd8-4e5d-a08f-4aee972b4d43"
    },
    "slideshow": {
     "slide_type": "-"
    }
   },
   "outputs": [],
   "source": [
    "gl.set_mode(\"local\")\n",
    "gl.set_progress(True)"
   ]
  },
  {
   "cell_type": "markdown",
   "metadata": {
    "nbpresent": {
     "id": "3652a307-4d36-48e7-8d4a-7119f19b0bee"
    },
    "slideshow": {
     "slide_type": "slide"
    }
   },
   "source": [
    "## The query\n",
    "\n",
    "The GMQL query that we are going to present is the following:\n",
    "\n",
    "```\n",
    "refSeqGenes  = SELECT(annotation_type == 'gene' AND provider == 'RefSeq') HG19_BED_ANNOTATION;\n",
    "\n",
    "myExp  = SELECT() myRawExp;\n",
    "myConfirmExp  = COVER(2, ANY) myExp;\n",
    "\n",
    "myExpOverGenes  = JOIN(DIST < 0; output: RIGHT_DISTINCT) refSeqGenes myConfirmExp;\n",
    "\n",
    "myMut  = SELECT() myRawMut;\n",
    "myMutOverExp = MAP() myExpOverGenes myMut;\n",
    "\n",
    "myFilteredExp = SELECT(region: count_myMutOverExp_myMut > 0) myMutOverExp;\n",
    "\n",
    "MATERIALIZE myFilteredExp INTO ./Results/FilteredExperiment\n",
    "    \n",
    "```"
   ]
  },
  {
   "cell_type": "markdown",
   "metadata": {
    "nbpresent": {
     "id": "05e65525-1cd3-4ee7-90c1-b5fc5dd11d5d"
    },
    "slideshow": {
     "slide_type": "slide"
    }
   },
   "source": [
    "## Loading a GMQL dataset"
   ]
  },
  {
   "cell_type": "markdown",
   "metadata": {
    "nbpresent": {
     "id": "e24ca4b9-a04a-4cbf-b984-6b0deb281dbf"
    },
    "slideshow": {
     "slide_type": "slide"
    }
   },
   "source": [
    "### Loading datasets in GDM format\n",
    "\n",
    "Both the gene dataset and the personal one are already in the GDM format, therefore the library only needs the location of the data for importing.\n",
    "\n",
    "*NB: This demo is meant to be executed without the need of a remote server. For this reason the HG19_BED_ANNOTATION dataset is loaded directly from the computer disk. Please be aware that it can also be found in the regular GMQL repository.*"
   ]
  },
  {
   "cell_type": "code",
   "execution_count": 4,
   "metadata": {
    "nbpresent": {
     "id": "09f9c4c0-f680-4bd3-8ee3-d4b2172bbf30"
    },
    "slideshow": {
     "slide_type": "-"
    }
   },
   "outputs": [
    {
     "name": "stderr",
     "output_type": "stream",
     "text": [
      "100%|██████████████████████████████████████████████████████████████████████████████████| 12/12 [00:00<00:00, 47.37it/s]\n"
     ]
    }
   ],
   "source": [
    "bed_annotation = gl.load_from_path(\"../data/demo/HG19_BED_ANNOTATION/\")"
   ]
  },
  {
   "cell_type": "code",
   "execution_count": 5,
   "metadata": {
    "nbpresent": {
     "id": "157a44cc-40bd-4d25-9cd9-b429239b2b19"
    },
    "slideshow": {
     "slide_type": "-"
    }
   },
   "outputs": [
    {
     "name": "stderr",
     "output_type": "stream",
     "text": [
      "100%|████████████████████████████████████████████████████████████████████████████████████| 3/3 [00:01<00:00,  2.72it/s]\n"
     ]
    }
   ],
   "source": [
    "myExp = gl.load_from_path(\"../data/demo/UPLOADED/\")"
   ]
  },
  {
   "cell_type": "markdown",
   "metadata": {
    "nbpresent": {
     "id": "e7aaf53e-a575-47df-8385-576ad4b6f75b"
    },
    "slideshow": {
     "slide_type": "slide"
    }
   },
   "source": [
    "### Loading datasets with a generic schema\n",
    "\n",
    "The mutation dataset is in a classical BED format but not in the GDM format, therefore we need to specify its schema through a **custom parser**, which is an instance of a ```RegionParser```. \n",
    "After the parser is instantiated we can use the ```load_from_path``` function to load the dataset, which is currently stored in the local file system"
   ]
  },
  {
   "cell_type": "code",
   "execution_count": 6,
   "metadata": {
    "collapsed": true,
    "nbpresent": {
     "id": "035f38a1-4464-4c09-8c7a-79e461f18f7a"
    },
    "slideshow": {
     "slide_type": "-"
    }
   },
   "outputs": [],
   "source": [
    "mutations_parser = gl.parsers.RegionParser(parser_name=\"mutations_parser\",\n",
    "                                           chrPos=0,\n",
    "                                           startPos=1,\n",
    "                                           stopPos=2,\n",
    "                                           otherPos=[\n",
    "                                               (3, 'original_allele', \"char\"),\n",
    "                                               (4, 'mutation_allele', \"char\")],\n",
    "                                           delimiter=\"\\t\")"
   ]
  },
  {
   "cell_type": "code",
   "execution_count": 7,
   "metadata": {
    "nbpresent": {
     "id": "57d0a043-569c-418f-af30-65f2cf2bdd18"
    },
    "slideshow": {
     "slide_type": "-"
    }
   },
   "outputs": [
    {
     "name": "stderr",
     "output_type": "stream",
     "text": [
      "100%|█████████████████████████████████████████████████████████████████████████████████| 12/12 [00:00<00:00, 142.41it/s]\n"
     ]
    }
   ],
   "source": [
    "myMut = gl.load_from_path(\"../data/demo/ICGC_REPOSITORY/\", parser=mutations_parser)\n"
   ]
  },
  {
   "cell_type": "markdown",
   "metadata": {
    "nbpresent": {
     "id": "02230b72-aea0-4a47-a77d-a413ed74fab6"
    }
   },
   "source": [
    "Also conversion from Pandas dataframe to GMQLDataset is possible using the ```from_pandas``` operation."
   ]
  },
  {
   "cell_type": "markdown",
   "metadata": {
    "nbpresent": {
     "id": "ee11a6ea-4ab9-407c-baed-4e9d274cd996"
    },
    "slideshow": {
     "slide_type": "slide"
    }
   },
   "source": [
    "## Selection on the metadata\n",
    "\n",
    "We have in the variable ```bed_annotation``` all the ENCODE dataset of annotations. We are interested only in the annotations regarding the genes. Therefore we need to *filter* the dataset **on the basis of the metadata**.\n",
    "This is called ```meta-selection``` and in PyGMQL can be performed using the square-bracket notation common to pandas users."
   ]
  },
  {
   "cell_type": "code",
   "execution_count": 8,
   "metadata": {
    "collapsed": true,
    "nbpresent": {
     "id": "a0d40739-c68e-4c80-830a-ca55f82f7a3b"
    },
    "slideshow": {
     "slide_type": "-"
    }
   },
   "outputs": [],
   "source": [
    "refSeqGenes = bed_annotation[(bed_annotation['annotation_type'] == 'gene') & \n",
    "                             (bed_annotation['provider'] == 'RefSeq')]"
   ]
  },
  {
   "cell_type": "markdown",
   "metadata": {
    "nbpresent": {
     "id": "605b7609-32e5-4730-9a53-e15ced9d8af7"
    },
    "slideshow": {
     "slide_type": "slide"
    }
   },
   "source": [
    "## Cover operation\n",
    "We want only reliable data from the Chip-Seq experiment, therefore we define a Chip-Seq region *highly confident* if it is confirmed by at least two replicas. This is a job for the ```cover``` operation.\n",
    "\n",
    "- ```minAcc```: we define the minimum number of overlapping between samples for a region to be conserved. In this case 2.\n",
    "- ```maxAcc```: we define the maximum number. The ```\"ANY\"``` keyword makes the upper bound infinite.\n",
    "\n",
    "<img src=\"./images/cover.PNG\">"
   ]
  },
  {
   "cell_type": "code",
   "execution_count": 9,
   "metadata": {
    "collapsed": true,
    "nbpresent": {
     "id": "9f718fce-1cac-4c7e-b53f-91af01b4a618"
    },
    "slideshow": {
     "slide_type": "-"
    }
   },
   "outputs": [],
   "source": [
    "myConfirmExp = myExp.normal_cover(minAcc=2, maxAcc=\"ANY\")"
   ]
  },
  {
   "cell_type": "markdown",
   "metadata": {
    "nbpresent": {
     "id": "71398c6e-b59f-4b36-81fe-98bc90ff3f51"
    },
    "slideshow": {
     "slide_type": "slide"
    }
   },
   "source": [
    "## Join\n",
    "Now we want to extract those regions that overlap with genes. We can do it using the ```join``` operation. \n",
    "- We use the genes as reference dataset\n",
    "- The Chip-Seq regions as experiment. \n",
    "- The genometric predicate ```DLE(0)``` and the option ```output=\"RIGHT\"``` tell the engine to look at all the experiment regions that happen to intersect with the reference ones and keep them in the result.\n",
    "\n",
    "<img src=\"./images/join.PNG\" height=\"700\" width=\"700\">"
   ]
  },
  {
   "cell_type": "code",
   "execution_count": 10,
   "metadata": {
    "collapsed": true,
    "nbpresent": {
     "id": "21d0cd29-8484-4233-85ef-0e4cabf11f62"
    },
    "slideshow": {
     "slide_type": "-"
    }
   },
   "outputs": [],
   "source": [
    "myExpOverGenes = refSeqGenes.join(experiment=myConfirmExp, refName=\"gene\",\n",
    "                                  genometric_predicate=[gl.DLE(0)],\n",
    "                                  output=\"RIGHT_DISTINCT\")"
   ]
  },
  {
   "cell_type": "markdown",
   "metadata": {
    "nbpresent": {
     "id": "a3f4a550-f113-4ae0-9fde-451444a120f3"
    },
    "slideshow": {
     "slide_type": "slide"
    }
   },
   "source": [
    "## Map\n",
    "Now in ```insideGene``` we have the set of highly confident Chip-Seq regions that intersect with a gene. In order to see how many mutations happen in those region we can use the ```map``` operation. This operation will add a new attribute to the resulting dataset which will be named ```count_GENE_MUTATION```.\n",
    "\n",
    "<img src=\"./images/map.PNG\">"
   ]
  },
  {
   "cell_type": "code",
   "execution_count": 11,
   "metadata": {
    "collapsed": true,
    "nbpresent": {
     "id": "43aa7a6e-436d-475b-b88c-ea388e78c90d"
    },
    "slideshow": {
     "slide_type": "-"
    }
   },
   "outputs": [],
   "source": [
    "myMutOverExp = myExpOverGenes.map(myMut, expName=\"MUTATION\", refName=\"GENE\")"
   ]
  },
  {
   "cell_type": "markdown",
   "metadata": {
    "nbpresent": {
     "id": "86d86311-3925-490a-9bdb-0381e40bbd33"
    },
    "slideshow": {
     "slide_type": "slide"
    }
   },
   "source": [
    "## Selection on regions\n",
    "In order to filter out all the regions in ```mutationCount``` that do not have any mutation we can do a selection on region data using the ```reg_select``` operation. This operation takes as input a predicate on region fields."
   ]
  },
  {
   "cell_type": "code",
   "execution_count": 12,
   "metadata": {
    "collapsed": true,
    "nbpresent": {
     "id": "146f1f1f-f59e-4ab1-b2b9-672f2c3e16e1"
    },
    "slideshow": {
     "slide_type": "-"
    }
   },
   "outputs": [],
   "source": [
    "myFilteredExp = myMutOverExp.reg_select(myMutOverExp.count_GENE_MUTATION > 0)"
   ]
  },
  {
   "cell_type": "markdown",
   "metadata": {
    "nbpresent": {
     "id": "3c53935c-8bfe-4204-84ec-90f7d54d16a5"
    },
    "slideshow": {
     "slide_type": "slide"
    }
   },
   "source": [
    "## Materialization\n",
    "We can now materialize the result. PyGMQL adopts a *lazy loading* approach (like Spark) and no action is performed until materialization. The result can be saved as a GDM dataset and also directly loaded in python as a ```GDataframe```."
   ]
  },
  {
   "cell_type": "code",
   "execution_count": 13,
   "metadata": {
    "nbpresent": {
     "id": "4d1eacbc-bfb0-4c21-8ded-66210e5962f9"
    },
    "slideshow": {
     "slide_type": "-"
    }
   },
   "outputs": [
    {
     "name": "stderr",
     "output_type": "stream",
     "text": [
      "100%|████████████████████████████████████████████████████████████████████████████| 108/108 [00:00<00:00, 107750.91it/s]\n",
      "100%|███████████████████████████████████████████████████████████████████████████████| 162/162 [00:00<00:00, 395.62it/s]\n"
     ]
    }
   ],
   "source": [
    "result = myFilteredExp.materialize()"
   ]
  },
  {
   "cell_type": "markdown",
   "metadata": {
    "nbpresent": {
     "id": "dd5f3e14-b9d6-4b2d-8915-5a31e6eb6299"
    },
    "slideshow": {
     "slide_type": "slide"
    }
   },
   "source": [
    "## The GDataframe\n",
    "The result of a materialization is a ```GDataframe``` which contains both regions and metadata as two Pandas dataframes ```regs``` and ```meta```"
   ]
  },
  {
   "cell_type": "code",
   "execution_count": 14,
   "metadata": {
    "nbpresent": {
     "id": "56debe28-c9c1-4d2e-9e72-8fd0611a7f3b"
    },
    "slideshow": {
     "slide_type": "-"
    }
   },
   "outputs": [
    {
     "data": {
      "text/html": [
       "<div>\n",
       "<style scoped>\n",
       "    .dataframe tbody tr th:only-of-type {\n",
       "        vertical-align: middle;\n",
       "    }\n",
       "\n",
       "    .dataframe tbody tr th {\n",
       "        vertical-align: top;\n",
       "    }\n",
       "\n",
       "    .dataframe thead th {\n",
       "        text-align: right;\n",
       "    }\n",
       "</style>\n",
       "<table border=\"1\" class=\"dataframe\">\n",
       "  <thead>\n",
       "    <tr style=\"text-align: right;\">\n",
       "      <th></th>\n",
       "      <th>chr</th>\n",
       "      <th>start</th>\n",
       "      <th>stop</th>\n",
       "      <th>strand</th>\n",
       "      <th>AccIndex</th>\n",
       "      <th>JaccardIntersect</th>\n",
       "      <th>JaccardResult</th>\n",
       "      <th>count_GENE_MUTATION</th>\n",
       "    </tr>\n",
       "    <tr>\n",
       "      <th>id_sample</th>\n",
       "      <th></th>\n",
       "      <th></th>\n",
       "      <th></th>\n",
       "      <th></th>\n",
       "      <th></th>\n",
       "      <th></th>\n",
       "      <th></th>\n",
       "      <th></th>\n",
       "    </tr>\n",
       "  </thead>\n",
       "  <tbody>\n",
       "    <tr>\n",
       "      <th>6829036658103970262</th>\n",
       "      <td>chr1</td>\n",
       "      <td>956167</td>\n",
       "      <td>957032</td>\n",
       "      <td>*</td>\n",
       "      <td>2</td>\n",
       "      <td>0.521713</td>\n",
       "      <td>0.521713</td>\n",
       "      <td>22.0</td>\n",
       "    </tr>\n",
       "    <tr>\n",
       "      <th>7322553018295201991</th>\n",
       "      <td>chr1</td>\n",
       "      <td>202204798</td>\n",
       "      <td>202205916</td>\n",
       "      <td>*</td>\n",
       "      <td>3</td>\n",
       "      <td>0.949066</td>\n",
       "      <td>0.390492</td>\n",
       "      <td>5.0</td>\n",
       "    </tr>\n",
       "    <tr>\n",
       "      <th>8655783753907876868</th>\n",
       "      <td>chr1</td>\n",
       "      <td>202204798</td>\n",
       "      <td>202205916</td>\n",
       "      <td>*</td>\n",
       "      <td>3</td>\n",
       "      <td>0.949066</td>\n",
       "      <td>0.390492</td>\n",
       "      <td>1.0</td>\n",
       "    </tr>\n",
       "    <tr>\n",
       "      <th>397924161598878532</th>\n",
       "      <td>chr1</td>\n",
       "      <td>3427054</td>\n",
       "      <td>3427635</td>\n",
       "      <td>*</td>\n",
       "      <td>2</td>\n",
       "      <td>0.401798</td>\n",
       "      <td>0.401798</td>\n",
       "      <td>6.0</td>\n",
       "    </tr>\n",
       "    <tr>\n",
       "      <th>6829036658103970262</th>\n",
       "      <td>chr1</td>\n",
       "      <td>202204798</td>\n",
       "      <td>202205916</td>\n",
       "      <td>*</td>\n",
       "      <td>3</td>\n",
       "      <td>0.949066</td>\n",
       "      <td>0.390492</td>\n",
       "      <td>7.0</td>\n",
       "    </tr>\n",
       "  </tbody>\n",
       "</table>\n",
       "</div>"
      ],
      "text/plain": [
       "                      chr      start       stop strand  AccIndex  \\\n",
       "id_sample                                                          \n",
       "6829036658103970262  chr1     956167     957032      *         2   \n",
       "7322553018295201991  chr1  202204798  202205916      *         3   \n",
       "8655783753907876868  chr1  202204798  202205916      *         3   \n",
       "397924161598878532   chr1    3427054    3427635      *         2   \n",
       "6829036658103970262  chr1  202204798  202205916      *         3   \n",
       "\n",
       "                     JaccardIntersect  JaccardResult  count_GENE_MUTATION  \n",
       "id_sample                                                                  \n",
       "6829036658103970262          0.521713       0.521713                 22.0  \n",
       "7322553018295201991          0.949066       0.390492                  5.0  \n",
       "8655783753907876868          0.949066       0.390492                  1.0  \n",
       "397924161598878532           0.401798       0.401798                  6.0  \n",
       "6829036658103970262          0.949066       0.390492                  7.0  "
      ]
     },
     "execution_count": 14,
     "metadata": {},
     "output_type": "execute_result"
    }
   ],
   "source": [
    "# result.regs.sort_values(by='start').head()\n",
    "result.regs.head()"
   ]
  },
  {
   "cell_type": "code",
   "execution_count": 15,
   "metadata": {
    "nbpresent": {
     "id": "0e468622-0735-40d6-838c-1b41b11602bd"
    },
    "scrolled": true
   },
   "outputs": [
    {
     "name": "stdout",
     "output_type": "stream",
     "text": [
      " Number of regions and columns:   (108, 8)\n",
      " Number of samples:  12\n"
     ]
    }
   ],
   "source": [
    "print('\\x1b[1;34m', 'Number of regions and columns: ', '\\x1b[0m', result.regs.shape)\n",
    "print('\\x1b[1;34m', \"Number of samples:\", '\\x1b[0m', len(set(result.regs.index)))"
   ]
  },
  {
   "cell_type": "markdown",
   "metadata": {
    "nbpresent": {
     "id": "048d008e-b686-45b0-89b2-12bd9d57f9d0"
    },
    "slideshow": {
     "slide_type": "-"
    }
   },
   "source": [
    "The region dataframe represents the regions in the output result in a tabular format. The index of the regions is the identifier of the sample they belong to."
   ]
  },
  {
   "cell_type": "code",
   "execution_count": 16,
   "metadata": {
    "nbpresent": {
     "id": "fad99430-1239-410c-9cf7-88ad5020cf6a"
    },
    "slideshow": {
     "slide_type": "slide"
    }
   },
   "outputs": [
    {
     "data": {
      "text/html": [
       "<div>\n",
       "<style scoped>\n",
       "    .dataframe tbody tr th:only-of-type {\n",
       "        vertical-align: middle;\n",
       "    }\n",
       "\n",
       "    .dataframe tbody tr th {\n",
       "        vertical-align: top;\n",
       "    }\n",
       "\n",
       "    .dataframe thead th {\n",
       "        text-align: right;\n",
       "    }\n",
       "</style>\n",
       "<table border=\"1\" class=\"dataframe\">\n",
       "  <thead>\n",
       "    <tr style=\"text-align: right;\">\n",
       "      <th></th>\n",
       "      <th>GENE.HM_TF.type</th>\n",
       "      <th>GENE.DNAse.cell</th>\n",
       "      <th>MUTATION.disease</th>\n",
       "      <th>MUTATION.type</th>\n",
       "    </tr>\n",
       "    <tr>\n",
       "      <th>id_sample</th>\n",
       "      <th></th>\n",
       "      <th></th>\n",
       "      <th></th>\n",
       "      <th></th>\n",
       "    </tr>\n",
       "  </thead>\n",
       "  <tbody>\n",
       "    <tr>\n",
       "      <th>-8887459254116471869</th>\n",
       "      <td>[broadPeak]</td>\n",
       "      <td>[ECC-1]</td>\n",
       "      <td>[Breast cancer]</td>\n",
       "      <td>[single_base_substitution]</td>\n",
       "    </tr>\n",
       "    <tr>\n",
       "      <th>-4655530052381220435</th>\n",
       "      <td>[broadPeak]</td>\n",
       "      <td>[ECC-1]</td>\n",
       "      <td>[Thyroid cancer]</td>\n",
       "      <td>[single_base_substitution]</td>\n",
       "    </tr>\n",
       "    <tr>\n",
       "      <th>-2300686516048319133</th>\n",
       "      <td>[broadPeak]</td>\n",
       "      <td>[ECC-1]</td>\n",
       "      <td>[Pancreatic cancer]</td>\n",
       "      <td>[single_base_substitution]</td>\n",
       "    </tr>\n",
       "  </tbody>\n",
       "</table>\n",
       "</div>"
      ],
      "text/plain": [
       "                     GENE.HM_TF.type GENE.DNAse.cell     MUTATION.disease  \\\n",
       "id_sample                                                                   \n",
       "-8887459254116471869     [broadPeak]         [ECC-1]      [Breast cancer]   \n",
       "-4655530052381220435     [broadPeak]         [ECC-1]     [Thyroid cancer]   \n",
       "-2300686516048319133     [broadPeak]         [ECC-1]  [Pancreatic cancer]   \n",
       "\n",
       "                                   MUTATION.type  \n",
       "id_sample                                         \n",
       "-8887459254116471869  [single_base_substitution]  \n",
       "-4655530052381220435  [single_base_substitution]  \n",
       "-2300686516048319133  [single_base_substitution]  "
      ]
     },
     "execution_count": 16,
     "metadata": {},
     "output_type": "execute_result"
    }
   ],
   "source": [
    "result.meta[[\"GENE.HM_TF.type\",\"GENE.DNAse.cell\",\"MUTATION.disease\"\n",
    "             ,\"MUTATION.type\"]].head(3)"
   ]
  },
  {
   "cell_type": "markdown",
   "metadata": {
    "nbpresent": {
     "id": "4c1d9cf6-07c1-47a0-a310-776e6ade6665"
    },
    "slideshow": {
     "slide_type": "-"
    }
   },
   "source": [
    "The metadata dataframe has as columns all the metadata attributes and every row represents a sample in the output dataset. \n",
    "\n",
    "There can be multiple values in the same cell."
   ]
  },
  {
   "cell_type": "markdown",
   "metadata": {
    "nbpresent": {
     "id": "532885c3-e439-4626-a1c3-a3ff390de349"
    }
   },
   "source": [
    "## Additional operations"
   ]
  },
  {
   "cell_type": "markdown",
   "metadata": {
    "nbpresent": {
     "id": "6699866e-1dd4-4a0d-88ba-62a471c0b298"
    },
    "slideshow": {
     "slide_type": "slide"
    }
   },
   "source": [
    "Display the mean and median:"
   ]
  },
  {
   "cell_type": "code",
   "execution_count": 17,
   "metadata": {},
   "outputs": [
    {
     "data": {
      "text/plain": [
       "Index(['chr', 'start', 'stop', 'strand', 'AccIndex', 'JaccardIntersect',\n",
       "       'JaccardResult', 'count_GENE_MUTATION'],\n",
       "      dtype='object')"
      ]
     },
     "execution_count": 17,
     "metadata": {},
     "output_type": "execute_result"
    }
   ],
   "source": [
    "result.regs.columns"
   ]
  },
  {
   "cell_type": "code",
   "execution_count": 18,
   "metadata": {
    "nbpresent": {
     "id": "25cc3f1b-2e2a-401f-8465-a6b6b0d44ff0"
    },
    "slideshow": {
     "slide_type": "-"
    }
   },
   "outputs": [
    {
     "name": "stdout",
     "output_type": "stream",
     "text": [
      " mean:     4.87037037037037\n",
      " median:   4.0\n"
     ]
    }
   ],
   "source": [
    "mean = result.regs['count_GENE_MUTATION'].mean()\n",
    "print('\\x1b[1;34m', 'mean:   ', '\\x1b[0m', mean)\n",
    "median = result.regs['count_GENE_MUTATION'].median()\n",
    "print('\\x1b[1;34m', 'median: ', '\\x1b[0m', median)\n",
    "# result.regs[result.regs['count_gene_mutation'] > 15]"
   ]
  },
  {
   "cell_type": "markdown",
   "metadata": {
    "nbpresent": {
     "id": "d94cfaea-8b04-4b54-9dac-3530adf1bb30"
    },
    "slideshow": {
     "slide_type": "slide"
    }
   },
   "source": [
    "\n",
    "Having the result in a Pandas dataframe enables us to use all the Pandas functions and perform some statistics.\n",
    "\n",
    "For example we can do an histogram of the mutation counts over the Chip-Seq regions showing the distribution of the number of mutations over those regions."
   ]
  },
  {
   "cell_type": "code",
   "execution_count": 19,
   "metadata": {
    "nbpresent": {
     "id": "131642d3-9043-4a98-9569-f43ee283f5d8"
    },
    "slideshow": {
     "slide_type": "-"
    }
   },
   "outputs": [
    {
     "data": {
      "text/plain": [
       "<matplotlib.lines.Line2D at 0x1fa50afb630>"
      ]
     },
     "execution_count": 19,
     "metadata": {},
     "output_type": "execute_result"
    },
    {
     "data": {
      "image/png": "[encoded data removed]",
      "text/plain": [
       "<matplotlib.figure.Figure at 0x1fa50bca2e8>"
      ]
     },
     "metadata": {},
     "output_type": "display_data"
    }
   ],
   "source": [
    "# draw all\n",
    "result.regs.hist(\"count_GENE_MUTATION\", bins=int(result.regs['count_GENE_MUTATION'].max()/2),figsize=(10,8))\n",
    "plt.axvline(x=mean, color='red', linestyle='-')\n",
    "plt.axvline(x=median, color='orange', linestyle='--')"
   ]
  },
  {
   "cell_type": "markdown",
   "metadata": {
    "nbpresent": {
     "id": "933d6fd0-4390-4649-add3-0a0c00bdf9bb"
    },
    "slideshow": {
     "slide_type": "skip"
    }
   },
   "source": [
    "## Alternative experiment\n",
    "Mapping the mutations over the genes instead that over the experiment regions\n",
    "\n",
    "\n",
    "The GMQL query that we are going to present is the following:\n",
    "\n",
    "\n",
    ">    refSeqGenes  = SELECT(annotation_type == 'gene' AND provider == 'RefSeq') HG19_BED_ANNOTATION;\n",
    ">\n",
    ">    myExp  = SELECT() myRawExp;\n",
    ">    myConfirmExp  = COVER(2, ANY) myExp;\n",
    ">\n",
    ">    myExpOverGenes  = JOIN(DIST < 0; output: <font color=blue>__LEFT_DISTINCT__</font>) refSeqGenes myConfirmExp;\n",
    ">\n",
    ">    myMut  = SELECT() myRawMut;\n",
    ">    myMutOverExp = MAP() myExpOverGenes myMut;\n",
    ">\n",
    ">    myFilteredExp = SELECT(region: count_myMutOverExp_myMut > 0) myMutOverExp;\n",
    ">\n",
    ">    MATERIALIZE myFilteredExp INTO ./Results/FilteredExperiment\n"
   ]
  },
  {
   "cell_type": "code",
   "execution_count": 20,
   "metadata": {
    "nbpresent": {
     "id": "0a517e99-5cbd-4d8f-87fb-ceb2a5a55d60"
    }
   },
   "outputs": [
    {
     "name": "stderr",
     "output_type": "stream",
     "text": [
      "100%|██████████████████████████████████████████████████████████████████████████| 7307/7307 [00:00<00:00, 173506.15it/s]\n",
      "100%|███████████████████████████████████████████████████████████████████████████████████| 7/7 [00:00<00:00, 498.66it/s]\n"
     ]
    }
   ],
   "source": [
    "genesOverExp = refSeqGenes.join(experiment=myConfirmExp, refName=\"gene\",\n",
    "                                  genometric_predicate=[gl.DLE(0)],\n",
    "                                  output=\"LEFT_DISTINCT\")\n",
    "myMutOverGenes = genesOverExp.map(myMut, expName=\"MUTATION\", refName=\"GENE\")\n",
    "myFilteredGenes = myMutOverGenes.reg_select(myMutOverGenes.count_GENE_MUTATION > 0)\n",
    "result_genes = myFilteredGenes.materialize()"
   ]
  },
  {
   "cell_type": "code",
   "execution_count": 21,
   "metadata": {
    "nbpresent": {
     "id": "a2886362-23a4-4ffe-9279-890e7785ce84"
    }
   },
   "outputs": [
    {
     "data": {
      "text/html": [
       "<div>\n",
       "<style scoped>\n",
       "    .dataframe tbody tr th:only-of-type {\n",
       "        vertical-align: middle;\n",
       "    }\n",
       "\n",
       "    .dataframe tbody tr th {\n",
       "        vertical-align: top;\n",
       "    }\n",
       "\n",
       "    .dataframe thead th {\n",
       "        text-align: right;\n",
       "    }\n",
       "</style>\n",
       "<table border=\"1\" class=\"dataframe\">\n",
       "  <thead>\n",
       "    <tr style=\"text-align: right;\">\n",
       "      <th></th>\n",
       "      <th>chr</th>\n",
       "      <th>start</th>\n",
       "      <th>stop</th>\n",
       "      <th>strand</th>\n",
       "      <th>name</th>\n",
       "      <th>score</th>\n",
       "      <th>count_GENE_MUTATION</th>\n",
       "    </tr>\n",
       "    <tr>\n",
       "      <th>id_sample</th>\n",
       "      <th></th>\n",
       "      <th></th>\n",
       "      <th></th>\n",
       "      <th></th>\n",
       "      <th></th>\n",
       "      <th></th>\n",
       "      <th></th>\n",
       "    </tr>\n",
       "  </thead>\n",
       "  <tbody>\n",
       "    <tr>\n",
       "      <th>-1231030816949422728</th>\n",
       "      <td>chr1</td>\n",
       "      <td>42642209</td>\n",
       "      <td>42800636</td>\n",
       "      <td>-</td>\n",
       "      <td>NM_001198851</td>\n",
       "      <td>0.0</td>\n",
       "      <td>3.0</td>\n",
       "    </tr>\n",
       "    <tr>\n",
       "      <th>6829036658103970262</th>\n",
       "      <td>chr1</td>\n",
       "      <td>10270763</td>\n",
       "      <td>10368655</td>\n",
       "      <td>+</td>\n",
       "      <td>NM_183416</td>\n",
       "      <td>0.0</td>\n",
       "      <td>28.0</td>\n",
       "    </tr>\n",
       "    <tr>\n",
       "      <th>-1451580578250723319</th>\n",
       "      <td>chr1</td>\n",
       "      <td>167905796</td>\n",
       "      <td>168045083</td>\n",
       "      <td>+</td>\n",
       "      <td>NM_001198957</td>\n",
       "      <td>0.0</td>\n",
       "      <td>2.0</td>\n",
       "    </tr>\n",
       "    <tr>\n",
       "      <th>-8887459254116471869</th>\n",
       "      <td>chr1</td>\n",
       "      <td>41157241</td>\n",
       "      <td>41237275</td>\n",
       "      <td>+</td>\n",
       "      <td>NM_001142587</td>\n",
       "      <td>0.0</td>\n",
       "      <td>38.0</td>\n",
       "    </tr>\n",
       "    <tr>\n",
       "      <th>5977003163326493845</th>\n",
       "      <td>chr1</td>\n",
       "      <td>113009162</td>\n",
       "      <td>113063910</td>\n",
       "      <td>+</td>\n",
       "      <td>NM_004185</td>\n",
       "      <td>0.0</td>\n",
       "      <td>1.0</td>\n",
       "    </tr>\n",
       "  </tbody>\n",
       "</table>\n",
       "</div>"
      ],
      "text/plain": [
       "                       chr      start       stop strand          name  score  \\\n",
       "id_sample                                                                      \n",
       "-1231030816949422728  chr1   42642209   42800636      -  NM_001198851    0.0   \n",
       " 6829036658103970262  chr1   10270763   10368655      +     NM_183416    0.0   \n",
       "-1451580578250723319  chr1  167905796  168045083      +  NM_001198957    0.0   \n",
       "-8887459254116471869  chr1   41157241   41237275      +  NM_001142587    0.0   \n",
       " 5977003163326493845  chr1  113009162  113063910      +     NM_004185    0.0   \n",
       "\n",
       "                      count_GENE_MUTATION  \n",
       "id_sample                                  \n",
       "-1231030816949422728                  3.0  \n",
       " 6829036658103970262                 28.0  \n",
       "-1451580578250723319                  2.0  \n",
       "-8887459254116471869                 38.0  \n",
       " 5977003163326493845                  1.0  "
      ]
     },
     "execution_count": 21,
     "metadata": {},
     "output_type": "execute_result"
    }
   ],
   "source": [
    "result_genes.regs.head()"
   ]
  },
  {
   "cell_type": "code",
   "execution_count": 22,
   "metadata": {},
   "outputs": [
    {
     "name": "stdout",
     "output_type": "stream",
     "text": [
      " Number of regions and columns:   (7307, 7)\n",
      " Number of samples:  12\n"
     ]
    }
   ],
   "source": [
    "print('\\x1b[1;34m', 'Number of regions and columns: ', '\\x1b[0m', result_genes.regs.shape)\n",
    "print('\\x1b[1;34m', 'Number of samples:', '\\x1b[0m', len(set(result_genes.regs.index)))"
   ]
  },
  {
   "cell_type": "code",
   "execution_count": 23,
   "metadata": {
    "nbpresent": {
     "id": "13cfedbc-ff5b-4909-b509-2e7e90b38253"
    },
    "scrolled": true
   },
   "outputs": [
    {
     "name": "stdout",
     "output_type": "stream",
     "text": [
      " mean:       11.543998905159436\n",
      " median:     7.0\n"
     ]
    }
   ],
   "source": [
    "mean = result_genes.regs['count_GENE_MUTATION'].mean()\n",
    "print('\\x1b[1;34m', 'mean:     ', '\\x1b[0m', mean)\n",
    "median = result_genes.regs['count_GENE_MUTATION'].median()\n",
    "print('\\x1b[1;34m', 'median:   ', '\\x1b[0m', median)"
   ]
  },
  {
   "cell_type": "code",
   "execution_count": 24,
   "metadata": {
    "nbpresent": {
     "id": "c6ca74ea-d59e-4eb5-91bb-4612d197261c"
    }
   },
   "outputs": [
    {
     "data": {
      "text/plain": [
       "<matplotlib.lines.Line2D at 0x1fa51569630>"
      ]
     },
     "execution_count": 24,
     "metadata": {},
     "output_type": "execute_result"
    },
    {
     "data": {
      "image/png": "[encoded data removed]",
      "text/plain": [
       "<matplotlib.figure.Figure at 0x1fa50c3e080>"
      ]
     },
     "metadata": {},
     "output_type": "display_data"
    }
   ],
   "source": [
    "# draw all\n",
    "result_genes.regs.hist(\"count_GENE_MUTATION\", bins=int(result_genes.regs['count_GENE_MUTATION'].max()/4),figsize=(10,8))\n",
    "plt.axvline(x=mean, color='red', linestyle='-')\n",
    "plt.axvline(x=median, color='orange', linestyle='--')"
   ]
  },
  {
   "cell_type": "code",
   "execution_count": 25,
   "metadata": {
    "nbpresent": {
     "id": "19e80f90-47c8-46b5-8bd8-a076b78f92db"
    }
   },
   "outputs": [
    {
     "data": {
      "text/plain": [
       "<matplotlib.lines.Line2D at 0x1fa5121d8d0>"
      ]
     },
     "execution_count": 25,
     "metadata": {},
     "output_type": "execute_result"
    },
    {
     "data": {
      "image/png": "[encoded data removed]",
      "text/plain": [
       "<matplotlib.figure.Figure at 0x1fa50fb1828>"
      ]
     },
     "metadata": {},
     "output_type": "display_data"
    }
   ],
   "source": [
    "# draw less than 50\n",
    "threshold = 100\n",
    "result_genes.regs[result_genes.regs.count_GENE_MUTATION <=threshold].hist(\"count_GENE_MUTATION\", bins=int(threshold/4),figsize=(10,10))\n",
    "plt.axvline(x=mean, color='red', linestyle='-')\n",
    "plt.axvline(x=median, color='orange', linestyle='--')"
   ]
  },
  {
   "cell_type": "code",
   "execution_count": 26,
   "metadata": {
    "nbpresent": {
     "id": "0b825a1d-d9f4-441a-9706-2e7f72539e27"
    },
    "scrolled": true
   },
   "outputs": [
    {
     "name": "stdout",
     "output_type": "stream",
     "text": [
      " Number of regions less than threshold  44\n"
     ]
    },
    {
     "data": {
      "text/html": [
       "<div>\n",
       "<style scoped>\n",
       "    .dataframe tbody tr th:only-of-type {\n",
       "        vertical-align: middle;\n",
       "    }\n",
       "\n",
       "    .dataframe tbody tr th {\n",
       "        vertical-align: top;\n",
       "    }\n",
       "\n",
       "    .dataframe thead th {\n",
       "        text-align: right;\n",
       "    }\n",
       "</style>\n",
       "<table border=\"1\" class=\"dataframe\">\n",
       "  <thead>\n",
       "    <tr style=\"text-align: right;\">\n",
       "      <th></th>\n",
       "      <th>chr</th>\n",
       "      <th>start</th>\n",
       "      <th>stop</th>\n",
       "      <th>strand</th>\n",
       "      <th>name</th>\n",
       "      <th>score</th>\n",
       "      <th>count_GENE_MUTATION</th>\n",
       "    </tr>\n",
       "    <tr>\n",
       "      <th>id_sample</th>\n",
       "      <th></th>\n",
       "      <th></th>\n",
       "      <th></th>\n",
       "      <th></th>\n",
       "      <th></th>\n",
       "      <th></th>\n",
       "      <th></th>\n",
       "    </tr>\n",
       "  </thead>\n",
       "  <tbody>\n",
       "    <tr>\n",
       "      <th>-1808652156747894086</th>\n",
       "      <td>chr1</td>\n",
       "      <td>144146810</td>\n",
       "      <td>146467744</td>\n",
       "      <td>+</td>\n",
       "      <td>NM_001278267</td>\n",
       "      <td>0.0</td>\n",
       "      <td>296.0</td>\n",
       "    </tr>\n",
       "    <tr>\n",
       "      <th>-4655530052381220435</th>\n",
       "      <td>chr1</td>\n",
       "      <td>144146810</td>\n",
       "      <td>146467744</td>\n",
       "      <td>+</td>\n",
       "      <td>NM_001278267</td>\n",
       "      <td>0.0</td>\n",
       "      <td>274.0</td>\n",
       "    </tr>\n",
       "    <tr>\n",
       "      <th>-1451580578250723319</th>\n",
       "      <td>chr1</td>\n",
       "      <td>144146810</td>\n",
       "      <td>146467744</td>\n",
       "      <td>+</td>\n",
       "      <td>NM_001278267</td>\n",
       "      <td>0.0</td>\n",
       "      <td>269.0</td>\n",
       "    </tr>\n",
       "    <tr>\n",
       "      <th>-517799218115264915</th>\n",
       "      <td>chr1</td>\n",
       "      <td>144146810</td>\n",
       "      <td>146467744</td>\n",
       "      <td>+</td>\n",
       "      <td>NM_001278267</td>\n",
       "      <td>0.0</td>\n",
       "      <td>264.0</td>\n",
       "    </tr>\n",
       "    <tr>\n",
       "      <th>7322553018295201991</th>\n",
       "      <td>chr1</td>\n",
       "      <td>144146810</td>\n",
       "      <td>146467744</td>\n",
       "      <td>+</td>\n",
       "      <td>NM_001278267</td>\n",
       "      <td>0.0</td>\n",
       "      <td>258.0</td>\n",
       "    </tr>\n",
       "    <tr>\n",
       "      <th>6829036658103970262</th>\n",
       "      <td>chr1</td>\n",
       "      <td>144146810</td>\n",
       "      <td>146467744</td>\n",
       "      <td>+</td>\n",
       "      <td>NM_001278267</td>\n",
       "      <td>0.0</td>\n",
       "      <td>256.0</td>\n",
       "    </tr>\n",
       "    <tr>\n",
       "      <th>-2300686516048319133</th>\n",
       "      <td>chr1</td>\n",
       "      <td>144146810</td>\n",
       "      <td>146467744</td>\n",
       "      <td>+</td>\n",
       "      <td>NM_001278267</td>\n",
       "      <td>0.0</td>\n",
       "      <td>255.0</td>\n",
       "    </tr>\n",
       "    <tr>\n",
       "      <th>8655783753907876868</th>\n",
       "      <td>chr1</td>\n",
       "      <td>144146810</td>\n",
       "      <td>146467744</td>\n",
       "      <td>+</td>\n",
       "      <td>NM_001278267</td>\n",
       "      <td>0.0</td>\n",
       "      <td>250.0</td>\n",
       "    </tr>\n",
       "    <tr>\n",
       "      <th>-1231030816949422728</th>\n",
       "      <td>chr1</td>\n",
       "      <td>144146810</td>\n",
       "      <td>146467744</td>\n",
       "      <td>+</td>\n",
       "      <td>NM_001278267</td>\n",
       "      <td>0.0</td>\n",
       "      <td>241.0</td>\n",
       "    </tr>\n",
       "    <tr>\n",
       "      <th>5977003163326493845</th>\n",
       "      <td>chr1</td>\n",
       "      <td>144146810</td>\n",
       "      <td>146467744</td>\n",
       "      <td>+</td>\n",
       "      <td>NM_001278267</td>\n",
       "      <td>0.0</td>\n",
       "      <td>240.0</td>\n",
       "    </tr>\n",
       "    <tr>\n",
       "      <th>397924161598878532</th>\n",
       "      <td>chr1</td>\n",
       "      <td>144146810</td>\n",
       "      <td>146467744</td>\n",
       "      <td>+</td>\n",
       "      <td>NM_001278267</td>\n",
       "      <td>0.0</td>\n",
       "      <td>222.0</td>\n",
       "    </tr>\n",
       "    <tr>\n",
       "      <th>-8887459254116471869</th>\n",
       "      <td>chr1</td>\n",
       "      <td>144146810</td>\n",
       "      <td>146467744</td>\n",
       "      <td>+</td>\n",
       "      <td>NM_001278267</td>\n",
       "      <td>0.0</td>\n",
       "      <td>218.0</td>\n",
       "    </tr>\n",
       "    <tr>\n",
       "      <th>-1808652156747894086</th>\n",
       "      <td>chr1</td>\n",
       "      <td>144614958</td>\n",
       "      <td>145370304</td>\n",
       "      <td>+</td>\n",
       "      <td>NM_001277444</td>\n",
       "      <td>0.0</td>\n",
       "      <td>212.0</td>\n",
       "    </tr>\n",
       "    <tr>\n",
       "      <th>-4655530052381220435</th>\n",
       "      <td>chr1</td>\n",
       "      <td>144614958</td>\n",
       "      <td>145370304</td>\n",
       "      <td>+</td>\n",
       "      <td>NM_001277444</td>\n",
       "      <td>0.0</td>\n",
       "      <td>198.0</td>\n",
       "    </tr>\n",
       "    <tr>\n",
       "      <th>-4655530052381220435</th>\n",
       "      <td>chr1</td>\n",
       "      <td>145293370</td>\n",
       "      <td>146466121</td>\n",
       "      <td>+</td>\n",
       "      <td>NM_001039703</td>\n",
       "      <td>0.0</td>\n",
       "      <td>194.0</td>\n",
       "    </tr>\n",
       "    <tr>\n",
       "      <th>-1451580578250723319</th>\n",
       "      <td>chr1</td>\n",
       "      <td>145293370</td>\n",
       "      <td>146466121</td>\n",
       "      <td>+</td>\n",
       "      <td>NM_001039703</td>\n",
       "      <td>0.0</td>\n",
       "      <td>193.0</td>\n",
       "    </tr>\n",
       "    <tr>\n",
       "      <th>-8887459254116471869</th>\n",
       "      <td>chr1</td>\n",
       "      <td>145293370</td>\n",
       "      <td>146466121</td>\n",
       "      <td>+</td>\n",
       "      <td>NM_001039703</td>\n",
       "      <td>0.0</td>\n",
       "      <td>193.0</td>\n",
       "    </tr>\n",
       "    <tr>\n",
       "      <th>-517799218115264915</th>\n",
       "      <td>chr1</td>\n",
       "      <td>145293370</td>\n",
       "      <td>146466121</td>\n",
       "      <td>+</td>\n",
       "      <td>NM_001039703</td>\n",
       "      <td>0.0</td>\n",
       "      <td>193.0</td>\n",
       "    </tr>\n",
       "    <tr>\n",
       "      <th>-517799218115264915</th>\n",
       "      <td>chr1</td>\n",
       "      <td>144614958</td>\n",
       "      <td>145370304</td>\n",
       "      <td>+</td>\n",
       "      <td>NM_001277444</td>\n",
       "      <td>0.0</td>\n",
       "      <td>187.0</td>\n",
       "    </tr>\n",
       "    <tr>\n",
       "      <th>6829036658103970262</th>\n",
       "      <td>chr1</td>\n",
       "      <td>145293370</td>\n",
       "      <td>146466121</td>\n",
       "      <td>+</td>\n",
       "      <td>NM_001039703</td>\n",
       "      <td>0.0</td>\n",
       "      <td>182.0</td>\n",
       "    </tr>\n",
       "    <tr>\n",
       "      <th>-1808652156747894086</th>\n",
       "      <td>chr1</td>\n",
       "      <td>145293370</td>\n",
       "      <td>146466121</td>\n",
       "      <td>+</td>\n",
       "      <td>NM_001039703</td>\n",
       "      <td>0.0</td>\n",
       "      <td>181.0</td>\n",
       "    </tr>\n",
       "    <tr>\n",
       "      <th>7322553018295201991</th>\n",
       "      <td>chr1</td>\n",
       "      <td>145293370</td>\n",
       "      <td>146466121</td>\n",
       "      <td>+</td>\n",
       "      <td>NM_001039703</td>\n",
       "      <td>0.0</td>\n",
       "      <td>180.0</td>\n",
       "    </tr>\n",
       "    <tr>\n",
       "      <th>-2300686516048319133</th>\n",
       "      <td>chr1</td>\n",
       "      <td>144614958</td>\n",
       "      <td>145370304</td>\n",
       "      <td>+</td>\n",
       "      <td>NM_001277444</td>\n",
       "      <td>0.0</td>\n",
       "      <td>179.0</td>\n",
       "    </tr>\n",
       "    <tr>\n",
       "      <th>-1451580578250723319</th>\n",
       "      <td>chr1</td>\n",
       "      <td>144614958</td>\n",
       "      <td>145370304</td>\n",
       "      <td>+</td>\n",
       "      <td>NM_001277444</td>\n",
       "      <td>0.0</td>\n",
       "      <td>179.0</td>\n",
       "    </tr>\n",
       "    <tr>\n",
       "      <th>-1231030816949422728</th>\n",
       "      <td>chr1</td>\n",
       "      <td>144614958</td>\n",
       "      <td>145370304</td>\n",
       "      <td>+</td>\n",
       "      <td>NM_001277444</td>\n",
       "      <td>0.0</td>\n",
       "      <td>178.0</td>\n",
       "    </tr>\n",
       "    <tr>\n",
       "      <th>7322553018295201991</th>\n",
       "      <td>chr1</td>\n",
       "      <td>144614958</td>\n",
       "      <td>145370304</td>\n",
       "      <td>+</td>\n",
       "      <td>NM_001277444</td>\n",
       "      <td>0.0</td>\n",
       "      <td>178.0</td>\n",
       "    </tr>\n",
       "    <tr>\n",
       "      <th>-2300686516048319133</th>\n",
       "      <td>chr1</td>\n",
       "      <td>145293370</td>\n",
       "      <td>146466121</td>\n",
       "      <td>+</td>\n",
       "      <td>NM_001039703</td>\n",
       "      <td>0.0</td>\n",
       "      <td>178.0</td>\n",
       "    </tr>\n",
       "    <tr>\n",
       "      <th>8655783753907876868</th>\n",
       "      <td>chr1</td>\n",
       "      <td>144614958</td>\n",
       "      <td>145370304</td>\n",
       "      <td>+</td>\n",
       "      <td>NM_001277444</td>\n",
       "      <td>0.0</td>\n",
       "      <td>177.0</td>\n",
       "    </tr>\n",
       "    <tr>\n",
       "      <th>5977003163326493845</th>\n",
       "      <td>chr1</td>\n",
       "      <td>144614958</td>\n",
       "      <td>145370304</td>\n",
       "      <td>+</td>\n",
       "      <td>NM_001277444</td>\n",
       "      <td>0.0</td>\n",
       "      <td>175.0</td>\n",
       "    </tr>\n",
       "    <tr>\n",
       "      <th>6829036658103970262</th>\n",
       "      <td>chr1</td>\n",
       "      <td>144614958</td>\n",
       "      <td>145370304</td>\n",
       "      <td>+</td>\n",
       "      <td>NM_001277444</td>\n",
       "      <td>0.0</td>\n",
       "      <td>169.0</td>\n",
       "    </tr>\n",
       "    <tr>\n",
       "      <th>8655783753907876868</th>\n",
       "      <td>chr1</td>\n",
       "      <td>145293370</td>\n",
       "      <td>146466121</td>\n",
       "      <td>+</td>\n",
       "      <td>NM_001039703</td>\n",
       "      <td>0.0</td>\n",
       "      <td>169.0</td>\n",
       "    </tr>\n",
       "    <tr>\n",
       "      <th>5977003163326493845</th>\n",
       "      <td>chr1</td>\n",
       "      <td>145293370</td>\n",
       "      <td>146466121</td>\n",
       "      <td>+</td>\n",
       "      <td>NM_001039703</td>\n",
       "      <td>0.0</td>\n",
       "      <td>163.0</td>\n",
       "    </tr>\n",
       "    <tr>\n",
       "      <th>397924161598878532</th>\n",
       "      <td>chr1</td>\n",
       "      <td>144614958</td>\n",
       "      <td>145370304</td>\n",
       "      <td>+</td>\n",
       "      <td>NM_001277444</td>\n",
       "      <td>0.0</td>\n",
       "      <td>157.0</td>\n",
       "    </tr>\n",
       "    <tr>\n",
       "      <th>397924161598878532</th>\n",
       "      <td>chr1</td>\n",
       "      <td>145293370</td>\n",
       "      <td>146466121</td>\n",
       "      <td>+</td>\n",
       "      <td>NM_001039703</td>\n",
       "      <td>0.0</td>\n",
       "      <td>154.0</td>\n",
       "    </tr>\n",
       "    <tr>\n",
       "      <th>-1231030816949422728</th>\n",
       "      <td>chr1</td>\n",
       "      <td>145293370</td>\n",
       "      <td>146466121</td>\n",
       "      <td>+</td>\n",
       "      <td>NM_001039703</td>\n",
       "      <td>0.0</td>\n",
       "      <td>150.0</td>\n",
       "    </tr>\n",
       "    <tr>\n",
       "      <th>-8887459254116471869</th>\n",
       "      <td>chr1</td>\n",
       "      <td>144614958</td>\n",
       "      <td>145370304</td>\n",
       "      <td>+</td>\n",
       "      <td>NM_001277444</td>\n",
       "      <td>0.0</td>\n",
       "      <td>137.0</td>\n",
       "    </tr>\n",
       "    <tr>\n",
       "      <th>-4655530052381220435</th>\n",
       "      <td>chr1</td>\n",
       "      <td>186029866</td>\n",
       "      <td>186446655</td>\n",
       "      <td>-</td>\n",
       "      <td>NR_031642</td>\n",
       "      <td>0.0</td>\n",
       "      <td>124.0</td>\n",
       "    </tr>\n",
       "    <tr>\n",
       "      <th>-2300686516048319133</th>\n",
       "      <td>chr1</td>\n",
       "      <td>186029866</td>\n",
       "      <td>186446655</td>\n",
       "      <td>-</td>\n",
       "      <td>NR_031642</td>\n",
       "      <td>0.0</td>\n",
       "      <td>117.0</td>\n",
       "    </tr>\n",
       "    <tr>\n",
       "      <th>8655783753907876868</th>\n",
       "      <td>chr1</td>\n",
       "      <td>186029866</td>\n",
       "      <td>186446655</td>\n",
       "      <td>-</td>\n",
       "      <td>NR_031642</td>\n",
       "      <td>0.0</td>\n",
       "      <td>115.0</td>\n",
       "    </tr>\n",
       "    <tr>\n",
       "      <th>-1808652156747894086</th>\n",
       "      <td>chr1</td>\n",
       "      <td>186029866</td>\n",
       "      <td>186446655</td>\n",
       "      <td>-</td>\n",
       "      <td>NR_031642</td>\n",
       "      <td>0.0</td>\n",
       "      <td>113.0</td>\n",
       "    </tr>\n",
       "    <tr>\n",
       "      <th>-517799218115264915</th>\n",
       "      <td>chr1</td>\n",
       "      <td>186029866</td>\n",
       "      <td>186446655</td>\n",
       "      <td>-</td>\n",
       "      <td>NR_031642</td>\n",
       "      <td>0.0</td>\n",
       "      <td>111.0</td>\n",
       "    </tr>\n",
       "    <tr>\n",
       "      <th>-1451580578250723319</th>\n",
       "      <td>chr1</td>\n",
       "      <td>186029866</td>\n",
       "      <td>186446655</td>\n",
       "      <td>-</td>\n",
       "      <td>NR_031642</td>\n",
       "      <td>0.0</td>\n",
       "      <td>110.0</td>\n",
       "    </tr>\n",
       "    <tr>\n",
       "      <th>7322553018295201991</th>\n",
       "      <td>chr1</td>\n",
       "      <td>186029866</td>\n",
       "      <td>186446655</td>\n",
       "      <td>-</td>\n",
       "      <td>NR_031642</td>\n",
       "      <td>0.0</td>\n",
       "      <td>108.0</td>\n",
       "    </tr>\n",
       "    <tr>\n",
       "      <th>5977003163326493845</th>\n",
       "      <td>chr1</td>\n",
       "      <td>186029866</td>\n",
       "      <td>186446655</td>\n",
       "      <td>-</td>\n",
       "      <td>NR_031642</td>\n",
       "      <td>0.0</td>\n",
       "      <td>106.0</td>\n",
       "    </tr>\n",
       "  </tbody>\n",
       "</table>\n",
       "</div>"
      ],
      "text/plain": [
       "                       chr      start       stop strand          name  score  \\\n",
       "id_sample                                                                      \n",
       "-1808652156747894086  chr1  144146810  146467744      +  NM_001278267    0.0   \n",
       "-4655530052381220435  chr1  144146810  146467744      +  NM_001278267    0.0   \n",
       "-1451580578250723319  chr1  144146810  146467744      +  NM_001278267    0.0   \n",
       "-517799218115264915   chr1  144146810  146467744      +  NM_001278267    0.0   \n",
       " 7322553018295201991  chr1  144146810  146467744      +  NM_001278267    0.0   \n",
       " 6829036658103970262  chr1  144146810  146467744      +  NM_001278267    0.0   \n",
       "-2300686516048319133  chr1  144146810  146467744      +  NM_001278267    0.0   \n",
       " 8655783753907876868  chr1  144146810  146467744      +  NM_001278267    0.0   \n",
       "-1231030816949422728  chr1  144146810  146467744      +  NM_001278267    0.0   \n",
       " 5977003163326493845  chr1  144146810  146467744      +  NM_001278267    0.0   \n",
       " 397924161598878532   chr1  144146810  146467744      +  NM_001278267    0.0   \n",
       "-8887459254116471869  chr1  144146810  146467744      +  NM_001278267    0.0   \n",
       "-1808652156747894086  chr1  144614958  145370304      +  NM_001277444    0.0   \n",
       "-4655530052381220435  chr1  144614958  145370304      +  NM_001277444    0.0   \n",
       "-4655530052381220435  chr1  145293370  146466121      +  NM_001039703    0.0   \n",
       "-1451580578250723319  chr1  145293370  146466121      +  NM_001039703    0.0   \n",
       "-8887459254116471869  chr1  145293370  146466121      +  NM_001039703    0.0   \n",
       "-517799218115264915   chr1  145293370  146466121      +  NM_001039703    0.0   \n",
       "-517799218115264915   chr1  144614958  145370304      +  NM_001277444    0.0   \n",
       " 6829036658103970262  chr1  145293370  146466121      +  NM_001039703    0.0   \n",
       "-1808652156747894086  chr1  145293370  146466121      +  NM_001039703    0.0   \n",
       " 7322553018295201991  chr1  145293370  146466121      +  NM_001039703    0.0   \n",
       "-2300686516048319133  chr1  144614958  145370304      +  NM_001277444    0.0   \n",
       "-1451580578250723319  chr1  144614958  145370304      +  NM_001277444    0.0   \n",
       "-1231030816949422728  chr1  144614958  145370304      +  NM_001277444    0.0   \n",
       " 7322553018295201991  chr1  144614958  145370304      +  NM_001277444    0.0   \n",
       "-2300686516048319133  chr1  145293370  146466121      +  NM_001039703    0.0   \n",
       " 8655783753907876868  chr1  144614958  145370304      +  NM_001277444    0.0   \n",
       " 5977003163326493845  chr1  144614958  145370304      +  NM_001277444    0.0   \n",
       " 6829036658103970262  chr1  144614958  145370304      +  NM_001277444    0.0   \n",
       " 8655783753907876868  chr1  145293370  146466121      +  NM_001039703    0.0   \n",
       " 5977003163326493845  chr1  145293370  146466121      +  NM_001039703    0.0   \n",
       " 397924161598878532   chr1  144614958  145370304      +  NM_001277444    0.0   \n",
       " 397924161598878532   chr1  145293370  146466121      +  NM_001039703    0.0   \n",
       "-1231030816949422728  chr1  145293370  146466121      +  NM_001039703    0.0   \n",
       "-8887459254116471869  chr1  144614958  145370304      +  NM_001277444    0.0   \n",
       "-4655530052381220435  chr1  186029866  186446655      -     NR_031642    0.0   \n",
       "-2300686516048319133  chr1  186029866  186446655      -     NR_031642    0.0   \n",
       " 8655783753907876868  chr1  186029866  186446655      -     NR_031642    0.0   \n",
       "-1808652156747894086  chr1  186029866  186446655      -     NR_031642    0.0   \n",
       "-517799218115264915   chr1  186029866  186446655      -     NR_031642    0.0   \n",
       "-1451580578250723319  chr1  186029866  186446655      -     NR_031642    0.0   \n",
       " 7322553018295201991  chr1  186029866  186446655      -     NR_031642    0.0   \n",
       " 5977003163326493845  chr1  186029866  186446655      -     NR_031642    0.0   \n",
       "\n",
       "                      count_GENE_MUTATION  \n",
       "id_sample                                  \n",
       "-1808652156747894086                296.0  \n",
       "-4655530052381220435                274.0  \n",
       "-1451580578250723319                269.0  \n",
       "-517799218115264915                 264.0  \n",
       " 7322553018295201991                258.0  \n",
       " 6829036658103970262                256.0  \n",
       "-2300686516048319133                255.0  \n",
       " 8655783753907876868                250.0  \n",
       "-1231030816949422728                241.0  \n",
       " 5977003163326493845                240.0  \n",
       " 397924161598878532                 222.0  \n",
       "-8887459254116471869                218.0  \n",
       "-1808652156747894086                212.0  \n",
       "-4655530052381220435                198.0  \n",
       "-4655530052381220435                194.0  \n",
       "-1451580578250723319                193.0  \n",
       "-8887459254116471869                193.0  \n",
       "-517799218115264915                 193.0  \n",
       "-517799218115264915                 187.0  \n",
       " 6829036658103970262                182.0  \n",
       "-1808652156747894086                181.0  \n",
       " 7322553018295201991                180.0  \n",
       "-2300686516048319133                179.0  \n",
       "-1451580578250723319                179.0  \n",
       "-1231030816949422728                178.0  \n",
       " 7322553018295201991                178.0  \n",
       "-2300686516048319133                178.0  \n",
       " 8655783753907876868                177.0  \n",
       " 5977003163326493845                175.0  \n",
       " 6829036658103970262                169.0  \n",
       " 8655783753907876868                169.0  \n",
       " 5977003163326493845                163.0  \n",
       " 397924161598878532                 157.0  \n",
       " 397924161598878532                 154.0  \n",
       "-1231030816949422728                150.0  \n",
       "-8887459254116471869                137.0  \n",
       "-4655530052381220435                124.0  \n",
       "-2300686516048319133                117.0  \n",
       " 8655783753907876868                115.0  \n",
       "-1808652156747894086                113.0  \n",
       "-517799218115264915                 111.0  \n",
       "-1451580578250723319                110.0  \n",
       " 7322553018295201991                108.0  \n",
       " 5977003163326493845                106.0  "
      ]
     },
     "execution_count": 26,
     "metadata": {},
     "output_type": "execute_result"
    }
   ],
   "source": [
    "morethan = result_genes.regs[result_genes.regs.count_GENE_MUTATION > threshold].sort_values(\"count_GENE_MUTATION\", ascending=False)\n",
    "print('\\x1b[1;34m', 'Number of regions less than threshold', '\\x1b[0m', len(morethan))\n",
    "morethan"
   ]
  },
  {
   "cell_type": "markdown",
   "metadata": {
    "nbpresent": {
     "id": "4c52963a-648a-485a-aa27-08cf29675b8a"
    }
   },
   "source": [
    "# MACHINE LEARNING clustering"
   ]
  },
  {
   "cell_type": "markdown",
   "metadata": {
    "nbpresent": {
     "id": "e5249895-9b50-4621-843d-b8ffdb08bafc"
    }
   },
   "source": [
    "## Loading data into GenometricSpace\n",
    "__GenometricSpace:__ is a data structure that contains the 2D/3D matrix.   \n",
    "As a first step, the data is loaded as a result of GMQL and then converts into the GenometricSpace"
   ]
  },
  {
   "cell_type": "code",
   "execution_count": 27,
   "metadata": {
    "collapsed": true,
    "nbpresent": {
     "id": "421bbd03-0180-41ad-a499-71e2c0e57964"
    }
   },
   "outputs": [],
   "source": [
    "from gmql.ml import GenometricSpace\n",
    "import numpy as np\n",
    "d = result_genes.to_genomic_space()"
   ]
  },
  {
   "cell_type": "markdown",
   "metadata": {
    "nbpresent": {
     "id": "44a964fe-2bca-4abe-a1ac-b9ffaf3686c6"
    }
   },
   "source": [
    "### The data structure before the conversion"
   ]
  },
  {
   "cell_type": "code",
   "execution_count": 28,
   "metadata": {
    "scrolled": true
   },
   "outputs": [
    {
     "name": "stdout",
     "output_type": "stream",
     "text": [
      "Data shape (7307, 8)\n"
     ]
    },
    {
     "data": {
      "text/html": [
       "<div>\n",
       "<style scoped>\n",
       "    .dataframe tbody tr th:only-of-type {\n",
       "        vertical-align: middle;\n",
       "    }\n",
       "\n",
       "    .dataframe tbody tr th {\n",
       "        vertical-align: top;\n",
       "    }\n",
       "\n",
       "    .dataframe thead th {\n",
       "        text-align: right;\n",
       "    }\n",
       "</style>\n",
       "<table border=\"1\" class=\"dataframe\">\n",
       "  <thead>\n",
       "    <tr style=\"text-align: right;\">\n",
       "      <th></th>\n",
       "      <th>chr</th>\n",
       "      <th>start</th>\n",
       "      <th>stop</th>\n",
       "      <th>strand</th>\n",
       "      <th>name</th>\n",
       "      <th>score</th>\n",
       "      <th>count_GENE_MUTATION</th>\n",
       "      <th>sample</th>\n",
       "    </tr>\n",
       "    <tr>\n",
       "      <th>id_sample</th>\n",
       "      <th></th>\n",
       "      <th></th>\n",
       "      <th></th>\n",
       "      <th></th>\n",
       "      <th></th>\n",
       "      <th></th>\n",
       "      <th></th>\n",
       "      <th></th>\n",
       "    </tr>\n",
       "  </thead>\n",
       "  <tbody>\n",
       "    <tr>\n",
       "      <th>-1231030816949422728</th>\n",
       "      <td>chr1</td>\n",
       "      <td>42642209</td>\n",
       "      <td>42800636</td>\n",
       "      <td>-</td>\n",
       "      <td>NM_001198851</td>\n",
       "      <td>0.0</td>\n",
       "      <td>3.0</td>\n",
       "      <td>-1231030816949422728</td>\n",
       "    </tr>\n",
       "    <tr>\n",
       "      <th>6829036658103970262</th>\n",
       "      <td>chr1</td>\n",
       "      <td>10270763</td>\n",
       "      <td>10368655</td>\n",
       "      <td>+</td>\n",
       "      <td>NM_183416</td>\n",
       "      <td>0.0</td>\n",
       "      <td>28.0</td>\n",
       "      <td>6829036658103970262</td>\n",
       "    </tr>\n",
       "    <tr>\n",
       "      <th>-1451580578250723319</th>\n",
       "      <td>chr1</td>\n",
       "      <td>167905796</td>\n",
       "      <td>168045083</td>\n",
       "      <td>+</td>\n",
       "      <td>NM_001198957</td>\n",
       "      <td>0.0</td>\n",
       "      <td>2.0</td>\n",
       "      <td>-1451580578250723319</td>\n",
       "    </tr>\n",
       "    <tr>\n",
       "      <th>-8887459254116471869</th>\n",
       "      <td>chr1</td>\n",
       "      <td>41157241</td>\n",
       "      <td>41237275</td>\n",
       "      <td>+</td>\n",
       "      <td>NM_001142587</td>\n",
       "      <td>0.0</td>\n",
       "      <td>38.0</td>\n",
       "      <td>-8887459254116471869</td>\n",
       "    </tr>\n",
       "    <tr>\n",
       "      <th>5977003163326493845</th>\n",
       "      <td>chr1</td>\n",
       "      <td>113009162</td>\n",
       "      <td>113063910</td>\n",
       "      <td>+</td>\n",
       "      <td>NM_004185</td>\n",
       "      <td>0.0</td>\n",
       "      <td>1.0</td>\n",
       "      <td>5977003163326493845</td>\n",
       "    </tr>\n",
       "  </tbody>\n",
       "</table>\n",
       "</div>"
      ],
      "text/plain": [
       "                       chr      start       stop strand          name  score  \\\n",
       "id_sample                                                                      \n",
       "-1231030816949422728  chr1   42642209   42800636      -  NM_001198851    0.0   \n",
       " 6829036658103970262  chr1   10270763   10368655      +     NM_183416    0.0   \n",
       "-1451580578250723319  chr1  167905796  168045083      +  NM_001198957    0.0   \n",
       "-8887459254116471869  chr1   41157241   41237275      +  NM_001142587    0.0   \n",
       " 5977003163326493845  chr1  113009162  113063910      +     NM_004185    0.0   \n",
       "\n",
       "                      count_GENE_MUTATION               sample  \n",
       "id_sample                                                       \n",
       "-1231030816949422728                  3.0 -1231030816949422728  \n",
       " 6829036658103970262                 28.0  6829036658103970262  \n",
       "-1451580578250723319                  2.0 -1451580578250723319  \n",
       "-8887459254116471869                 38.0 -8887459254116471869  \n",
       " 5977003163326493845                  1.0  5977003163326493845  "
      ]
     },
     "execution_count": 28,
     "metadata": {},
     "output_type": "execute_result"
    }
   ],
   "source": [
    "print(\"Data shape\", d.data.shape)\n",
    "d.data.head()"
   ]
  },
  {
   "cell_type": "markdown",
   "metadata": {
    "nbpresent": {
     "id": "2cffc4e9-0bd9-4e58-aef2-87336d1ea12e"
    }
   },
   "source": [
    "User selects the columns that will be available as columns index (name) and the numerical values which will be avaialble in 2D structure"
   ]
  },
  {
   "cell_type": "code",
   "execution_count": 29,
   "metadata": {
    "nbpresent": {
     "id": "096bc804-5005-419d-a6c1-db827cc42e6d"
    }
   },
   "outputs": [
    {
     "name": "stdout",
     "output_type": "stream",
     "text": [
      "started pivoting\n",
      "end of pivoting\n"
     ]
    }
   ],
   "source": [
    "selected_values = ['count_GENE_MUTATION']\n",
    "selected_region_data= ['name']\n",
    "# selected_region_data= ['chr','start','stop','strand']\n",
    "d.to_matrix(selected_values, selected_region_data, default_value=0)"
   ]
  },
  {
   "cell_type": "code",
   "execution_count": 30,
   "metadata": {
    "nbpresent": {
     "id": "d8f24994-779a-43ee-ac20-c65c3562bdd1"
    }
   },
   "outputs": [
    {
     "data": {
      "text/html": [
       "<div>\n",
       "<style scoped>\n",
       "    .dataframe tbody tr th:only-of-type {\n",
       "        vertical-align: middle;\n",
       "    }\n",
       "\n",
       "    .dataframe tbody tr th {\n",
       "        vertical-align: top;\n",
       "    }\n",
       "\n",
       "    .dataframe thead tr th {\n",
       "        text-align: left;\n",
       "    }\n",
       "\n",
       "    .dataframe thead tr:last-of-type th {\n",
       "        text-align: right;\n",
       "    }\n",
       "</style>\n",
       "<table border=\"1\" class=\"dataframe\">\n",
       "  <thead>\n",
       "    <tr>\n",
       "      <th></th>\n",
       "      <th colspan=\"21\" halign=\"left\">count_GENE_MUTATION</th>\n",
       "    </tr>\n",
       "    <tr>\n",
       "      <th>name</th>\n",
       "      <th>NM_000081</th>\n",
       "      <th>NM_000085</th>\n",
       "      <th>NM_000110</th>\n",
       "      <th>NM_000228</th>\n",
       "      <th>NM_000302</th>\n",
       "      <th>NM_000350</th>\n",
       "      <th>NM_000403</th>\n",
       "      <th>NM_000478</th>\n",
       "      <th>NM_000674</th>\n",
       "      <th>NM_000702</th>\n",
       "      <th>...</th>\n",
       "      <th>NR_073074</th>\n",
       "      <th>NR_103473</th>\n",
       "      <th>NR_103478</th>\n",
       "      <th>NR_103845</th>\n",
       "      <th>NR_107005</th>\n",
       "      <th>NR_109896</th>\n",
       "      <th>NR_110451</th>\n",
       "      <th>NR_110682</th>\n",
       "      <th>NR_110793</th>\n",
       "      <th>NR_111987</th>\n",
       "    </tr>\n",
       "    <tr>\n",
       "      <th>sample</th>\n",
       "      <th></th>\n",
       "      <th></th>\n",
       "      <th></th>\n",
       "      <th></th>\n",
       "      <th></th>\n",
       "      <th></th>\n",
       "      <th></th>\n",
       "      <th></th>\n",
       "      <th></th>\n",
       "      <th></th>\n",
       "      <th></th>\n",
       "      <th></th>\n",
       "      <th></th>\n",
       "      <th></th>\n",
       "      <th></th>\n",
       "      <th></th>\n",
       "      <th></th>\n",
       "      <th></th>\n",
       "      <th></th>\n",
       "      <th></th>\n",
       "      <th></th>\n",
       "    </tr>\n",
       "  </thead>\n",
       "  <tbody>\n",
       "    <tr>\n",
       "      <th>-8887459254116471869</th>\n",
       "      <td>6</td>\n",
       "      <td>3</td>\n",
       "      <td>14</td>\n",
       "      <td>0</td>\n",
       "      <td>0</td>\n",
       "      <td>2</td>\n",
       "      <td>31</td>\n",
       "      <td>0</td>\n",
       "      <td>0</td>\n",
       "      <td>10</td>\n",
       "      <td>...</td>\n",
       "      <td>10</td>\n",
       "      <td>9</td>\n",
       "      <td>3</td>\n",
       "      <td>0</td>\n",
       "      <td>0</td>\n",
       "      <td>0</td>\n",
       "      <td>12</td>\n",
       "      <td>2</td>\n",
       "      <td>8</td>\n",
       "      <td>10</td>\n",
       "    </tr>\n",
       "    <tr>\n",
       "      <th>-4655530052381220435</th>\n",
       "      <td>4</td>\n",
       "      <td>6</td>\n",
       "      <td>12</td>\n",
       "      <td>3</td>\n",
       "      <td>8</td>\n",
       "      <td>7</td>\n",
       "      <td>12</td>\n",
       "      <td>4</td>\n",
       "      <td>15</td>\n",
       "      <td>5</td>\n",
       "      <td>...</td>\n",
       "      <td>10</td>\n",
       "      <td>8</td>\n",
       "      <td>4</td>\n",
       "      <td>2</td>\n",
       "      <td>24</td>\n",
       "      <td>5</td>\n",
       "      <td>10</td>\n",
       "      <td>1</td>\n",
       "      <td>5</td>\n",
       "      <td>6</td>\n",
       "    </tr>\n",
       "    <tr>\n",
       "      <th>-2300686516048319133</th>\n",
       "      <td>6</td>\n",
       "      <td>7</td>\n",
       "      <td>6</td>\n",
       "      <td>1</td>\n",
       "      <td>4</td>\n",
       "      <td>4</td>\n",
       "      <td>15</td>\n",
       "      <td>4</td>\n",
       "      <td>10</td>\n",
       "      <td>8</td>\n",
       "      <td>...</td>\n",
       "      <td>8</td>\n",
       "      <td>10</td>\n",
       "      <td>2</td>\n",
       "      <td>3</td>\n",
       "      <td>29</td>\n",
       "      <td>7</td>\n",
       "      <td>10</td>\n",
       "      <td>1</td>\n",
       "      <td>3</td>\n",
       "      <td>9</td>\n",
       "    </tr>\n",
       "    <tr>\n",
       "      <th>-1808652156747894086</th>\n",
       "      <td>9</td>\n",
       "      <td>6</td>\n",
       "      <td>6</td>\n",
       "      <td>0</td>\n",
       "      <td>11</td>\n",
       "      <td>2</td>\n",
       "      <td>0</td>\n",
       "      <td>0</td>\n",
       "      <td>24</td>\n",
       "      <td>0</td>\n",
       "      <td>...</td>\n",
       "      <td>8</td>\n",
       "      <td>6</td>\n",
       "      <td>6</td>\n",
       "      <td>0</td>\n",
       "      <td>44</td>\n",
       "      <td>11</td>\n",
       "      <td>4</td>\n",
       "      <td>2</td>\n",
       "      <td>0</td>\n",
       "      <td>0</td>\n",
       "    </tr>\n",
       "    <tr>\n",
       "      <th>-1451580578250723319</th>\n",
       "      <td>6</td>\n",
       "      <td>6</td>\n",
       "      <td>7</td>\n",
       "      <td>1</td>\n",
       "      <td>2</td>\n",
       "      <td>4</td>\n",
       "      <td>16</td>\n",
       "      <td>4</td>\n",
       "      <td>15</td>\n",
       "      <td>4</td>\n",
       "      <td>...</td>\n",
       "      <td>9</td>\n",
       "      <td>7</td>\n",
       "      <td>5</td>\n",
       "      <td>4</td>\n",
       "      <td>20</td>\n",
       "      <td>4</td>\n",
       "      <td>9</td>\n",
       "      <td>2</td>\n",
       "      <td>3</td>\n",
       "      <td>5</td>\n",
       "    </tr>\n",
       "    <tr>\n",
       "      <th>-1231030816949422728</th>\n",
       "      <td>6</td>\n",
       "      <td>3</td>\n",
       "      <td>11</td>\n",
       "      <td>0</td>\n",
       "      <td>5</td>\n",
       "      <td>2</td>\n",
       "      <td>0</td>\n",
       "      <td>0</td>\n",
       "      <td>16</td>\n",
       "      <td>10</td>\n",
       "      <td>...</td>\n",
       "      <td>14</td>\n",
       "      <td>0</td>\n",
       "      <td>6</td>\n",
       "      <td>0</td>\n",
       "      <td>0</td>\n",
       "      <td>0</td>\n",
       "      <td>16</td>\n",
       "      <td>2</td>\n",
       "      <td>8</td>\n",
       "      <td>10</td>\n",
       "    </tr>\n",
       "    <tr>\n",
       "      <th>-517799218115264915</th>\n",
       "      <td>3</td>\n",
       "      <td>7</td>\n",
       "      <td>8</td>\n",
       "      <td>2</td>\n",
       "      <td>6</td>\n",
       "      <td>5</td>\n",
       "      <td>14</td>\n",
       "      <td>2</td>\n",
       "      <td>14</td>\n",
       "      <td>9</td>\n",
       "      <td>...</td>\n",
       "      <td>12</td>\n",
       "      <td>2</td>\n",
       "      <td>2</td>\n",
       "      <td>3</td>\n",
       "      <td>29</td>\n",
       "      <td>5</td>\n",
       "      <td>4</td>\n",
       "      <td>0</td>\n",
       "      <td>4</td>\n",
       "      <td>9</td>\n",
       "    </tr>\n",
       "    <tr>\n",
       "      <th>397924161598878532</th>\n",
       "      <td>6</td>\n",
       "      <td>3</td>\n",
       "      <td>10</td>\n",
       "      <td>0</td>\n",
       "      <td>5</td>\n",
       "      <td>2</td>\n",
       "      <td>0</td>\n",
       "      <td>0</td>\n",
       "      <td>0</td>\n",
       "      <td>10</td>\n",
       "      <td>...</td>\n",
       "      <td>10</td>\n",
       "      <td>0</td>\n",
       "      <td>6</td>\n",
       "      <td>0</td>\n",
       "      <td>0</td>\n",
       "      <td>0</td>\n",
       "      <td>16</td>\n",
       "      <td>2</td>\n",
       "      <td>8</td>\n",
       "      <td>10</td>\n",
       "    </tr>\n",
       "    <tr>\n",
       "      <th>5977003163326493845</th>\n",
       "      <td>3</td>\n",
       "      <td>4</td>\n",
       "      <td>9</td>\n",
       "      <td>1</td>\n",
       "      <td>5</td>\n",
       "      <td>5</td>\n",
       "      <td>18</td>\n",
       "      <td>3</td>\n",
       "      <td>12</td>\n",
       "      <td>6</td>\n",
       "      <td>...</td>\n",
       "      <td>9</td>\n",
       "      <td>8</td>\n",
       "      <td>1</td>\n",
       "      <td>1</td>\n",
       "      <td>26</td>\n",
       "      <td>6</td>\n",
       "      <td>10</td>\n",
       "      <td>0</td>\n",
       "      <td>2</td>\n",
       "      <td>9</td>\n",
       "    </tr>\n",
       "    <tr>\n",
       "      <th>6829036658103970262</th>\n",
       "      <td>6</td>\n",
       "      <td>6</td>\n",
       "      <td>9</td>\n",
       "      <td>0</td>\n",
       "      <td>5</td>\n",
       "      <td>4</td>\n",
       "      <td>0</td>\n",
       "      <td>0</td>\n",
       "      <td>24</td>\n",
       "      <td>10</td>\n",
       "      <td>...</td>\n",
       "      <td>18</td>\n",
       "      <td>6</td>\n",
       "      <td>6</td>\n",
       "      <td>0</td>\n",
       "      <td>30</td>\n",
       "      <td>11</td>\n",
       "      <td>4</td>\n",
       "      <td>2</td>\n",
       "      <td>8</td>\n",
       "      <td>5</td>\n",
       "    </tr>\n",
       "    <tr>\n",
       "      <th>7322553018295201991</th>\n",
       "      <td>2</td>\n",
       "      <td>9</td>\n",
       "      <td>5</td>\n",
       "      <td>1</td>\n",
       "      <td>4</td>\n",
       "      <td>3</td>\n",
       "      <td>11</td>\n",
       "      <td>2</td>\n",
       "      <td>10</td>\n",
       "      <td>7</td>\n",
       "      <td>...</td>\n",
       "      <td>5</td>\n",
       "      <td>7</td>\n",
       "      <td>3</td>\n",
       "      <td>3</td>\n",
       "      <td>23</td>\n",
       "      <td>6</td>\n",
       "      <td>8</td>\n",
       "      <td>2</td>\n",
       "      <td>2</td>\n",
       "      <td>9</td>\n",
       "    </tr>\n",
       "    <tr>\n",
       "      <th>8655783753907876868</th>\n",
       "      <td>4</td>\n",
       "      <td>9</td>\n",
       "      <td>9</td>\n",
       "      <td>2</td>\n",
       "      <td>5</td>\n",
       "      <td>3</td>\n",
       "      <td>20</td>\n",
       "      <td>5</td>\n",
       "      <td>10</td>\n",
       "      <td>8</td>\n",
       "      <td>...</td>\n",
       "      <td>9</td>\n",
       "      <td>9</td>\n",
       "      <td>5</td>\n",
       "      <td>2</td>\n",
       "      <td>27</td>\n",
       "      <td>4</td>\n",
       "      <td>5</td>\n",
       "      <td>2</td>\n",
       "      <td>4</td>\n",
       "      <td>7</td>\n",
       "    </tr>\n",
       "  </tbody>\n",
       "</table>\n",
       "<p>12 rows × 726 columns</p>\n",
       "</div>"
      ],
      "text/plain": [
       "                     count_GENE_MUTATION                                \\\n",
       "name                           NM_000081 NM_000085 NM_000110 NM_000228   \n",
       "sample                                                                   \n",
       "-8887459254116471869                   6         3        14         0   \n",
       "-4655530052381220435                   4         6        12         3   \n",
       "-2300686516048319133                   6         7         6         1   \n",
       "-1808652156747894086                   9         6         6         0   \n",
       "-1451580578250723319                   6         6         7         1   \n",
       "-1231030816949422728                   6         3        11         0   \n",
       "-517799218115264915                    3         7         8         2   \n",
       " 397924161598878532                    6         3        10         0   \n",
       " 5977003163326493845                   3         4         9         1   \n",
       " 6829036658103970262                   6         6         9         0   \n",
       " 7322553018295201991                   2         9         5         1   \n",
       " 8655783753907876868                   4         9         9         2   \n",
       "\n",
       "                                                                        \\\n",
       "name                 NM_000302 NM_000350 NM_000403 NM_000478 NM_000674   \n",
       "sample                                                                   \n",
       "-8887459254116471869         0         2        31         0         0   \n",
       "-4655530052381220435         8         7        12         4        15   \n",
       "-2300686516048319133         4         4        15         4        10   \n",
       "-1808652156747894086        11         2         0         0        24   \n",
       "-1451580578250723319         2         4        16         4        15   \n",
       "-1231030816949422728         5         2         0         0        16   \n",
       "-517799218115264915          6         5        14         2        14   \n",
       " 397924161598878532          5         2         0         0         0   \n",
       " 5977003163326493845         5         5        18         3        12   \n",
       " 6829036658103970262         5         4         0         0        24   \n",
       " 7322553018295201991         4         3        11         2        10   \n",
       " 8655783753907876868         5         3        20         5        10   \n",
       "\n",
       "                                  ...                                   \\\n",
       "name                 NM_000702    ...    NR_073074 NR_103473 NR_103478   \n",
       "sample                            ...                                    \n",
       "-8887459254116471869        10    ...           10         9         3   \n",
       "-4655530052381220435         5    ...           10         8         4   \n",
       "-2300686516048319133         8    ...            8        10         2   \n",
       "-1808652156747894086         0    ...            8         6         6   \n",
       "-1451580578250723319         4    ...            9         7         5   \n",
       "-1231030816949422728        10    ...           14         0         6   \n",
       "-517799218115264915          9    ...           12         2         2   \n",
       " 397924161598878532         10    ...           10         0         6   \n",
       " 5977003163326493845         6    ...            9         8         1   \n",
       " 6829036658103970262        10    ...           18         6         6   \n",
       " 7322553018295201991         7    ...            5         7         3   \n",
       " 8655783753907876868         8    ...            9         9         5   \n",
       "\n",
       "                                                                        \\\n",
       "name                 NR_103845 NR_107005 NR_109896 NR_110451 NR_110682   \n",
       "sample                                                                   \n",
       "-8887459254116471869         0         0         0        12         2   \n",
       "-4655530052381220435         2        24         5        10         1   \n",
       "-2300686516048319133         3        29         7        10         1   \n",
       "-1808652156747894086         0        44        11         4         2   \n",
       "-1451580578250723319         4        20         4         9         2   \n",
       "-1231030816949422728         0         0         0        16         2   \n",
       "-517799218115264915          3        29         5         4         0   \n",
       " 397924161598878532          0         0         0        16         2   \n",
       " 5977003163326493845         1        26         6        10         0   \n",
       " 6829036658103970262         0        30        11         4         2   \n",
       " 7322553018295201991         3        23         6         8         2   \n",
       " 8655783753907876868         2        27         4         5         2   \n",
       "\n",
       "                                          \n",
       "name                 NR_110793 NR_111987  \n",
       "sample                                    \n",
       "-8887459254116471869         8        10  \n",
       "-4655530052381220435         5         6  \n",
       "-2300686516048319133         3         9  \n",
       "-1808652156747894086         0         0  \n",
       "-1451580578250723319         3         5  \n",
       "-1231030816949422728         8        10  \n",
       "-517799218115264915          4         9  \n",
       " 397924161598878532          8        10  \n",
       " 5977003163326493845         2         9  \n",
       " 6829036658103970262         8         5  \n",
       " 7322553018295201991         2         9  \n",
       " 8655783753907876868         4         7  \n",
       "\n",
       "[12 rows x 726 columns]"
      ]
     },
     "execution_count": 30,
     "metadata": {},
     "output_type": "execute_result"
    }
   ],
   "source": [
    "d.data"
   ]
  },
  {
   "cell_type": "code",
   "execution_count": 31,
   "metadata": {},
   "outputs": [
    {
     "data": {
      "text/html": [
       "<div>\n",
       "<style scoped>\n",
       "    .dataframe tbody tr th:only-of-type {\n",
       "        vertical-align: middle;\n",
       "    }\n",
       "\n",
       "    .dataframe tbody tr th {\n",
       "        vertical-align: top;\n",
       "    }\n",
       "\n",
       "    .dataframe thead th {\n",
       "        text-align: right;\n",
       "    }\n",
       "</style>\n",
       "<table border=\"1\" class=\"dataframe\">\n",
       "  <thead>\n",
       "    <tr style=\"text-align: right;\">\n",
       "      <th></th>\n",
       "      <th>GENE.annotation_type</th>\n",
       "      <th>GENE.assembly</th>\n",
       "      <th>GENE.name</th>\n",
       "      <th>GENE.provider</th>\n",
       "      <th>MUTATION.disease</th>\n",
       "      <th>MUTATION.type</th>\n",
       "      <th>sample</th>\n",
       "    </tr>\n",
       "    <tr>\n",
       "      <th>sample</th>\n",
       "      <th></th>\n",
       "      <th></th>\n",
       "      <th></th>\n",
       "      <th></th>\n",
       "      <th></th>\n",
       "      <th></th>\n",
       "      <th></th>\n",
       "    </tr>\n",
       "  </thead>\n",
       "  <tbody>\n",
       "    <tr>\n",
       "      <th>-8887459254116471869</th>\n",
       "      <td>gene</td>\n",
       "      <td>hg19</td>\n",
       "      <td>RefSeqGenes</td>\n",
       "      <td>RefSeq</td>\n",
       "      <td>Breast cancer</td>\n",
       "      <td>single_base_substitution</td>\n",
       "      <td>-8887459254116471869</td>\n",
       "    </tr>\n",
       "    <tr>\n",
       "      <th>-4655530052381220435</th>\n",
       "      <td>gene</td>\n",
       "      <td>hg19</td>\n",
       "      <td>RefSeqGenes</td>\n",
       "      <td>RefSeq</td>\n",
       "      <td>Thyroid cancer</td>\n",
       "      <td>single_base_substitution</td>\n",
       "      <td>-4655530052381220435</td>\n",
       "    </tr>\n",
       "    <tr>\n",
       "      <th>-2300686516048319133</th>\n",
       "      <td>gene</td>\n",
       "      <td>hg19</td>\n",
       "      <td>RefSeqGenes</td>\n",
       "      <td>RefSeq</td>\n",
       "      <td>Pancreatic cancer</td>\n",
       "      <td>single_base_substitution</td>\n",
       "      <td>-2300686516048319133</td>\n",
       "    </tr>\n",
       "    <tr>\n",
       "      <th>-1808652156747894086</th>\n",
       "      <td>gene</td>\n",
       "      <td>hg19</td>\n",
       "      <td>RefSeqGenes</td>\n",
       "      <td>RefSeq</td>\n",
       "      <td>Cervical cancer</td>\n",
       "      <td>single_base_substitution</td>\n",
       "      <td>-1808652156747894086</td>\n",
       "    </tr>\n",
       "    <tr>\n",
       "      <th>-1451580578250723319</th>\n",
       "      <td>gene</td>\n",
       "      <td>hg19</td>\n",
       "      <td>RefSeqGenes</td>\n",
       "      <td>RefSeq</td>\n",
       "      <td>Lymphoma</td>\n",
       "      <td>single_base_substitution</td>\n",
       "      <td>-1451580578250723319</td>\n",
       "    </tr>\n",
       "    <tr>\n",
       "      <th>-1231030816949422728</th>\n",
       "      <td>gene</td>\n",
       "      <td>hg19</td>\n",
       "      <td>RefSeqGenes</td>\n",
       "      <td>RefSeq</td>\n",
       "      <td>Melanoma</td>\n",
       "      <td>single_base_substitution</td>\n",
       "      <td>-1231030816949422728</td>\n",
       "    </tr>\n",
       "    <tr>\n",
       "      <th>-517799218115264915</th>\n",
       "      <td>gene</td>\n",
       "      <td>hg19</td>\n",
       "      <td>RefSeqGenes</td>\n",
       "      <td>RefSeq</td>\n",
       "      <td>Sarcoma</td>\n",
       "      <td>single_base_substitution</td>\n",
       "      <td>-517799218115264915</td>\n",
       "    </tr>\n",
       "    <tr>\n",
       "      <th>397924161598878532</th>\n",
       "      <td>gene</td>\n",
       "      <td>hg19</td>\n",
       "      <td>RefSeqGenes</td>\n",
       "      <td>RefSeq</td>\n",
       "      <td>Prostate cancer</td>\n",
       "      <td>single_base_substitution</td>\n",
       "      <td>397924161598878532</td>\n",
       "    </tr>\n",
       "    <tr>\n",
       "      <th>5977003163326493845</th>\n",
       "      <td>gene</td>\n",
       "      <td>hg19</td>\n",
       "      <td>RefSeqGenes</td>\n",
       "      <td>RefSeq</td>\n",
       "      <td>Thymus cancer</td>\n",
       "      <td>single_base_substitution</td>\n",
       "      <td>5977003163326493845</td>\n",
       "    </tr>\n",
       "    <tr>\n",
       "      <th>6829036658103970262</th>\n",
       "      <td>gene</td>\n",
       "      <td>hg19</td>\n",
       "      <td>RefSeqGenes</td>\n",
       "      <td>RefSeq</td>\n",
       "      <td>Lung cancer</td>\n",
       "      <td>single_base_substitution</td>\n",
       "      <td>6829036658103970262</td>\n",
       "    </tr>\n",
       "    <tr>\n",
       "      <th>7322553018295201991</th>\n",
       "      <td>gene</td>\n",
       "      <td>hg19</td>\n",
       "      <td>RefSeqGenes</td>\n",
       "      <td>RefSeq</td>\n",
       "      <td>Leukaemia</td>\n",
       "      <td>single_base_substitution</td>\n",
       "      <td>7322553018295201991</td>\n",
       "    </tr>\n",
       "    <tr>\n",
       "      <th>8655783753907876868</th>\n",
       "      <td>gene</td>\n",
       "      <td>hg19</td>\n",
       "      <td>RefSeqGenes</td>\n",
       "      <td>RefSeq</td>\n",
       "      <td>Brain tumour</td>\n",
       "      <td>single_base_substitution</td>\n",
       "      <td>8655783753907876868</td>\n",
       "    </tr>\n",
       "  </tbody>\n",
       "</table>\n",
       "</div>"
      ],
      "text/plain": [
       "                     GENE.annotation_type GENE.assembly    GENE.name  \\\n",
       "sample                                                                 \n",
       "-8887459254116471869                 gene          hg19  RefSeqGenes   \n",
       "-4655530052381220435                 gene          hg19  RefSeqGenes   \n",
       "-2300686516048319133                 gene          hg19  RefSeqGenes   \n",
       "-1808652156747894086                 gene          hg19  RefSeqGenes   \n",
       "-1451580578250723319                 gene          hg19  RefSeqGenes   \n",
       "-1231030816949422728                 gene          hg19  RefSeqGenes   \n",
       "-517799218115264915                  gene          hg19  RefSeqGenes   \n",
       " 397924161598878532                  gene          hg19  RefSeqGenes   \n",
       " 5977003163326493845                 gene          hg19  RefSeqGenes   \n",
       " 6829036658103970262                 gene          hg19  RefSeqGenes   \n",
       " 7322553018295201991                 gene          hg19  RefSeqGenes   \n",
       " 8655783753907876868                 gene          hg19  RefSeqGenes   \n",
       "\n",
       "                     GENE.provider   MUTATION.disease  \\\n",
       "sample                                                  \n",
       "-8887459254116471869        RefSeq      Breast cancer   \n",
       "-4655530052381220435        RefSeq     Thyroid cancer   \n",
       "-2300686516048319133        RefSeq  Pancreatic cancer   \n",
       "-1808652156747894086        RefSeq    Cervical cancer   \n",
       "-1451580578250723319        RefSeq           Lymphoma   \n",
       "-1231030816949422728        RefSeq           Melanoma   \n",
       "-517799218115264915         RefSeq            Sarcoma   \n",
       " 397924161598878532         RefSeq    Prostate cancer   \n",
       " 5977003163326493845        RefSeq      Thymus cancer   \n",
       " 6829036658103970262        RefSeq        Lung cancer   \n",
       " 7322553018295201991        RefSeq          Leukaemia   \n",
       " 8655783753907876868        RefSeq       Brain tumour   \n",
       "\n",
       "                                 MUTATION.type               sample  \n",
       "sample                                                               \n",
       "-8887459254116471869  single_base_substitution -8887459254116471869  \n",
       "-4655530052381220435  single_base_substitution -4655530052381220435  \n",
       "-2300686516048319133  single_base_substitution -2300686516048319133  \n",
       "-1808652156747894086  single_base_substitution -1808652156747894086  \n",
       "-1451580578250723319  single_base_substitution -1451580578250723319  \n",
       "-1231030816949422728  single_base_substitution -1231030816949422728  \n",
       "-517799218115264915   single_base_substitution  -517799218115264915  \n",
       " 397924161598878532   single_base_substitution   397924161598878532  \n",
       " 5977003163326493845  single_base_substitution  5977003163326493845  \n",
       " 6829036658103970262  single_base_substitution  6829036658103970262  \n",
       " 7322553018295201991  single_base_substitution  7322553018295201991  \n",
       " 8655783753907876868  single_base_substitution  8655783753907876868  "
      ]
     },
     "execution_count": 31,
     "metadata": {},
     "output_type": "execute_result"
    }
   ],
   "source": [
    "d.meta"
   ]
  },
  {
   "cell_type": "code",
   "execution_count": 32,
   "metadata": {},
   "outputs": [
    {
     "data": {
      "text/html": [
       "<div>\n",
       "<style scoped>\n",
       "    .dataframe tbody tr th:only-of-type {\n",
       "        vertical-align: middle;\n",
       "    }\n",
       "\n",
       "    .dataframe tbody tr th {\n",
       "        vertical-align: top;\n",
       "    }\n",
       "\n",
       "    .dataframe thead tr th {\n",
       "        text-align: left;\n",
       "    }\n",
       "\n",
       "    .dataframe thead tr:last-of-type th {\n",
       "        text-align: right;\n",
       "    }\n",
       "</style>\n",
       "<table border=\"1\" class=\"dataframe\">\n",
       "  <thead>\n",
       "    <tr>\n",
       "      <th></th>\n",
       "      <th></th>\n",
       "      <th colspan=\"21\" halign=\"left\">count_GENE_MUTATION</th>\n",
       "    </tr>\n",
       "    <tr>\n",
       "      <th></th>\n",
       "      <th>name</th>\n",
       "      <th>NM_000081</th>\n",
       "      <th>NM_000085</th>\n",
       "      <th>NM_000110</th>\n",
       "      <th>NM_000228</th>\n",
       "      <th>NM_000302</th>\n",
       "      <th>NM_000350</th>\n",
       "      <th>NM_000403</th>\n",
       "      <th>NM_000478</th>\n",
       "      <th>NM_000674</th>\n",
       "      <th>NM_000702</th>\n",
       "      <th>...</th>\n",
       "      <th>NR_073074</th>\n",
       "      <th>NR_103473</th>\n",
       "      <th>NR_103478</th>\n",
       "      <th>NR_103845</th>\n",
       "      <th>NR_107005</th>\n",
       "      <th>NR_109896</th>\n",
       "      <th>NR_110451</th>\n",
       "      <th>NR_110682</th>\n",
       "      <th>NR_110793</th>\n",
       "      <th>NR_111987</th>\n",
       "    </tr>\n",
       "    <tr>\n",
       "      <th>MUTATION.disease</th>\n",
       "      <th>sample</th>\n",
       "      <th></th>\n",
       "      <th></th>\n",
       "      <th></th>\n",
       "      <th></th>\n",
       "      <th></th>\n",
       "      <th></th>\n",
       "      <th></th>\n",
       "      <th></th>\n",
       "      <th></th>\n",
       "      <th></th>\n",
       "      <th></th>\n",
       "      <th></th>\n",
       "      <th></th>\n",
       "      <th></th>\n",
       "      <th></th>\n",
       "      <th></th>\n",
       "      <th></th>\n",
       "      <th></th>\n",
       "      <th></th>\n",
       "      <th></th>\n",
       "      <th></th>\n",
       "    </tr>\n",
       "  </thead>\n",
       "  <tbody>\n",
       "    <tr>\n",
       "      <th>Breast cancer</th>\n",
       "      <th>-8887459254116471869</th>\n",
       "      <td>6</td>\n",
       "      <td>3</td>\n",
       "      <td>14</td>\n",
       "      <td>0</td>\n",
       "      <td>0</td>\n",
       "      <td>2</td>\n",
       "      <td>31</td>\n",
       "      <td>0</td>\n",
       "      <td>0</td>\n",
       "      <td>10</td>\n",
       "      <td>...</td>\n",
       "      <td>10</td>\n",
       "      <td>9</td>\n",
       "      <td>3</td>\n",
       "      <td>0</td>\n",
       "      <td>0</td>\n",
       "      <td>0</td>\n",
       "      <td>12</td>\n",
       "      <td>2</td>\n",
       "      <td>8</td>\n",
       "      <td>10</td>\n",
       "    </tr>\n",
       "    <tr>\n",
       "      <th>Thyroid cancer</th>\n",
       "      <th>-4655530052381220435</th>\n",
       "      <td>4</td>\n",
       "      <td>6</td>\n",
       "      <td>12</td>\n",
       "      <td>3</td>\n",
       "      <td>8</td>\n",
       "      <td>7</td>\n",
       "      <td>12</td>\n",
       "      <td>4</td>\n",
       "      <td>15</td>\n",
       "      <td>5</td>\n",
       "      <td>...</td>\n",
       "      <td>10</td>\n",
       "      <td>8</td>\n",
       "      <td>4</td>\n",
       "      <td>2</td>\n",
       "      <td>24</td>\n",
       "      <td>5</td>\n",
       "      <td>10</td>\n",
       "      <td>1</td>\n",
       "      <td>5</td>\n",
       "      <td>6</td>\n",
       "    </tr>\n",
       "    <tr>\n",
       "      <th>Pancreatic cancer</th>\n",
       "      <th>-2300686516048319133</th>\n",
       "      <td>6</td>\n",
       "      <td>7</td>\n",
       "      <td>6</td>\n",
       "      <td>1</td>\n",
       "      <td>4</td>\n",
       "      <td>4</td>\n",
       "      <td>15</td>\n",
       "      <td>4</td>\n",
       "      <td>10</td>\n",
       "      <td>8</td>\n",
       "      <td>...</td>\n",
       "      <td>8</td>\n",
       "      <td>10</td>\n",
       "      <td>2</td>\n",
       "      <td>3</td>\n",
       "      <td>29</td>\n",
       "      <td>7</td>\n",
       "      <td>10</td>\n",
       "      <td>1</td>\n",
       "      <td>3</td>\n",
       "      <td>9</td>\n",
       "    </tr>\n",
       "    <tr>\n",
       "      <th>Cervical cancer</th>\n",
       "      <th>-1808652156747894086</th>\n",
       "      <td>9</td>\n",
       "      <td>6</td>\n",
       "      <td>6</td>\n",
       "      <td>0</td>\n",
       "      <td>11</td>\n",
       "      <td>2</td>\n",
       "      <td>0</td>\n",
       "      <td>0</td>\n",
       "      <td>24</td>\n",
       "      <td>0</td>\n",
       "      <td>...</td>\n",
       "      <td>8</td>\n",
       "      <td>6</td>\n",
       "      <td>6</td>\n",
       "      <td>0</td>\n",
       "      <td>44</td>\n",
       "      <td>11</td>\n",
       "      <td>4</td>\n",
       "      <td>2</td>\n",
       "      <td>0</td>\n",
       "      <td>0</td>\n",
       "    </tr>\n",
       "    <tr>\n",
       "      <th>Lymphoma</th>\n",
       "      <th>-1451580578250723319</th>\n",
       "      <td>6</td>\n",
       "      <td>6</td>\n",
       "      <td>7</td>\n",
       "      <td>1</td>\n",
       "      <td>2</td>\n",
       "      <td>4</td>\n",
       "      <td>16</td>\n",
       "      <td>4</td>\n",
       "      <td>15</td>\n",
       "      <td>4</td>\n",
       "      <td>...</td>\n",
       "      <td>9</td>\n",
       "      <td>7</td>\n",
       "      <td>5</td>\n",
       "      <td>4</td>\n",
       "      <td>20</td>\n",
       "      <td>4</td>\n",
       "      <td>9</td>\n",
       "      <td>2</td>\n",
       "      <td>3</td>\n",
       "      <td>5</td>\n",
       "    </tr>\n",
       "    <tr>\n",
       "      <th>Melanoma</th>\n",
       "      <th>-1231030816949422728</th>\n",
       "      <td>6</td>\n",
       "      <td>3</td>\n",
       "      <td>11</td>\n",
       "      <td>0</td>\n",
       "      <td>5</td>\n",
       "      <td>2</td>\n",
       "      <td>0</td>\n",
       "      <td>0</td>\n",
       "      <td>16</td>\n",
       "      <td>10</td>\n",
       "      <td>...</td>\n",
       "      <td>14</td>\n",
       "      <td>0</td>\n",
       "      <td>6</td>\n",
       "      <td>0</td>\n",
       "      <td>0</td>\n",
       "      <td>0</td>\n",
       "      <td>16</td>\n",
       "      <td>2</td>\n",
       "      <td>8</td>\n",
       "      <td>10</td>\n",
       "    </tr>\n",
       "    <tr>\n",
       "      <th>Sarcoma</th>\n",
       "      <th>-517799218115264915</th>\n",
       "      <td>3</td>\n",
       "      <td>7</td>\n",
       "      <td>8</td>\n",
       "      <td>2</td>\n",
       "      <td>6</td>\n",
       "      <td>5</td>\n",
       "      <td>14</td>\n",
       "      <td>2</td>\n",
       "      <td>14</td>\n",
       "      <td>9</td>\n",
       "      <td>...</td>\n",
       "      <td>12</td>\n",
       "      <td>2</td>\n",
       "      <td>2</td>\n",
       "      <td>3</td>\n",
       "      <td>29</td>\n",
       "      <td>5</td>\n",
       "      <td>4</td>\n",
       "      <td>0</td>\n",
       "      <td>4</td>\n",
       "      <td>9</td>\n",
       "    </tr>\n",
       "    <tr>\n",
       "      <th>Prostate cancer</th>\n",
       "      <th>397924161598878532</th>\n",
       "      <td>6</td>\n",
       "      <td>3</td>\n",
       "      <td>10</td>\n",
       "      <td>0</td>\n",
       "      <td>5</td>\n",
       "      <td>2</td>\n",
       "      <td>0</td>\n",
       "      <td>0</td>\n",
       "      <td>0</td>\n",
       "      <td>10</td>\n",
       "      <td>...</td>\n",
       "      <td>10</td>\n",
       "      <td>0</td>\n",
       "      <td>6</td>\n",
       "      <td>0</td>\n",
       "      <td>0</td>\n",
       "      <td>0</td>\n",
       "      <td>16</td>\n",
       "      <td>2</td>\n",
       "      <td>8</td>\n",
       "      <td>10</td>\n",
       "    </tr>\n",
       "    <tr>\n",
       "      <th>Thymus cancer</th>\n",
       "      <th>5977003163326493845</th>\n",
       "      <td>3</td>\n",
       "      <td>4</td>\n",
       "      <td>9</td>\n",
       "      <td>1</td>\n",
       "      <td>5</td>\n",
       "      <td>5</td>\n",
       "      <td>18</td>\n",
       "      <td>3</td>\n",
       "      <td>12</td>\n",
       "      <td>6</td>\n",
       "      <td>...</td>\n",
       "      <td>9</td>\n",
       "      <td>8</td>\n",
       "      <td>1</td>\n",
       "      <td>1</td>\n",
       "      <td>26</td>\n",
       "      <td>6</td>\n",
       "      <td>10</td>\n",
       "      <td>0</td>\n",
       "      <td>2</td>\n",
       "      <td>9</td>\n",
       "    </tr>\n",
       "    <tr>\n",
       "      <th>Lung cancer</th>\n",
       "      <th>6829036658103970262</th>\n",
       "      <td>6</td>\n",
       "      <td>6</td>\n",
       "      <td>9</td>\n",
       "      <td>0</td>\n",
       "      <td>5</td>\n",
       "      <td>4</td>\n",
       "      <td>0</td>\n",
       "      <td>0</td>\n",
       "      <td>24</td>\n",
       "      <td>10</td>\n",
       "      <td>...</td>\n",
       "      <td>18</td>\n",
       "      <td>6</td>\n",
       "      <td>6</td>\n",
       "      <td>0</td>\n",
       "      <td>30</td>\n",
       "      <td>11</td>\n",
       "      <td>4</td>\n",
       "      <td>2</td>\n",
       "      <td>8</td>\n",
       "      <td>5</td>\n",
       "    </tr>\n",
       "    <tr>\n",
       "      <th>Leukaemia</th>\n",
       "      <th>7322553018295201991</th>\n",
       "      <td>2</td>\n",
       "      <td>9</td>\n",
       "      <td>5</td>\n",
       "      <td>1</td>\n",
       "      <td>4</td>\n",
       "      <td>3</td>\n",
       "      <td>11</td>\n",
       "      <td>2</td>\n",
       "      <td>10</td>\n",
       "      <td>7</td>\n",
       "      <td>...</td>\n",
       "      <td>5</td>\n",
       "      <td>7</td>\n",
       "      <td>3</td>\n",
       "      <td>3</td>\n",
       "      <td>23</td>\n",
       "      <td>6</td>\n",
       "      <td>8</td>\n",
       "      <td>2</td>\n",
       "      <td>2</td>\n",
       "      <td>9</td>\n",
       "    </tr>\n",
       "    <tr>\n",
       "      <th>Brain tumour</th>\n",
       "      <th>8655783753907876868</th>\n",
       "      <td>4</td>\n",
       "      <td>9</td>\n",
       "      <td>9</td>\n",
       "      <td>2</td>\n",
       "      <td>5</td>\n",
       "      <td>3</td>\n",
       "      <td>20</td>\n",
       "      <td>5</td>\n",
       "      <td>10</td>\n",
       "      <td>8</td>\n",
       "      <td>...</td>\n",
       "      <td>9</td>\n",
       "      <td>9</td>\n",
       "      <td>5</td>\n",
       "      <td>2</td>\n",
       "      <td>27</td>\n",
       "      <td>4</td>\n",
       "      <td>5</td>\n",
       "      <td>2</td>\n",
       "      <td>4</td>\n",
       "      <td>7</td>\n",
       "    </tr>\n",
       "  </tbody>\n",
       "</table>\n",
       "<p>12 rows × 726 columns</p>\n",
       "</div>"
      ],
      "text/plain": [
       "                                       count_GENE_MUTATION            \\\n",
       "name                                             NM_000081 NM_000085   \n",
       "MUTATION.disease  sample                                               \n",
       "Breast cancer     -8887459254116471869                   6         3   \n",
       "Thyroid cancer    -4655530052381220435                   4         6   \n",
       "Pancreatic cancer -2300686516048319133                   6         7   \n",
       "Cervical cancer   -1808652156747894086                   9         6   \n",
       "Lymphoma          -1451580578250723319                   6         6   \n",
       "Melanoma          -1231030816949422728                   6         3   \n",
       "Sarcoma           -517799218115264915                    3         7   \n",
       "Prostate cancer    397924161598878532                    6         3   \n",
       "Thymus cancer      5977003163326493845                   3         4   \n",
       "Lung cancer        6829036658103970262                   6         6   \n",
       "Leukaemia          7322553018295201991                   2         9   \n",
       "Brain tumour       8655783753907876868                   4         9   \n",
       "\n",
       "                                                                      \\\n",
       "name                                   NM_000110 NM_000228 NM_000302   \n",
       "MUTATION.disease  sample                                               \n",
       "Breast cancer     -8887459254116471869        14         0         0   \n",
       "Thyroid cancer    -4655530052381220435        12         3         8   \n",
       "Pancreatic cancer -2300686516048319133         6         1         4   \n",
       "Cervical cancer   -1808652156747894086         6         0        11   \n",
       "Lymphoma          -1451580578250723319         7         1         2   \n",
       "Melanoma          -1231030816949422728        11         0         5   \n",
       "Sarcoma           -517799218115264915          8         2         6   \n",
       "Prostate cancer    397924161598878532         10         0         5   \n",
       "Thymus cancer      5977003163326493845         9         1         5   \n",
       "Lung cancer        6829036658103970262         9         0         5   \n",
       "Leukaemia          7322553018295201991         5         1         4   \n",
       "Brain tumour       8655783753907876868         9         2         5   \n",
       "\n",
       "                                                                      \\\n",
       "name                                   NM_000350 NM_000403 NM_000478   \n",
       "MUTATION.disease  sample                                               \n",
       "Breast cancer     -8887459254116471869         2        31         0   \n",
       "Thyroid cancer    -4655530052381220435         7        12         4   \n",
       "Pancreatic cancer -2300686516048319133         4        15         4   \n",
       "Cervical cancer   -1808652156747894086         2         0         0   \n",
       "Lymphoma          -1451580578250723319         4        16         4   \n",
       "Melanoma          -1231030816949422728         2         0         0   \n",
       "Sarcoma           -517799218115264915          5        14         2   \n",
       "Prostate cancer    397924161598878532          2         0         0   \n",
       "Thymus cancer      5977003163326493845         5        18         3   \n",
       "Lung cancer        6829036658103970262         4         0         0   \n",
       "Leukaemia          7322553018295201991         3        11         2   \n",
       "Brain tumour       8655783753907876868         3        20         5   \n",
       "\n",
       "                                                              ...     \\\n",
       "name                                   NM_000674 NM_000702    ...      \n",
       "MUTATION.disease  sample                                      ...      \n",
       "Breast cancer     -8887459254116471869         0        10    ...      \n",
       "Thyroid cancer    -4655530052381220435        15         5    ...      \n",
       "Pancreatic cancer -2300686516048319133        10         8    ...      \n",
       "Cervical cancer   -1808652156747894086        24         0    ...      \n",
       "Lymphoma          -1451580578250723319        15         4    ...      \n",
       "Melanoma          -1231030816949422728        16        10    ...      \n",
       "Sarcoma           -517799218115264915         14         9    ...      \n",
       "Prostate cancer    397924161598878532          0        10    ...      \n",
       "Thymus cancer      5977003163326493845        12         6    ...      \n",
       "Lung cancer        6829036658103970262        24        10    ...      \n",
       "Leukaemia          7322553018295201991        10         7    ...      \n",
       "Brain tumour       8655783753907876868        10         8    ...      \n",
       "\n",
       "                                                                      \\\n",
       "name                                   NR_073074 NR_103473 NR_103478   \n",
       "MUTATION.disease  sample                                               \n",
       "Breast cancer     -8887459254116471869        10         9         3   \n",
       "Thyroid cancer    -4655530052381220435        10         8         4   \n",
       "Pancreatic cancer -2300686516048319133         8        10         2   \n",
       "Cervical cancer   -1808652156747894086         8         6         6   \n",
       "Lymphoma          -1451580578250723319         9         7         5   \n",
       "Melanoma          -1231030816949422728        14         0         6   \n",
       "Sarcoma           -517799218115264915         12         2         2   \n",
       "Prostate cancer    397924161598878532         10         0         6   \n",
       "Thymus cancer      5977003163326493845         9         8         1   \n",
       "Lung cancer        6829036658103970262        18         6         6   \n",
       "Leukaemia          7322553018295201991         5         7         3   \n",
       "Brain tumour       8655783753907876868         9         9         5   \n",
       "\n",
       "                                                                      \\\n",
       "name                                   NR_103845 NR_107005 NR_109896   \n",
       "MUTATION.disease  sample                                               \n",
       "Breast cancer     -8887459254116471869         0         0         0   \n",
       "Thyroid cancer    -4655530052381220435         2        24         5   \n",
       "Pancreatic cancer -2300686516048319133         3        29         7   \n",
       "Cervical cancer   -1808652156747894086         0        44        11   \n",
       "Lymphoma          -1451580578250723319         4        20         4   \n",
       "Melanoma          -1231030816949422728         0         0         0   \n",
       "Sarcoma           -517799218115264915          3        29         5   \n",
       "Prostate cancer    397924161598878532          0         0         0   \n",
       "Thymus cancer      5977003163326493845         1        26         6   \n",
       "Lung cancer        6829036658103970262         0        30        11   \n",
       "Leukaemia          7322553018295201991         3        23         6   \n",
       "Brain tumour       8655783753907876868         2        27         4   \n",
       "\n",
       "                                                                                \n",
       "name                                   NR_110451 NR_110682 NR_110793 NR_111987  \n",
       "MUTATION.disease  sample                                                        \n",
       "Breast cancer     -8887459254116471869        12         2         8        10  \n",
       "Thyroid cancer    -4655530052381220435        10         1         5         6  \n",
       "Pancreatic cancer -2300686516048319133        10         1         3         9  \n",
       "Cervical cancer   -1808652156747894086         4         2         0         0  \n",
       "Lymphoma          -1451580578250723319         9         2         3         5  \n",
       "Melanoma          -1231030816949422728        16         2         8        10  \n",
       "Sarcoma           -517799218115264915          4         0         4         9  \n",
       "Prostate cancer    397924161598878532         16         2         8        10  \n",
       "Thymus cancer      5977003163326493845        10         0         2         9  \n",
       "Lung cancer        6829036658103970262         4         2         8         5  \n",
       "Leukaemia          7322553018295201991         8         2         2         9  \n",
       "Brain tumour       8655783753907876868         5         2         4         7  \n",
       "\n",
       "[12 rows x 726 columns]"
      ]
     },
     "execution_count": 32,
     "metadata": {},
     "output_type": "execute_result"
    }
   ],
   "source": [
    "d.meta\n",
    "d.set_meta([\"MUTATION.disease\"])\n",
    "d.data"
   ]
  },
  {
   "cell_type": "code",
   "execution_count": 33,
   "metadata": {
    "collapsed": true
   },
   "outputs": [],
   "source": [
    "from gmql.ml import Biclustering\n",
    "import pandas as pd\n",
    "from sklearn import preprocessing"
   ]
  },
  {
   "cell_type": "code",
   "execution_count": 34,
   "metadata": {},
   "outputs": [
    {
     "name": "stderr",
     "output_type": "stream",
     "text": [
      "C:\\Users\\lucan\\Anaconda3\\envs\\bio\\lib\\site-packages\\sklearn\\utils\\validation.py:475: DataConversionWarning: Data with input dtype int64 was converted to float64 by MinMaxScaler.\n",
      "  warnings.warn(msg, DataConversionWarning)\n"
     ]
    }
   ],
   "source": [
    "# normalize the data\n",
    "x = d.data.values #returns a numpy array\n",
    "min_max_scaler = preprocessing.MinMaxScaler()\n",
    "x_scaled = min_max_scaler.fit_transform(x)\n",
    "normalized = pd.DataFrame(x_scaled)"
   ]
  },
  {
   "cell_type": "markdown",
   "metadata": {
    "nbpresent": {
     "id": "12e03e13-7ddf-43ff-960f-9d2401b518c3"
    }
   },
   "source": [
    "# show heat map\n"
   ]
  },
  {
   "cell_type": "code",
   "execution_count": 35,
   "metadata": {
    "nbpresent": {
     "id": "503fa8a8-8468-44e3-89cd-97b3580831f0"
    }
   },
   "outputs": [
    {
     "data": {
      "text/plain": [
       "<matplotlib.axes._subplots.AxesSubplot at 0x1fa509e9da0>"
      ]
     },
     "execution_count": 35,
     "metadata": {},
     "output_type": "execute_result"
    },
    {
     "data": {
      "image/png": "[encoded data removed]",
      "text/plain": [
       "<matplotlib.figure.Figure at 0x1fa50c0deb8>"
      ]
     },
     "metadata": {},
     "output_type": "display_data"
    }
   ],
   "source": [
    "plt.figure(figsize=(25, 15))\n",
    "sns.heatmap(normalized, cmap='Blues')"
   ]
  },
  {
   "cell_type": "markdown",
   "metadata": {
    "nbpresent": {
     "id": "ab9582ac-53ff-4f34-b8df-5118225eaa18"
    }
   },
   "source": [
    "# BiClustering the data"
   ]
  },
  {
   "cell_type": "code",
   "execution_count": 40,
   "metadata": {
    "collapsed": true,
    "nbpresent": {
     "id": "6b74b6b0-154a-486a-b808-2f4746c97dea"
    }
   },
   "outputs": [],
   "source": [
    "\n",
    "\n",
    "# run biclustering on that\n",
    "biclustering = Biclustering.spectral_biclustering(n_clusters=(3,3),random_state=4)\n",
    "biclustering.fit(normalized)\n",
    "\n",
    "\n",
    "# copy back column and row indexes\n",
    "normalized['Cluster'] = list(map(lambda x:  str(x[1]) ,zip(d.data.index ,  biclustering.model.row_labels_)))\n",
    "normalized['Sample'] = list(map(lambda x: x[0] ,zip(d.data.index ,  biclustering.model.row_labels_)))\n",
    "normalized.set_index(['Cluster','Sample'],  inplace=True)\n",
    "normalized.columns = pd.MultiIndex.from_tuples(list(map(lambda x: (x[0],x[1][1]), \n",
    "                                                        zip(biclustering.model.column_labels_,\n",
    "                                                            d.data.columns.values))))\n",
    "\n",
    "# normalized.columns = pd.MultiIndex.from_tuples(list(map(lambda x: (x[0],'') ,zip(aaa.model.column_labels_,d.data.columns.values))))\n",
    "\n",
    "\n",
    "# normalized = normalized.iloc[np.argsort(aaa.model.row_labels_),np.argsort(aaa.model.column_labels_)]\n",
    "\n",
    "normalized.sort_index(axis=0,inplace=True)\n",
    "\n",
    "normalized.sort_index(axis=1,inplace=True)\n",
    "\n",
    "# normalized.sort_index(axis=1)\n",
    "\n",
    "\n",
    "# print the normalized data\n",
    "# normalized"
   ]
  },
  {
   "cell_type": "code",
   "execution_count": 42,
   "metadata": {
    "nbpresent": {
     "id": "d0fcae6a-0f4e-4e84-99f8-b0212b0cc453"
    }
   },
   "outputs": [
    {
     "name": "stdout",
     "output_type": "stream",
     "text": [
      "726\n",
      "Counter({1: 266, 0: 232, 2: 228})\n",
      "Counter({1: 7, 2: 3, 0: 2})\n"
     ]
    }
   ],
   "source": [
    "from collections import Counter\n",
    "import numpy as np\n",
    "print(len(d.data.columns))\n",
    "# print(len(biclustering.model.biclusters_))\n",
    "# print(len(biclustering.model.biclusters_[0]))\n",
    "# print(len(biclustering.model.biclusters_[1]))\n",
    "print(Counter(biclustering.model.column_labels_))\n",
    "print(Counter(biclustering.model.row_labels_))\n",
    "# print(np.argsort(aaa.model.column_labels_))\n",
    "# print(len(np.argsort(aaa.model.column_labels_)))\n",
    "# print(len(np.argsort(aaa.model.column_labels_)))"
   ]
  },
  {
   "cell_type": "code",
   "execution_count": 38,
   "metadata": {
    "nbpresent": {
     "id": "03191886-0e3a-466d-b00c-2b41c0f1020f"
    }
   },
   "outputs": [
    {
     "data": {
      "text/plain": [
       "<matplotlib.axes._subplots.AxesSubplot at 0x1fa513d55c0>"
      ]
     },
     "execution_count": 38,
     "metadata": {},
     "output_type": "execute_result"
    },
    {
     "data": {
      "image/png": "[encoded data removed]",
      "text/plain": [
       "<matplotlib.figure.Figure at 0x1fa51241f98>"
      ]
     },
     "metadata": {},
     "output_type": "display_data"
    }
   ],
   "source": [
    "import numpy as np \n",
    "from pandas import DataFrame\n",
    "import seaborn as sns\n",
    "%matplotlib inline\n",
    "\n",
    "plt.figure(figsize=(15, 10))\n",
    "sns.heatmap(normalized, cmap=\"Blues\", robust=True, xticklabels=False)"
   ]
  },
  {
   "cell_type": "code",
   "execution_count": 39,
   "metadata": {
    "nbpresent": {
     "id": "a30ab1fe-3178-45e0-bdc8-5583f2d7481d"
    }
   },
   "outputs": [
    {
     "data": {
      "text/plain": [
       "<seaborn.matrix.ClusterGrid at 0x1fa50f57470>"
      ]
     },
     "execution_count": 39,
     "metadata": {},
     "output_type": "execute_result"
    },
    {
     "data": {
      "text/plain": [
       "<matplotlib.figure.Figure at 0x1fa50f577b8>"
      ]
     },
     "metadata": {},
     "output_type": "display_data"
    },
    {
     "data": {
      "image/png": "[encoded data removed]",
      "text/plain": [
       "<matplotlib.figure.Figure at 0x1fa50f5d3c8>"
      ]
     },
     "metadata": {},
     "output_type": "display_data"
    }
   ],
   "source": [
    "plt.figure(figsize=(15, 10))\n",
    "\n",
    "sns.clustermap(d.data, method=\"ward\", cmap=\"Blues\",  \n",
    "               standard_scale=1, row_cluster=True, xticklabels=False)"
   ]
  }
 ],
 "metadata": {
  "anaconda-cloud": {},
  "kernelspec": {
   "display_name": "Python (bio)",
   "language": "python",
   "name": "bio"
  },
  "language_info": {
   "codemirror_mode": {
    "name": "ipython",
    "version": 3
   },
   "file_extension": ".py",
   "mimetype": "text/x-python",
   "name": "python",
   "nbconvert_exporter": "python",
   "pygments_lexer": "ipython3",
   "version": "3.6.4"
  }
 },
 "nbformat": 4,
 "nbformat_minor": 2
}
