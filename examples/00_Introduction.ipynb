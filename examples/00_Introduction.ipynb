{
 "cells": [
  {
   "cell_type": "markdown",
   "metadata": {},
   "source": [
    "# Chapter 0: *Introduction on GMQL and PyGMQL*\n",
    "\n",
    "## Index\n",
    "\n",
    "0. [Introduction](./00_Introduction.ipynb)\n",
    "1. [A simple example](./01_A_simple_example.ipynb)\n",
    "\n",
    "## GMQL\n",
    "\n",
    "PyGMQL is a Python wrapper around the GMQL engine. For this reason, in order to fully exploit the capabilities of the library, one should have a minimum understanding of the GMQL data model and functions.\n",
    "\n",
    "<img src=\"https://github.com/DEIB-GECO/GMQL/blob/master/docs/gmql_logo.png?raw=true\">\n",
    "\n",
    "\n",
    "## The Genomic Data Model\n",
    "\n",
    "GMQL is based on a representation of the genomic information known as GDM - Genomic Data Model. Datasets are composed of samples, which in turn contains two kinds of data:\n",
    "\n",
    "- **Regions**: aligned w.r.t. a given reference, with specific left-right ends within a chromosome. Regions can store different information regarding the “spot” they mark in a particular sample, such as region length or statistical significance. Regions of the model describe processed data, e.g. mutations, expression or bindings; they have a schema , with 5 common attributes ( id , chr , left , right , strand ) including the id of the region and the region coordinates, along the aligned reference genome, and then arbitrary typed attributes. This provides interoperability across a plethora of genomic data formats\n",
    "- **Metadata**: storing all the knowledge about the particular sample, are arbitrary attribute-value pairs, independent from any standardization attempt; they trace the data provenance, including biological and clinical aspects\n",
    "\n",
    "This is exemplified by the figure below, showing on the left the regions and on the right the metadata of a dataset sample.\n",
    "\n",
    "<img src=\"https://github.com/DEIB-GECO/GMQL/blob/master/docs/GDMb.png?raw=true\">\n",
    "\n",
    "\n",
    "## The GMQL language\n",
    "GMQL is a declarative language for genomic region and metadata manipulation with a SQL-inspired syntax. With GMQL the user can perform complex queries on the basis of positional, categorical and numeric features of the datasets. \n",
    "\n",
    "The following links:\n",
    "\n",
    "- [**Complete introduction to the GMQL language**](http://www.bioinformatics.deib.polimi.it/genomic_computing/GMQLsystem/doc/GMQL_introduction_to_the_language.pdf): here we explain all the operators of the GMQL language together with some explanatory examples.\n",
    "\n",
    "- [**Explained examples and biological applications**](http://www.bioinformatics.deib.polimi.it/genomic_computing/GMQLsystem/doc/GMQL_biological_examples.pdf): here we present several complex queries showing the expressiveness of the language in a biological research setting.\n",
    "\n",
    "**NB: In order to use PyGMQL one should have at least clear the semantics of the GMQL operators, but the library is designed to be self contained and can be used without a strong background knowledge of the language.**\n",
    "\n",
    "\n",
    "## The GMQL architecture\n",
    "\n",
    "The GMQL engine is composed by various sub-systems:\n",
    "\n",
    "- A *repository*, which enables the user to store his/her datasets, the results of the queries and to access the public datasets shared between the users of the same GMQL instance\n",
    "\n",
    "- An *engine implementation*, which implements the GMQL operators. Currently the Spark engine is the most updated and complete implementation and it is the one used also by PyGMQL\n",
    "\n",
    "<img src=\"https://github.com/DEIB-GECO/GMQL/blob/master/docs/GMQL_V2_Architecture.png?raw=true\">\n",
    "\n",
    "\n",
    "## The Web Interface\n",
    "\n",
    "The classical interface to the GMQL system is from the Web browser. The public available interface offered by the GeCo Team at Politecnico di Milano can be accessed at [this link](http://gmql.eu/gmql-rest/) and also below:"
   ]
  },
  {
   "cell_type": "code",
   "execution_count": 5,
   "metadata": {},
   "outputs": [
    {
     "data": {
      "text/html": [
       "\n",
       "        <iframe\n",
       "            width=\"1000\"\n",
       "            height=\"400\"\n",
       "            src=\"http://gmql.eu/gmql-rest/\"\n",
       "            frameborder=\"0\"\n",
       "            allowfullscreen\n",
       "        ></iframe>\n",
       "        "
      ],
      "text/plain": [
       "<IPython.lib.display.IFrame at 0x26e441fdb38>"
      ]
     },
     "execution_count": 5,
     "metadata": {},
     "output_type": "execute_result"
    }
   ],
   "source": [
    "from IPython.display import IFrame\n",
    "\n",
    "IFrame('http://gmql.eu/gmql-rest/', width=1000, height=400)"
   ]
  },
  {
   "cell_type": "markdown",
   "metadata": {},
   "source": [
    "## Why PyGMQL\n",
    "\n",
    "GMQL is designed to handle batch queries, therefore the user has to perform the query on the Web Interface, download the result, and finally manipulate it with its language and libraries of choice. This interaction usually is not convenient as it is difficult to automatize complex pipelines. For this reason we designed PyGMQL."
   ]
  }
 ],
 "metadata": {
  "kernelspec": {
   "display_name": "Python (gmql)",
   "language": "python",
   "name": "pygmql"
  },
  "language_info": {
   "codemirror_mode": {
    "name": "ipython",
    "version": 3
   },
   "file_extension": ".py",
   "mimetype": "text/x-python",
   "name": "python",
   "nbconvert_exporter": "python",
   "pygments_lexer": "ipython3",
   "version": "3.7.0"
  }
 },
 "nbformat": 4,
 "nbformat_minor": 2
}
