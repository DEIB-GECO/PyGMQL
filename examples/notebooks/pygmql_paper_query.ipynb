{
 "cells": [
  {
   "cell_type": "code",
   "execution_count": 1,
   "metadata": {},
   "outputs": [],
   "source": [
    "import gmql as gl\n",
    "genes = gl.load_from_path(\"./genes/\")\n",
    "promoters = genes.reg_project(new_field_dict={\n",
    "                'start':genes.start-2000, \n",
    "                'stop':genes.start + 2000})"
   ]
  },
  {
   "cell_type": "code",
   "execution_count": 2,
   "metadata": {},
   "outputs": [
    {
     "name": "stderr",
     "output_type": "stream",
     "text": [
      "[PyGMQL] Logging using stored authentication token\n"
     ]
    }
   ],
   "source": [
    "gl.set_remote_address(\"http://gmql.eu/gmql-rest/\")\n",
    "gl.login()"
   ]
  },
  {
   "cell_type": "code",
   "execution_count": 3,
   "metadata": {},
   "outputs": [],
   "source": [
    "gl.set_mode(\"remote\")\n",
    "hms = gl.load_from_remote(\"HG19_ENCODE_BROAD_AUG_2017\",\n",
    "                          owner=\"public\")\n",
    "hms_ac = hms[hms[\"experiment_target\"] == \"H3K9ac-human\"]"
   ]
  },
  {
   "cell_type": "code",
   "execution_count": 4,
   "metadata": {},
   "outputs": [
    {
     "name": "stderr",
     "output_type": "stream",
     "text": [
      "100%|██████████| 3/3 [00:02<00:00,  1.08it/s]\n"
     ]
    },
    {
     "name": "stdout",
     "output_type": "stream",
     "text": [
      "RUNNING..."
     ]
    },
    {
     "name": "stderr",
     "output_type": "stream",
     "text": [
      "100%|██████████| 16/16 [00:29<00:00,  4.06s/it]\n",
      "Collecting regions: 755392it [02:31, 20058.52it/s]\n",
      "  0%|          | 0/44 [00:00<?, ?it/s]\u001b[A\n",
      " 50%|█████     | 22/44 [00:00<00:00, 217.24it/s]\u001b[A\n",
      "100%|██████████| 44/44 [00:00<00:00, 224.76it/s]\u001b[A"
     ]
    }
   ],
   "source": [
    "mapping = promoters.map(\n",
    "             hms_ac, \n",
    "             refName='prom', \n",
    "             expName='hm',\n",
    "             new_reg_fields={\n",
    "                'avg_signal': gl.AVG('signal')})\n",
    "mapping = mapping.materialize()"
   ]
  },
  {
   "cell_type": "code",
   "execution_count": 5,
   "metadata": {},
   "outputs": [
    {
     "data": {
      "text/plain": [
       "<matplotlib.axes._subplots.AxesSubplot at 0x7fc830e04828>"
      ]
     },
     "execution_count": 5,
     "metadata": {},
     "output_type": "execute_result"
    }
   ],
   "source": [
    "import seaborn as sns\n",
    "heatmap=mapping.to_matrix(\n",
    "                columns_meta=['hm.biosample_term_name'],\n",
    "                index_regs=['gene_symbol'], \n",
    "                values_regs=['avg_signal'],\n",
    "                fill_value=0)\n",
    "sns.heatmap(heatmap,vmax = 20)"
   ]
  },
  {
   "cell_type": "code",
   "execution_count": null,
   "metadata": {},
   "outputs": [],
   "source": []
  }
 ],
 "metadata": {
  "kernelspec": {
   "display_name": "Culo",
   "language": "python",
   "name": "pygmql"
  },
  "language_info": {
   "codemirror_mode": {
    "name": "ipython",
    "version": 3
   },
   "file_extension": ".py",
   "mimetype": "text/x-python",
   "name": "python",
   "nbconvert_exporter": "python",
   "pygments_lexer": "ipython3",
   "version": "3.7.3"
  }
 },
 "nbformat": 4,
 "nbformat_minor": 2
}
