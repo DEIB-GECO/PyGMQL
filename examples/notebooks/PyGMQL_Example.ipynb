{
 "cells": [
  {
   "cell_type": "code",
   "execution_count": 1,
   "metadata": {
    "slideshow": {
     "slide_type": "skip"
    }
   },
   "outputs": [
    {
     "name": "stderr",
     "output_type": "stream",
     "text": [
      "C:\\Users\\Luca\\Anaconda3\\envs\\bio\\lib\\site-packages\\IPython\\html.py:14: ShimWarning: The `IPython.html` package has been deprecated since IPython 4.0. You should import from `notebook` instead. `IPython.html.widgets` has moved to `ipywidgets`.\n",
      "  \"`IPython.html.widgets` has moved to `ipywidgets`.\", ShimWarning)\n"
     ]
    }
   ],
   "source": [
    "import seaborn as sns\n",
    "import matplotlib.pyplot as plt\n",
    "%matplotlib inline"
   ]
  },
  {
   "cell_type": "markdown",
   "metadata": {
    "slideshow": {
     "slide_type": "slide"
    }
   },
   "source": [
    "# PyGMQL in action"
   ]
  },
  {
   "cell_type": "markdown",
   "metadata": {
    "slideshow": {
     "slide_type": "-"
    }
   },
   "source": [
    "## Problem description\n",
    "We are given three replicas of a ChIP-Seq experiment.\n",
    "We want to:\n",
    "1. Extract **high-confidence regions** into one sample\n",
    "2. Identify which of these regions **overlap** with a set of given genes\n",
    "3. For each resulting region count ICGC **mutations**.\n",
    "4. Finally we want to select the regions with **at least one** mutation."
   ]
  },
  {
   "cell_type": "markdown",
   "metadata": {
    "slideshow": {
     "slide_type": "-"
    }
   },
   "source": [
    "## Required GMQL operations\n",
    "For this pipeline we will need the following GMQL operations:\n",
    "- ```cover```: extracts regions which are confirmed by at least two replicas\n",
    "- ```join```: extracts regions which overalap with genes\n",
    "- ```map```: for each extracted region, counts the overlapping mutations"
   ]
  },
  {
   "cell_type": "markdown",
   "metadata": {
    "slideshow": {
     "slide_type": "slide"
    }
   },
   "source": [
    "## PyGMQL in a nutshell\n",
    "\n",
    "PyGMQL enables the writing of GMQL queries using the Python programming language. It exposes to the user all the GMQL operators and also a data structure for holding, manipulating and converting the results of a GMQL query."
   ]
  },
  {
   "cell_type": "markdown",
   "metadata": {
    "slideshow": {
     "slide_type": "slide"
    }
   },
   "source": [
    "The library offers:\n",
    "- A data structure called ```GMQLDataset```, which represent a GMQL variable in the query. Every GMQLDataset is produced by a GMQL operator. When you call the ```materialize``` operation on a GMQLDataset the execution is started and the result is returned.\n",
    "- A data structure called ```GDataframe```, holding the result of a query. A GDataframe is a pure python structure and can be used directly as any other pandas dataframe. A GDataframe holds two pandas dataframes, one for the regions and one for the metadata. We can also, given a GDataframe, go back to a GMQLDataset for using it as a GMQL variable. This can be done calling the ```to_GMQLDataset``` function of the GDataframe.\n",
    "\n",
    "<img src=\"./images/GMQLDataset_to_GDataframe.png\" width=\"500\" height=\"600\">"
   ]
  },
  {
   "cell_type": "markdown",
   "metadata": {},
   "source": [
    "### Getting the library\n",
    "\n",
    "The library can be downloaded from the PyPi public repository through the ```pip``` packaging system.\n",
    "\n",
    "```\n",
    "    pip install gmql\n",
    "```\n",
    "\n",
    "If you want the most recent version of the software you can directly download it from the GitHub page:\n",
    "\n",
    "```\n",
    "    git pull https://github.com/DEIB-GECO/PyGMQL.git\n",
    "    cd PyGMQL\n",
    "    pip install -e .\n",
    "```"
   ]
  },
  {
   "cell_type": "markdown",
   "metadata": {
    "slideshow": {
     "slide_type": "slide"
    }
   },
   "source": [
    "### Importing the library"
   ]
  },
  {
   "cell_type": "code",
   "execution_count": 2,
   "metadata": {
    "collapsed": true,
    "slideshow": {
     "slide_type": "-"
    }
   },
   "outputs": [],
   "source": [
    "import gmql as gl\n",
    "import pandas as pd"
   ]
  },
  {
   "cell_type": "markdown",
   "metadata": {
    "slideshow": {
     "slide_type": "slide"
    }
   },
   "source": [
    "### Execution modes\n",
    "The queries are directly embedded inside the language and can be executed in two different modes:\n",
    "- *Local mode*: the computation is executed in the local machine\n",
    "- *Remote mode*: the query is sent to a remote server, executed there and the results are downloaded. This process is shown in the figure below.\n",
    "\n",
    "<img src=\"./images/remote.png\">"
   ]
  },
  {
   "cell_type": "code",
   "execution_count": 3,
   "metadata": {
    "collapsed": true,
    "slideshow": {
     "slide_type": "-"
    }
   },
   "outputs": [],
   "source": [
    "gl.set_mode(\"local\")\n",
    "gl.set_progress(False)"
   ]
  },
  {
   "cell_type": "markdown",
   "metadata": {
    "slideshow": {
     "slide_type": "slide"
    }
   },
   "source": [
    "## The query\n",
    "\n",
    "The GMQL query that we are going to present is the following:\n",
    "\n",
    "```\n",
    "refSeqGenes  = SELECT(annotation_type == 'gene' AND provider == 'RefSeq') HG19_BED_ANNOTATION;\n",
    "\n",
    "myExp  = SELECT() myRawExp;\n",
    "myConfirmExp  = COVER(2, ANY) myExp;\n",
    "\n",
    "myExpOverGenes  = JOIN(DIST < 0; output: RIGHT_DISTINCT) refSeqGenes myConfirmExp;\n",
    "\n",
    "myMut  = SELECT() myRawMut;\n",
    "myMutOverExp = MAP() myExpOverGenes myMut;\n",
    "\n",
    "myFilteredExp = SELECT(region: count_myMutOverExp_myMut > 0) myMutOverExp;\n",
    "\n",
    "MATERIALIZE myFilteredExp INTO ./Results/FilteredExperiment\n",
    "    \n",
    "```"
   ]
  },
  {
   "cell_type": "markdown",
   "metadata": {
    "slideshow": {
     "slide_type": "slide"
    }
   },
   "source": [
    "## Loading a GMQL dataset"
   ]
  },
  {
   "cell_type": "markdown",
   "metadata": {
    "slideshow": {
     "slide_type": "slide"
    }
   },
   "source": [
    "### Loading datasets in GDM format\n",
    "\n",
    "Both the gene dataset and the personal one are already in the GDM format, therefore the library only needs the location of the data for importing.\n",
    "\n",
    "*NB: This demo is meant to be executed without the need of a remote server. For this reason the HG19_BED_ANNOTATION dataset is loaded directly from the computer disk. Please be aware that it can also be found in the regular GMQL repository.*"
   ]
  },
  {
   "cell_type": "code",
   "execution_count": 4,
   "metadata": {
    "collapsed": true,
    "slideshow": {
     "slide_type": "-"
    }
   },
   "outputs": [],
   "source": [
    "bed_annotation = gl.load_from_path(\"./Data/HG19_BED_ANNOTATION/\")"
   ]
  },
  {
   "cell_type": "code",
   "execution_count": 5,
   "metadata": {
    "collapsed": true,
    "slideshow": {
     "slide_type": "-"
    }
   },
   "outputs": [],
   "source": [
    "myExp = gl.load_from_path(\"./Data/myRawExp/\")"
   ]
  },
  {
   "cell_type": "markdown",
   "metadata": {
    "slideshow": {
     "slide_type": "slide"
    }
   },
   "source": [
    "### Loading datasets with a generic schema\n",
    "\n",
    "The mutation dataset is in a classical BED format but not in the GDM format, therefore we need to specify its schema through a **custom parser**, which is an instance of a ```RegionParser```. \n",
    "After the parser is instantiated we can use the ```load_from_path``` function to load the dataset, which is currently stored in the local file system"
   ]
  },
  {
   "cell_type": "code",
   "execution_count": 6,
   "metadata": {
    "collapsed": true,
    "slideshow": {
     "slide_type": "-"
    }
   },
   "outputs": [],
   "source": [
    "mutations_parser = gl.parsers.RegionParser(parser_name=\"mutations_parser\",\n",
    "                                           chrPos=0,\n",
    "                                           startPos=1,\n",
    "                                           stopPos=2,\n",
    "                                           strandPos=3,\n",
    "                                           delimiter=\"\\t\")"
   ]
  },
  {
   "cell_type": "code",
   "execution_count": 7,
   "metadata": {
    "collapsed": true,
    "slideshow": {
     "slide_type": "-"
    }
   },
   "outputs": [],
   "source": [
    "myMut = gl.load_from_path(\"./Data/myRawMut/\", parser=mutations_parser)"
   ]
  },
  {
   "cell_type": "markdown",
   "metadata": {
    "slideshow": {
     "slide_type": "slide"
    }
   },
   "source": [
    "## Selection on the metadata\n",
    "\n",
    "We have in the variable ```bed_annotation``` all the ENCODE dataset of annotations. We are interested only in the annotations regarding the genes. Therefore we need to *filter* the dataset **on the basis of the metadata**.\n",
    "This is called ```meta-selection``` and in PyGMQL can be performed using the square-bracket notation common to pandas users."
   ]
  },
  {
   "cell_type": "code",
   "execution_count": 8,
   "metadata": {
    "collapsed": true,
    "slideshow": {
     "slide_type": "-"
    }
   },
   "outputs": [],
   "source": [
    "refSeqGenes = bed_annotation[(bed_annotation['annotation_type'] == 'gene') & \n",
    "                             (bed_annotation['provider'] == 'RefSeq')]"
   ]
  },
  {
   "cell_type": "markdown",
   "metadata": {
    "slideshow": {
     "slide_type": "slide"
    }
   },
   "source": [
    "## Cover operation\n",
    "We want only reliable data from the Chip-Seq experiment, therefore we define a Chip-Seq region *highly confident* if it is confirmed by at least two replicas. This is a job for the ```cover``` operation.\n",
    "\n",
    "- ```minAcc```: we define the minimum number of overlapping between samples for a region to be conserved. In this case 2.\n",
    "- ```maxAcc```: we define the maximum number. The ```\"ANY\"``` keyword makes the upper bound infinite.\n",
    "\n",
    "<img src=\"./images/cover.PNG\">"
   ]
  },
  {
   "cell_type": "code",
   "execution_count": 9,
   "metadata": {
    "collapsed": true,
    "slideshow": {
     "slide_type": "-"
    }
   },
   "outputs": [],
   "source": [
    "myConfirmExp = myExp.normal_cover(minAcc=2, maxAcc=\"ANY\")"
   ]
  },
  {
   "cell_type": "markdown",
   "metadata": {
    "slideshow": {
     "slide_type": "slide"
    }
   },
   "source": [
    "## Join\n",
    "Now we want to extract those regions that overlap with genes. We can do it using the ```join``` operation. \n",
    "- We use the genes as reference dataset\n",
    "- The Chip-Seq regions as experiment. \n",
    "- The genometric predicate ```DLE(0)``` and the option ```output=\"RIGHT\"``` tell the engine to look at all the experiment regions that happen to intersect with the reference ones and keep them in the result.\n",
    "\n",
    "<img src=\"./images/join.PNG\" height=\"700\" width=\"700\">"
   ]
  },
  {
   "cell_type": "code",
   "execution_count": 10,
   "metadata": {
    "collapsed": true,
    "slideshow": {
     "slide_type": "-"
    }
   },
   "outputs": [],
   "source": [
    "myExpOverGenes = refSeqGenes.join(experiment=myConfirmExp, refName=\"gene\",\n",
    "                                  genometric_predicate=[gl.DLE(0)],\n",
    "                                  output=\"RIGHT_DISTINCT\")"
   ]
  },
  {
   "cell_type": "markdown",
   "metadata": {
    "slideshow": {
     "slide_type": "slide"
    }
   },
   "source": [
    "## Map\n",
    "Now in ```insideGene``` we have the set of highly confident Chip-Seq regions that intersect with a gene. In order to see how many mutations happen in those region we can use the ```map``` operation. This operation will add a new attribute to the resulting dataset which will be named ```count_GENE_MUTATION```.\n",
    "\n",
    "<img src=\"./images/map.PNG\">"
   ]
  },
  {
   "cell_type": "code",
   "execution_count": 11,
   "metadata": {
    "collapsed": true,
    "slideshow": {
     "slide_type": "-"
    }
   },
   "outputs": [],
   "source": [
    "myMutOverExp = myExpOverGenes.map(myMut, expName=\"MUTATION\", refName=\"GENE\")"
   ]
  },
  {
   "cell_type": "markdown",
   "metadata": {
    "slideshow": {
     "slide_type": "slide"
    }
   },
   "source": [
    "## Selection on regions\n",
    "In order to filter out all the regions in ```mutationCount``` that do not have any mutation we can do a selection on region data using the ```reg_select``` operation. This operation takes as input a predicate on region fields."
   ]
  },
  {
   "cell_type": "code",
   "execution_count": 12,
   "metadata": {
    "collapsed": true,
    "slideshow": {
     "slide_type": "-"
    }
   },
   "outputs": [],
   "source": [
    "myFilteredExp = myMutOverExp.reg_select(myMutOverExp.count_GENE_MUTATION > 0)"
   ]
  },
  {
   "cell_type": "markdown",
   "metadata": {
    "slideshow": {
     "slide_type": "slide"
    }
   },
   "source": [
    "## Materialization\n",
    "We can now materialize the result. PyGMQL adopts a *lazy loading* approach (like Spark) and no action is performed until materialization. The result can be saved as a GDM dataset and also directly loaded in python as a ```GDataframe```."
   ]
  },
  {
   "cell_type": "code",
   "execution_count": 13,
   "metadata": {
    "collapsed": true,
    "slideshow": {
     "slide_type": "-"
    }
   },
   "outputs": [],
   "source": [
    "result = myFilteredExp.materialize(\"./Results/FilteredExperiment/\")"
   ]
  },
  {
   "cell_type": "markdown",
   "metadata": {
    "slideshow": {
     "slide_type": "slide"
    }
   },
   "source": [
    "## The GDataframe\n",
    "The result of a materialization is a ```GDataframe``` which contains both regions and metadata as two Pandas dataframes ```regs``` and ```meta```"
   ]
  },
  {
   "cell_type": "code",
   "execution_count": 14,
   "metadata": {
    "slideshow": {
     "slide_type": "-"
    }
   },
   "outputs": [
    {
     "data": {
      "text/html": [
       "<div>\n",
       "<style>\n",
       "    .dataframe thead tr:only-child th {\n",
       "        text-align: right;\n",
       "    }\n",
       "\n",
       "    .dataframe thead th {\n",
       "        text-align: left;\n",
       "    }\n",
       "\n",
       "    .dataframe tbody tr th {\n",
       "        vertical-align: top;\n",
       "    }\n",
       "</style>\n",
       "<table border=\"1\" class=\"dataframe\">\n",
       "  <thead>\n",
       "    <tr style=\"text-align: right;\">\n",
       "      <th></th>\n",
       "      <th>chr</th>\n",
       "      <th>start</th>\n",
       "      <th>stop</th>\n",
       "      <th>strand</th>\n",
       "      <th>accindex</th>\n",
       "      <th>jaccardintersect</th>\n",
       "      <th>jaccardresult</th>\n",
       "      <th>count_gene_mutation</th>\n",
       "    </tr>\n",
       "  </thead>\n",
       "  <tbody>\n",
       "    <tr>\n",
       "      <th>S_00000.gdm</th>\n",
       "      <td>chr1</td>\n",
       "      <td>8035225</td>\n",
       "      <td>8035786</td>\n",
       "      <td>*</td>\n",
       "      <td>3</td>\n",
       "      <td>0.921182</td>\n",
       "      <td>0.748768</td>\n",
       "      <td>1.0</td>\n",
       "    </tr>\n",
       "    <tr>\n",
       "      <th>S_00000.gdm</th>\n",
       "      <td>chr1</td>\n",
       "      <td>11779578</td>\n",
       "      <td>11780328</td>\n",
       "      <td>*</td>\n",
       "      <td>3</td>\n",
       "      <td>0.651607</td>\n",
       "      <td>0.501303</td>\n",
       "      <td>1.0</td>\n",
       "    </tr>\n",
       "    <tr>\n",
       "      <th>S_00000.gdm</th>\n",
       "      <td>chr1</td>\n",
       "      <td>11898457</td>\n",
       "      <td>11899199</td>\n",
       "      <td>*</td>\n",
       "      <td>3</td>\n",
       "      <td>0.876033</td>\n",
       "      <td>0.783943</td>\n",
       "      <td>1.0</td>\n",
       "    </tr>\n",
       "    <tr>\n",
       "      <th>S_00000.gdm</th>\n",
       "      <td>chr1</td>\n",
       "      <td>17286965</td>\n",
       "      <td>17287470</td>\n",
       "      <td>*</td>\n",
       "      <td>3</td>\n",
       "      <td>0.698479</td>\n",
       "      <td>0.641770</td>\n",
       "      <td>1.0</td>\n",
       "    </tr>\n",
       "    <tr>\n",
       "      <th>S_00000.gdm</th>\n",
       "      <td>chr1</td>\n",
       "      <td>22140883</td>\n",
       "      <td>22141897</td>\n",
       "      <td>*</td>\n",
       "      <td>3</td>\n",
       "      <td>0.910233</td>\n",
       "      <td>0.754937</td>\n",
       "      <td>2.0</td>\n",
       "    </tr>\n",
       "  </tbody>\n",
       "</table>\n",
       "</div>"
      ],
      "text/plain": [
       "              chr     start      stop strand  accindex  jaccardintersect  \\\n",
       "S_00000.gdm  chr1   8035225   8035786      *         3          0.921182   \n",
       "S_00000.gdm  chr1  11779578  11780328      *         3          0.651607   \n",
       "S_00000.gdm  chr1  11898457  11899199      *         3          0.876033   \n",
       "S_00000.gdm  chr1  17286965  17287470      *         3          0.698479   \n",
       "S_00000.gdm  chr1  22140883  22141897      *         3          0.910233   \n",
       "\n",
       "             jaccardresult  count_gene_mutation  \n",
       "S_00000.gdm       0.748768                  1.0  \n",
       "S_00000.gdm       0.501303                  1.0  \n",
       "S_00000.gdm       0.783943                  1.0  \n",
       "S_00000.gdm       0.641770                  1.0  \n",
       "S_00000.gdm       0.754937                  2.0  "
      ]
     },
     "execution_count": 14,
     "metadata": {},
     "output_type": "execute_result"
    }
   ],
   "source": [
    "result.regs.head()"
   ]
  },
  {
   "cell_type": "markdown",
   "metadata": {
    "slideshow": {
     "slide_type": "-"
    }
   },
   "source": [
    "The region dataframe represents the regions in the output result in a tabular format. The index of the regions is the identifier of the sample they belong to."
   ]
  },
  {
   "cell_type": "code",
   "execution_count": 15,
   "metadata": {
    "slideshow": {
     "slide_type": "slide"
    }
   },
   "outputs": [
    {
     "data": {
      "text/html": [
       "<div>\n",
       "<style>\n",
       "    .dataframe thead tr:only-child th {\n",
       "        text-align: right;\n",
       "    }\n",
       "\n",
       "    .dataframe thead th {\n",
       "        text-align: left;\n",
       "    }\n",
       "\n",
       "    .dataframe tbody tr th {\n",
       "        vertical-align: top;\n",
       "    }\n",
       "</style>\n",
       "<table border=\"1\" class=\"dataframe\">\n",
       "  <thead>\n",
       "    <tr style=\"text-align: right;\">\n",
       "      <th></th>\n",
       "      <th>GENE.ID</th>\n",
       "      <th>GENE.antibody</th>\n",
       "      <th>GENE.antibody_antibodyDescription</th>\n",
       "      <th>GENE.antibody_lab</th>\n",
       "      <th>GENE.antibody_label</th>\n",
       "      <th>GENE.antibody_lots</th>\n",
       "      <th>GENE.antibody_orderUrl</th>\n",
       "      <th>GENE.antibody_tag</th>\n",
       "      <th>GENE.antibody_target</th>\n",
       "      <th>GENE.antibody_targetClass</th>\n",
       "      <th>...</th>\n",
       "      <th>GENE.treatment_tag</th>\n",
       "      <th>GENE.treatment_type</th>\n",
       "      <th>GENE.type</th>\n",
       "      <th>GENE.url</th>\n",
       "      <th>GENE.view</th>\n",
       "      <th>GENE.view_description</th>\n",
       "      <th>GENE.view_label</th>\n",
       "      <th>GENE.view_tag</th>\n",
       "      <th>GENE.view_type</th>\n",
       "      <th>MUTATION.type</th>\n",
       "    </tr>\n",
       "    <tr>\n",
       "      <th>id_sample</th>\n",
       "      <th></th>\n",
       "      <th></th>\n",
       "      <th></th>\n",
       "      <th></th>\n",
       "      <th></th>\n",
       "      <th></th>\n",
       "      <th></th>\n",
       "      <th></th>\n",
       "      <th></th>\n",
       "      <th></th>\n",
       "      <th></th>\n",
       "      <th></th>\n",
       "      <th></th>\n",
       "      <th></th>\n",
       "      <th></th>\n",
       "      <th></th>\n",
       "      <th></th>\n",
       "      <th></th>\n",
       "      <th></th>\n",
       "      <th></th>\n",
       "      <th></th>\n",
       "    </tr>\n",
       "  </thead>\n",
       "  <tbody>\n",
       "    <tr>\n",
       "      <th>S_00000.gdm</th>\n",
       "      <td>[1880, 1881, 1882]</td>\n",
       "      <td>[CTCF]</td>\n",
       "      <td>[Rabbit polyclonal. Antibody Target: CTCF]</td>\n",
       "      <td>[Myers, Hardison, Snyder]</td>\n",
       "      <td>[CTCF (07-729)]</td>\n",
       "      <td>[1350637 DAM1472197]</td>\n",
       "      <td>[http://www.millipore.com/catalogue/item/07-729]</td>\n",
       "      <td>[CTCF]</td>\n",
       "      <td>[CTCF]</td>\n",
       "      <td>[TFSS]</td>\n",
       "      <td>...</td>\n",
       "      <td>[NONE]</td>\n",
       "      <td>[control]</td>\n",
       "      <td>[broadPeak]</td>\n",
       "      <td>[http://hgdownload.cse.ucsc.edu/goldenPath/hg1...</td>\n",
       "      <td>[Hotspots]</td>\n",
       "      <td>[ChIP-seq affinity zones identified using the ...</td>\n",
       "      <td>[Hotspots]</td>\n",
       "      <td>[HOTSPOTS]</td>\n",
       "      <td>[view]</td>\n",
       "      <td>[mutations]</td>\n",
       "    </tr>\n",
       "  </tbody>\n",
       "</table>\n",
       "<p>1 rows × 92 columns</p>\n",
       "</div>"
      ],
      "text/plain": [
       "                        GENE.ID GENE.antibody  \\\n",
       "id_sample                                       \n",
       "S_00000.gdm  [1880, 1881, 1882]        [CTCF]   \n",
       "\n",
       "                      GENE.antibody_antibodyDescription  \\\n",
       "id_sample                                                 \n",
       "S_00000.gdm  [Rabbit polyclonal. Antibody Target: CTCF]   \n",
       "\n",
       "                     GENE.antibody_lab GENE.antibody_label  \\\n",
       "id_sample                                                    \n",
       "S_00000.gdm  [Myers, Hardison, Snyder]     [CTCF (07-729)]   \n",
       "\n",
       "               GENE.antibody_lots  \\\n",
       "id_sample                           \n",
       "S_00000.gdm  [1350637 DAM1472197]   \n",
       "\n",
       "                                       GENE.antibody_orderUrl  \\\n",
       "id_sample                                                       \n",
       "S_00000.gdm  [http://www.millipore.com/catalogue/item/07-729]   \n",
       "\n",
       "            GENE.antibody_tag GENE.antibody_target GENE.antibody_targetClass  \\\n",
       "id_sample                                                                      \n",
       "S_00000.gdm            [CTCF]               [CTCF]                    [TFSS]   \n",
       "\n",
       "                 ...      GENE.treatment_tag GENE.treatment_type    GENE.type  \\\n",
       "id_sample        ...                                                            \n",
       "S_00000.gdm      ...                  [NONE]           [control]  [broadPeak]   \n",
       "\n",
       "                                                      GENE.url   GENE.view  \\\n",
       "id_sample                                                                    \n",
       "S_00000.gdm  [http://hgdownload.cse.ucsc.edu/goldenPath/hg1...  [Hotspots]   \n",
       "\n",
       "                                         GENE.view_description  \\\n",
       "id_sample                                                        \n",
       "S_00000.gdm  [ChIP-seq affinity zones identified using the ...   \n",
       "\n",
       "            GENE.view_label GENE.view_tag GENE.view_type MUTATION.type  \n",
       "id_sample                                                               \n",
       "S_00000.gdm      [Hotspots]    [HOTSPOTS]         [view]   [mutations]  \n",
       "\n",
       "[1 rows x 92 columns]"
      ]
     },
     "execution_count": 15,
     "metadata": {},
     "output_type": "execute_result"
    }
   ],
   "source": [
    "result.meta"
   ]
  },
  {
   "cell_type": "markdown",
   "metadata": {
    "slideshow": {
     "slide_type": "-"
    }
   },
   "source": [
    "The metadata dataframe has as columns all the metadata attributes and every row represents a sample in the output dataset. \n",
    "\n",
    "There can be multiple values in the same cell."
   ]
  },
  {
   "cell_type": "markdown",
   "metadata": {
    "slideshow": {
     "slide_type": "slide"
    }
   },
   "source": [
    "## Additional operations\n",
    "Having the result in a Pandas dataframe enables us to use all the Pandas functions and perform some statistics.\n",
    "\n",
    "For example we can do an histogram of the mutation counts over the Chip-Seq regions showing the distribution of the number of mutations over those regions."
   ]
  },
  {
   "cell_type": "code",
   "execution_count": 16,
   "metadata": {
    "slideshow": {
     "slide_type": "-"
    }
   },
   "outputs": [
    {
     "data": {
      "text/plain": [
       "array([[<matplotlib.axes._subplots.AxesSubplot object at 0x000001FF7CDAF668>]], dtype=object)"
      ]
     },
     "execution_count": 16,
     "metadata": {},
     "output_type": "execute_result"
    },
    {
     "data": {
      "text/plain": [
       "<matplotlib.figure.Figure at 0x1ff7ce0cc88>"
      ]
     },
     "metadata": {},
     "output_type": "display_data"
    },
    {
     "data": {
      "image/png": "[encoded data removed]",
      "text/plain": [
       "<matplotlib.figure.Figure at 0x1ff7ce0c908>"
      ]
     },
     "metadata": {},
     "output_type": "display_data"
    }
   ],
   "source": [
    "plt.figure(figsize=(25, 20))\n",
    "result.regs[result.regs.count_gene_mutation <=50].hist(\"count_gene_mutation\", bins=50)"
   ]
  },
  {
   "cell_type": "markdown",
   "metadata": {
    "slideshow": {
     "slide_type": "slide"
    }
   },
   "source": [
    "Of course we can also simply display the mean value"
   ]
  },
  {
   "cell_type": "code",
   "execution_count": 17,
   "metadata": {
    "slideshow": {
     "slide_type": "-"
    }
   },
   "outputs": [
    {
     "data": {
      "text/plain": [
       "1.404494382022472"
      ]
     },
     "execution_count": 17,
     "metadata": {},
     "output_type": "execute_result"
    }
   ],
   "source": [
    "result.regs['count_gene_mutation'].mean()"
   ]
  },
  {
   "cell_type": "markdown",
   "metadata": {
    "slideshow": {
     "slide_type": "slide"
    }
   },
   "source": [
    "### High density regions"
   ]
  },
  {
   "cell_type": "code",
   "execution_count": 18,
   "metadata": {
    "slideshow": {
     "slide_type": "-"
    }
   },
   "outputs": [
    {
     "data": {
      "text/html": [
       "<div>\n",
       "<style>\n",
       "    .dataframe thead tr:only-child th {\n",
       "        text-align: right;\n",
       "    }\n",
       "\n",
       "    .dataframe thead th {\n",
       "        text-align: left;\n",
       "    }\n",
       "\n",
       "    .dataframe tbody tr th {\n",
       "        vertical-align: top;\n",
       "    }\n",
       "</style>\n",
       "<table border=\"1\" class=\"dataframe\">\n",
       "  <thead>\n",
       "    <tr style=\"text-align: right;\">\n",
       "      <th></th>\n",
       "      <th>chr</th>\n",
       "      <th>start</th>\n",
       "      <th>stop</th>\n",
       "      <th>strand</th>\n",
       "      <th>accindex</th>\n",
       "      <th>jaccardintersect</th>\n",
       "      <th>jaccardresult</th>\n",
       "      <th>count_gene_mutation</th>\n",
       "    </tr>\n",
       "  </thead>\n",
       "  <tbody>\n",
       "    <tr>\n",
       "      <th>S_00000.gdm</th>\n",
       "      <td>chr19</td>\n",
       "      <td>19296510</td>\n",
       "      <td>19297234</td>\n",
       "      <td>*</td>\n",
       "      <td>3</td>\n",
       "      <td>0.860880</td>\n",
       "      <td>0.764566</td>\n",
       "      <td>11.0</td>\n",
       "    </tr>\n",
       "    <tr>\n",
       "      <th>S_00000.gdm</th>\n",
       "      <td>chr19</td>\n",
       "      <td>49495965</td>\n",
       "      <td>49497004</td>\n",
       "      <td>*</td>\n",
       "      <td>3</td>\n",
       "      <td>0.913808</td>\n",
       "      <td>0.000000</td>\n",
       "      <td>6.0</td>\n",
       "    </tr>\n",
       "  </tbody>\n",
       "</table>\n",
       "</div>"
      ],
      "text/plain": [
       "               chr     start      stop strand  accindex  jaccardintersect  \\\n",
       "S_00000.gdm  chr19  19296510  19297234      *         3          0.860880   \n",
       "S_00000.gdm  chr19  49495965  49497004      *         3          0.913808   \n",
       "\n",
       "             jaccardresult  count_gene_mutation  \n",
       "S_00000.gdm       0.764566                 11.0  \n",
       "S_00000.gdm       0.000000                  6.0  "
      ]
     },
     "execution_count": 18,
     "metadata": {},
     "output_type": "execute_result"
    }
   ],
   "source": [
    "result.regs[result.regs.count_gene_mutation > 5].sort_values(\"count_gene_mutation\", ascending=False)"
   ]
  },
  {
   "cell_type": "markdown",
   "metadata": {
    "slideshow": {
     "slide_type": "skip"
    }
   },
   "source": [
    "## Alternative experiment\n",
    "Mapping the mutations over the genes instead that over the experiment regions\n",
    "\n",
    "\n",
    "The GMQL query that we are going to present is the following:\n",
    "\n",
    "```\n",
    "refSeqGenes  = SELECT(annotation_type == 'gene' AND provider == 'RefSeq') HG19_BED_ANNOTATION;\n",
    "\n",
    "myExp  = SELECT() myRawExp;\n",
    "myConfirmExp  = COVER(2, ANY) myExp;\n",
    "\n",
    "myExpOverGenes  = JOIN(DIST < 0; output: RIGHT_DISTINCT) refSeqGenes myConfirmExp;\n",
    "\n",
    "myMut  = SELECT() myRawMut;\n",
    "myMutOverExp = MAP() myExpOverGenes myMut;\n",
    "\n",
    "myFilteredExp = SELECT(region: count_myMutOverExp_myMut > 0) myMutOverExp;\n",
    "\n",
    "MATERIALIZE myFilteredExp INTO ./Results/FilteredExperiment\n",
    "    \n",
    "```"
   ]
  },
  {
   "cell_type": "code",
   "execution_count": 19,
   "metadata": {
    "collapsed": true
   },
   "outputs": [],
   "source": [
    "genesOverExp = refSeqGenes.join(experiment=myConfirmExp, refName=\"gene\",\n",
    "                                  genometric_predicate=[gl.DLE(0)],\n",
    "                                  output=\"LEFT_DISTINCT\")\n",
    "myMutOverGenes = genesOverExp.map(myMut, expName=\"MUTATION\", refName=\"GENE\")\n",
    "myFilteredGenes = myMutOverGenes.reg_select(myMutOverGenes.count_GENE_MUTATION > 0)\n",
    "result_genes = myFilteredGenes.materialize(\"./Results/FilteredGenes/\")"
   ]
  },
  {
   "cell_type": "code",
   "execution_count": 20,
   "metadata": {},
   "outputs": [
    {
     "data": {
      "text/html": [
       "<div>\n",
       "<style>\n",
       "    .dataframe thead tr:only-child th {\n",
       "        text-align: right;\n",
       "    }\n",
       "\n",
       "    .dataframe thead th {\n",
       "        text-align: left;\n",
       "    }\n",
       "\n",
       "    .dataframe tbody tr th {\n",
       "        vertical-align: top;\n",
       "    }\n",
       "</style>\n",
       "<table border=\"1\" class=\"dataframe\">\n",
       "  <thead>\n",
       "    <tr style=\"text-align: right;\">\n",
       "      <th></th>\n",
       "      <th>chr</th>\n",
       "      <th>start</th>\n",
       "      <th>stop</th>\n",
       "      <th>strand</th>\n",
       "      <th>name</th>\n",
       "      <th>score</th>\n",
       "      <th>count_gene_mutation</th>\n",
       "    </tr>\n",
       "  </thead>\n",
       "  <tbody>\n",
       "    <tr>\n",
       "      <th>S_00000.gdm</th>\n",
       "      <td>chr1</td>\n",
       "      <td>1716723</td>\n",
       "      <td>1822556</td>\n",
       "      <td>-</td>\n",
       "      <td>NM_002074</td>\n",
       "      <td>0.0</td>\n",
       "      <td>2.0</td>\n",
       "    </tr>\n",
       "    <tr>\n",
       "      <th>S_00000.gdm</th>\n",
       "      <td>chr1</td>\n",
       "      <td>1716723</td>\n",
       "      <td>1822556</td>\n",
       "      <td>-</td>\n",
       "      <td>NM_001282539</td>\n",
       "      <td>0.0</td>\n",
       "      <td>2.0</td>\n",
       "    </tr>\n",
       "    <tr>\n",
       "      <th>S_00000.gdm</th>\n",
       "      <td>chr1</td>\n",
       "      <td>1716723</td>\n",
       "      <td>1822556</td>\n",
       "      <td>-</td>\n",
       "      <td>NM_001282538</td>\n",
       "      <td>0.0</td>\n",
       "      <td>2.0</td>\n",
       "    </tr>\n",
       "    <tr>\n",
       "      <th>S_00000.gdm</th>\n",
       "      <td>chr1</td>\n",
       "      <td>2115898</td>\n",
       "      <td>2139172</td>\n",
       "      <td>-</td>\n",
       "      <td>NM_001146310</td>\n",
       "      <td>0.0</td>\n",
       "      <td>2.0</td>\n",
       "    </tr>\n",
       "    <tr>\n",
       "      <th>S_00000.gdm</th>\n",
       "      <td>chr1</td>\n",
       "      <td>2120987</td>\n",
       "      <td>2144159</td>\n",
       "      <td>-</td>\n",
       "      <td>NM_001282670</td>\n",
       "      <td>0.0</td>\n",
       "      <td>2.0</td>\n",
       "    </tr>\n",
       "  </tbody>\n",
       "</table>\n",
       "</div>"
      ],
      "text/plain": [
       "              chr    start     stop strand          name  score  \\\n",
       "S_00000.gdm  chr1  1716723  1822556      -     NM_002074    0.0   \n",
       "S_00000.gdm  chr1  1716723  1822556      -  NM_001282539    0.0   \n",
       "S_00000.gdm  chr1  1716723  1822556      -  NM_001282538    0.0   \n",
       "S_00000.gdm  chr1  2115898  2139172      -  NM_001146310    0.0   \n",
       "S_00000.gdm  chr1  2120987  2144159      -  NM_001282670    0.0   \n",
       "\n",
       "             count_gene_mutation  \n",
       "S_00000.gdm                  2.0  \n",
       "S_00000.gdm                  2.0  \n",
       "S_00000.gdm                  2.0  \n",
       "S_00000.gdm                  2.0  \n",
       "S_00000.gdm                  2.0  "
      ]
     },
     "execution_count": 20,
     "metadata": {},
     "output_type": "execute_result"
    }
   ],
   "source": [
    "result_genes.regs.head()"
   ]
  },
  {
   "cell_type": "code",
   "execution_count": 21,
   "metadata": {},
   "outputs": [
    {
     "data": {
      "text/plain": [
       "array([[<matplotlib.axes._subplots.AxesSubplot object at 0x000001FF7D1614A8>]], dtype=object)"
      ]
     },
     "execution_count": 21,
     "metadata": {},
     "output_type": "execute_result"
    },
    {
     "data": {
      "text/plain": [
       "<matplotlib.figure.Figure at 0x1ff7d161b00>"
      ]
     },
     "metadata": {},
     "output_type": "display_data"
    },
    {
     "data": {
      "image/png": "[encoded data removed]",
      "text/plain": [
       "<matplotlib.figure.Figure at 0x1ff7cdb50f0>"
      ]
     },
     "metadata": {},
     "output_type": "display_data"
    }
   ],
   "source": [
    "plt.figure(figsize=(25, 20))\n",
    "result_genes.regs[result_genes.regs.count_gene_mutation <=50].hist(\"count_gene_mutation\", bins=50)"
   ]
  },
  {
   "cell_type": "code",
   "execution_count": 22,
   "metadata": {},
   "outputs": [
    {
     "data": {
      "text/plain": [
       "3.4381662107348365"
      ]
     },
     "execution_count": 22,
     "metadata": {},
     "output_type": "execute_result"
    }
   ],
   "source": [
    "result_genes.regs['count_gene_mutation'].mean()"
   ]
  },
  {
   "cell_type": "code",
   "execution_count": 23,
   "metadata": {},
   "outputs": [
    {
     "data": {
      "text/html": [
       "<div>\n",
       "<style>\n",
       "    .dataframe thead tr:only-child th {\n",
       "        text-align: right;\n",
       "    }\n",
       "\n",
       "    .dataframe thead th {\n",
       "        text-align: left;\n",
       "    }\n",
       "\n",
       "    .dataframe tbody tr th {\n",
       "        vertical-align: top;\n",
       "    }\n",
       "</style>\n",
       "<table border=\"1\" class=\"dataframe\">\n",
       "  <thead>\n",
       "    <tr style=\"text-align: right;\">\n",
       "      <th></th>\n",
       "      <th>chr</th>\n",
       "      <th>start</th>\n",
       "      <th>stop</th>\n",
       "      <th>strand</th>\n",
       "      <th>name</th>\n",
       "      <th>score</th>\n",
       "      <th>count_gene_mutation</th>\n",
       "    </tr>\n",
       "  </thead>\n",
       "  <tbody>\n",
       "    <tr>\n",
       "      <th>S_00000.gdm</th>\n",
       "      <td>chr4</td>\n",
       "      <td>144498560</td>\n",
       "      <td>144621828</td>\n",
       "      <td>-</td>\n",
       "      <td>NM_001168235</td>\n",
       "      <td>0.0</td>\n",
       "      <td>283.0</td>\n",
       "    </tr>\n",
       "    <tr>\n",
       "      <th>S_00000.gdm</th>\n",
       "      <td>chr15</td>\n",
       "      <td>78463186</td>\n",
       "      <td>78527049</td>\n",
       "      <td>-</td>\n",
       "      <td>NM_001199377</td>\n",
       "      <td>0.0</td>\n",
       "      <td>141.0</td>\n",
       "    </tr>\n",
       "    <tr>\n",
       "      <th>S_00000.gdm</th>\n",
       "      <td>chr15</td>\n",
       "      <td>78463186</td>\n",
       "      <td>78527049</td>\n",
       "      <td>-</td>\n",
       "      <td>NM_015162</td>\n",
       "      <td>0.0</td>\n",
       "      <td>141.0</td>\n",
       "    </tr>\n",
       "    <tr>\n",
       "      <th>S_00000.gdm</th>\n",
       "      <td>chr2</td>\n",
       "      <td>27505296</td>\n",
       "      <td>27530307</td>\n",
       "      <td>+</td>\n",
       "      <td>NM_032546</td>\n",
       "      <td>0.0</td>\n",
       "      <td>114.0</td>\n",
       "    </tr>\n",
       "    <tr>\n",
       "      <th>S_00000.gdm</th>\n",
       "      <td>chr2</td>\n",
       "      <td>27505296</td>\n",
       "      <td>27530307</td>\n",
       "      <td>+</td>\n",
       "      <td>NM_187841</td>\n",
       "      <td>0.0</td>\n",
       "      <td>114.0</td>\n",
       "    </tr>\n",
       "    <tr>\n",
       "      <th>S_00000.gdm</th>\n",
       "      <td>chr11</td>\n",
       "      <td>116714117</td>\n",
       "      <td>116969131</td>\n",
       "      <td>-</td>\n",
       "      <td>NM_025164</td>\n",
       "      <td>0.0</td>\n",
       "      <td>99.0</td>\n",
       "    </tr>\n",
       "    <tr>\n",
       "      <th>S_00000.gdm</th>\n",
       "      <td>chr11</td>\n",
       "      <td>116714117</td>\n",
       "      <td>116969131</td>\n",
       "      <td>-</td>\n",
       "      <td>NM_001281749</td>\n",
       "      <td>0.0</td>\n",
       "      <td>99.0</td>\n",
       "    </tr>\n",
       "    <tr>\n",
       "      <th>S_00000.gdm</th>\n",
       "      <td>chr11</td>\n",
       "      <td>116714117</td>\n",
       "      <td>116969131</td>\n",
       "      <td>-</td>\n",
       "      <td>NM_001281748</td>\n",
       "      <td>0.0</td>\n",
       "      <td>99.0</td>\n",
       "    </tr>\n",
       "    <tr>\n",
       "      <th>S_00000.gdm</th>\n",
       "      <td>chr4</td>\n",
       "      <td>144257982</td>\n",
       "      <td>144395718</td>\n",
       "      <td>+</td>\n",
       "      <td>NM_002039</td>\n",
       "      <td>0.0</td>\n",
       "      <td>87.0</td>\n",
       "    </tr>\n",
       "    <tr>\n",
       "      <th>S_00000.gdm</th>\n",
       "      <td>chr4</td>\n",
       "      <td>144257982</td>\n",
       "      <td>144395718</td>\n",
       "      <td>+</td>\n",
       "      <td>NM_207123</td>\n",
       "      <td>0.0</td>\n",
       "      <td>87.0</td>\n",
       "    </tr>\n",
       "    <tr>\n",
       "      <th>S_00000.gdm</th>\n",
       "      <td>chr15</td>\n",
       "      <td>78730517</td>\n",
       "      <td>78793798</td>\n",
       "      <td>+</td>\n",
       "      <td>NM_004136</td>\n",
       "      <td>0.0</td>\n",
       "      <td>86.0</td>\n",
       "    </tr>\n",
       "    <tr>\n",
       "      <th>S_00000.gdm</th>\n",
       "      <td>chr16</td>\n",
       "      <td>53737874</td>\n",
       "      <td>54148379</td>\n",
       "      <td>+</td>\n",
       "      <td>NM_001080432</td>\n",
       "      <td>0.0</td>\n",
       "      <td>84.0</td>\n",
       "    </tr>\n",
       "    <tr>\n",
       "      <th>S_00000.gdm</th>\n",
       "      <td>chr1</td>\n",
       "      <td>218458628</td>\n",
       "      <td>218511325</td>\n",
       "      <td>+</td>\n",
       "      <td>NM_016052</td>\n",
       "      <td>0.0</td>\n",
       "      <td>71.0</td>\n",
       "    </tr>\n",
       "    <tr>\n",
       "      <th>S_00000.gdm</th>\n",
       "      <td>chr4</td>\n",
       "      <td>88928798</td>\n",
       "      <td>88998931</td>\n",
       "      <td>+</td>\n",
       "      <td>NM_000297</td>\n",
       "      <td>0.0</td>\n",
       "      <td>60.0</td>\n",
       "    </tr>\n",
       "    <tr>\n",
       "      <th>S_00000.gdm</th>\n",
       "      <td>chr8</td>\n",
       "      <td>2792874</td>\n",
       "      <td>4852328</td>\n",
       "      <td>-</td>\n",
       "      <td>NM_033225</td>\n",
       "      <td>0.0</td>\n",
       "      <td>59.0</td>\n",
       "    </tr>\n",
       "    <tr>\n",
       "      <th>S_00000.gdm</th>\n",
       "      <td>chr9</td>\n",
       "      <td>21994789</td>\n",
       "      <td>22121093</td>\n",
       "      <td>+</td>\n",
       "      <td>NR_047534</td>\n",
       "      <td>0.0</td>\n",
       "      <td>59.0</td>\n",
       "    </tr>\n",
       "    <tr>\n",
       "      <th>S_00000.gdm</th>\n",
       "      <td>chr9</td>\n",
       "      <td>21994789</td>\n",
       "      <td>22121093</td>\n",
       "      <td>+</td>\n",
       "      <td>NR_047535</td>\n",
       "      <td>0.0</td>\n",
       "      <td>59.0</td>\n",
       "    </tr>\n",
       "    <tr>\n",
       "      <th>S_00000.gdm</th>\n",
       "      <td>chr9</td>\n",
       "      <td>21994789</td>\n",
       "      <td>22121093</td>\n",
       "      <td>+</td>\n",
       "      <td>NR_047532</td>\n",
       "      <td>0.0</td>\n",
       "      <td>59.0</td>\n",
       "    </tr>\n",
       "    <tr>\n",
       "      <th>S_00000.gdm</th>\n",
       "      <td>chr9</td>\n",
       "      <td>21994789</td>\n",
       "      <td>22121093</td>\n",
       "      <td>+</td>\n",
       "      <td>NR_003529</td>\n",
       "      <td>0.0</td>\n",
       "      <td>59.0</td>\n",
       "    </tr>\n",
       "    <tr>\n",
       "      <th>S_00000.gdm</th>\n",
       "      <td>chr9</td>\n",
       "      <td>21994789</td>\n",
       "      <td>22121093</td>\n",
       "      <td>+</td>\n",
       "      <td>NR_120536</td>\n",
       "      <td>0.0</td>\n",
       "      <td>59.0</td>\n",
       "    </tr>\n",
       "    <tr>\n",
       "      <th>S_00000.gdm</th>\n",
       "      <td>chr9</td>\n",
       "      <td>21994789</td>\n",
       "      <td>22121093</td>\n",
       "      <td>+</td>\n",
       "      <td>NR_047536</td>\n",
       "      <td>0.0</td>\n",
       "      <td>59.0</td>\n",
       "    </tr>\n",
       "    <tr>\n",
       "      <th>S_00000.gdm</th>\n",
       "      <td>chr9</td>\n",
       "      <td>21994789</td>\n",
       "      <td>22121093</td>\n",
       "      <td>+</td>\n",
       "      <td>NR_047538</td>\n",
       "      <td>0.0</td>\n",
       "      <td>59.0</td>\n",
       "    </tr>\n",
       "    <tr>\n",
       "      <th>S_00000.gdm</th>\n",
       "      <td>chr9</td>\n",
       "      <td>21994789</td>\n",
       "      <td>22121093</td>\n",
       "      <td>+</td>\n",
       "      <td>NR_047543</td>\n",
       "      <td>0.0</td>\n",
       "      <td>59.0</td>\n",
       "    </tr>\n",
       "    <tr>\n",
       "      <th>S_00000.gdm</th>\n",
       "      <td>chr9</td>\n",
       "      <td>21994789</td>\n",
       "      <td>22121093</td>\n",
       "      <td>+</td>\n",
       "      <td>NR_047537</td>\n",
       "      <td>0.0</td>\n",
       "      <td>59.0</td>\n",
       "    </tr>\n",
       "    <tr>\n",
       "      <th>S_00000.gdm</th>\n",
       "      <td>chr15</td>\n",
       "      <td>78556486</td>\n",
       "      <td>78574538</td>\n",
       "      <td>+</td>\n",
       "      <td>NM_018602</td>\n",
       "      <td>0.0</td>\n",
       "      <td>52.0</td>\n",
       "    </tr>\n",
       "    <tr>\n",
       "      <th>S_00000.gdm</th>\n",
       "      <td>chr9</td>\n",
       "      <td>133028157</td>\n",
       "      <td>133309510</td>\n",
       "      <td>+</td>\n",
       "      <td>NM_001291815</td>\n",
       "      <td>0.0</td>\n",
       "      <td>51.0</td>\n",
       "    </tr>\n",
       "  </tbody>\n",
       "</table>\n",
       "</div>"
      ],
      "text/plain": [
       "               chr      start       stop strand          name  score  \\\n",
       "S_00000.gdm   chr4  144498560  144621828      -  NM_001168235    0.0   \n",
       "S_00000.gdm  chr15   78463186   78527049      -  NM_001199377    0.0   \n",
       "S_00000.gdm  chr15   78463186   78527049      -     NM_015162    0.0   \n",
       "S_00000.gdm   chr2   27505296   27530307      +     NM_032546    0.0   \n",
       "S_00000.gdm   chr2   27505296   27530307      +     NM_187841    0.0   \n",
       "S_00000.gdm  chr11  116714117  116969131      -     NM_025164    0.0   \n",
       "S_00000.gdm  chr11  116714117  116969131      -  NM_001281749    0.0   \n",
       "S_00000.gdm  chr11  116714117  116969131      -  NM_001281748    0.0   \n",
       "S_00000.gdm   chr4  144257982  144395718      +     NM_002039    0.0   \n",
       "S_00000.gdm   chr4  144257982  144395718      +     NM_207123    0.0   \n",
       "S_00000.gdm  chr15   78730517   78793798      +     NM_004136    0.0   \n",
       "S_00000.gdm  chr16   53737874   54148379      +  NM_001080432    0.0   \n",
       "S_00000.gdm   chr1  218458628  218511325      +     NM_016052    0.0   \n",
       "S_00000.gdm   chr4   88928798   88998931      +     NM_000297    0.0   \n",
       "S_00000.gdm   chr8    2792874    4852328      -     NM_033225    0.0   \n",
       "S_00000.gdm   chr9   21994789   22121093      +     NR_047534    0.0   \n",
       "S_00000.gdm   chr9   21994789   22121093      +     NR_047535    0.0   \n",
       "S_00000.gdm   chr9   21994789   22121093      +     NR_047532    0.0   \n",
       "S_00000.gdm   chr9   21994789   22121093      +     NR_003529    0.0   \n",
       "S_00000.gdm   chr9   21994789   22121093      +     NR_120536    0.0   \n",
       "S_00000.gdm   chr9   21994789   22121093      +     NR_047536    0.0   \n",
       "S_00000.gdm   chr9   21994789   22121093      +     NR_047538    0.0   \n",
       "S_00000.gdm   chr9   21994789   22121093      +     NR_047543    0.0   \n",
       "S_00000.gdm   chr9   21994789   22121093      +     NR_047537    0.0   \n",
       "S_00000.gdm  chr15   78556486   78574538      +     NM_018602    0.0   \n",
       "S_00000.gdm   chr9  133028157  133309510      +  NM_001291815    0.0   \n",
       "\n",
       "             count_gene_mutation  \n",
       "S_00000.gdm                283.0  \n",
       "S_00000.gdm                141.0  \n",
       "S_00000.gdm                141.0  \n",
       "S_00000.gdm                114.0  \n",
       "S_00000.gdm                114.0  \n",
       "S_00000.gdm                 99.0  \n",
       "S_00000.gdm                 99.0  \n",
       "S_00000.gdm                 99.0  \n",
       "S_00000.gdm                 87.0  \n",
       "S_00000.gdm                 87.0  \n",
       "S_00000.gdm                 86.0  \n",
       "S_00000.gdm                 84.0  \n",
       "S_00000.gdm                 71.0  \n",
       "S_00000.gdm                 60.0  \n",
       "S_00000.gdm                 59.0  \n",
       "S_00000.gdm                 59.0  \n",
       "S_00000.gdm                 59.0  \n",
       "S_00000.gdm                 59.0  \n",
       "S_00000.gdm                 59.0  \n",
       "S_00000.gdm                 59.0  \n",
       "S_00000.gdm                 59.0  \n",
       "S_00000.gdm                 59.0  \n",
       "S_00000.gdm                 59.0  \n",
       "S_00000.gdm                 59.0  \n",
       "S_00000.gdm                 52.0  \n",
       "S_00000.gdm                 51.0  "
      ]
     },
     "execution_count": 23,
     "metadata": {},
     "output_type": "execute_result"
    }
   ],
   "source": [
    "result_genes.regs[result_genes.regs.count_gene_mutation > 50].sort_values(\"count_gene_mutation\", ascending=False)"
   ]
  }
 ],
 "metadata": {
  "anaconda-cloud": {},
  "kernelspec": {
   "display_name": "Python (ml_experiments)",
   "language": "python",
   "name": "ml_experiments"
  },
  "language_info": {
   "codemirror_mode": {
    "name": "ipython",
    "version": 3
   },
   "file_extension": ".py",
   "mimetype": "text/x-python",
   "name": "python",
   "nbconvert_exporter": "python",
   "pygments_lexer": "ipython3",
   "version": "3.6.6"
  }
 },
 "nbformat": 4,
 "nbformat_minor": 2
}
