{
 "cells": [
  {
   "cell_type": "markdown",
   "metadata": {},
   "source": [
    "# Simple example of local processing\n",
    "\n",
    "In this first tutorial we will show a complete example of usage of the library using some example datasets provided with it."
   ]
  },
  {
   "cell_type": "markdown",
   "metadata": {},
   "source": [
    "## Importing the library"
   ]
  },
  {
   "cell_type": "markdown",
   "metadata": {},
   "source": [
    "#### Importing the library"
   ]
  },
  {
   "cell_type": "code",
   "execution_count": 1,
   "metadata": {
    "collapsed": true
   },
   "outputs": [
    {
     "name": "stderr",
     "output_type": "stream",
     "text": [
      "[PyGMQL] Updating backend to latest version\n",
      "95M [00:06, 14.85M/s]                         \n"
     ]
    }
   ],
   "source": [
    "import gmql as gl"
   ]
  },
  {
   "cell_type": "markdown",
   "metadata": {},
   "source": [
    "## Loading datasets\n",
    "\n",
    "PyGMQL can work with BED and GTF files with arbitrary fields and schemas. In order to load a dataset into Python the user can use the following functions:\n",
    "\n",
    "- `load_from_path`: lazily loads a dataset into a GMQLDataset variable from the local file system\n",
    "- `load_from_remote`: lazily loads a dataset into a GMQLDataset variable from a remote GMQL service\n",
    "- `from_pandas`: lazily loads a dataset into a GMQLDataset variable from a Pandas DataFrame having at least the chromosome, start and stop columns\n",
    "\n",
    "In addition to these functions we also provide a function called `get_example_dataset` which enables the user to load a sample dataset and play with it in order to get confidence with the library. Currently we provide two example datasets: `Example_Dataset_1` and `Example_Dataset_2`.\n",
    "\n",
    "In the following we will load two example datasets and play with them."
   ]
  },
  {
   "cell_type": "code",
   "execution_count": 2,
   "metadata": {},
   "outputs": [],
   "source": [
    "dataset1 = gl.get_example_dataset(\"Example_Dataset_1\")\n",
    "dataset2 = gl.get_example_dataset(\"Example_Dataset_2\")"
   ]
  },
  {
   "cell_type": "markdown",
   "metadata": {},
   "source": [
    "## The `GMQLDataset`\n",
    "The `dataset` variable defined above is a `GMQLDataset`, which represents a GMQL variable and on which it is possible to apply GMQL operators. It must be noticed that no data has been loaded in memory yet and the computation will only start when the query is triggered. We will see how to start the execution of a query in the following steps.\n",
    "\n",
    "We can inspect the schema of the dataset with the following:"
   ]
  },
  {
   "cell_type": "code",
   "execution_count": 3,
   "metadata": {},
   "outputs": [
    {
     "data": {
      "text/plain": [
       "['source',\n",
       " 'feature',\n",
       " 'score',\n",
       " 'frame',\n",
       " 'name',\n",
       " 'signal',\n",
       " 'pvalue',\n",
       " 'qvalue',\n",
       " 'peak',\n",
       " 'chr',\n",
       " 'start',\n",
       " 'stop',\n",
       " 'strand']"
      ]
     },
     "execution_count": 3,
     "metadata": {},
     "output_type": "execute_result"
    }
   ],
   "source": [
    "dataset1.schema"
   ]
  },
  {
   "cell_type": "code",
   "execution_count": 4,
   "metadata": {},
   "outputs": [
    {
     "data": {
      "text/plain": [
       "['source',\n",
       " 'feature',\n",
       " 'score',\n",
       " 'frame',\n",
       " 'name',\n",
       " 'signal',\n",
       " 'pvalue',\n",
       " 'qvalue',\n",
       " 'peak',\n",
       " 'chr',\n",
       " 'start',\n",
       " 'stop',\n",
       " 'strand']"
      ]
     },
     "execution_count": 4,
     "metadata": {},
     "output_type": "execute_result"
    }
   ],
   "source": [
    "dataset2.schema"
   ]
  },
  {
   "cell_type": "markdown",
   "metadata": {},
   "source": [
    "## Filtering the dataset regions based on a predicate\n",
    "\n",
    "The first operation we will do on `dataset` will be selecting only the genomic regions on the 3rd chromosome and with a start position greater than 30000."
   ]
  },
  {
   "cell_type": "code",
   "execution_count": 5,
   "metadata": {
    "collapsed": true
   },
   "outputs": [],
   "source": [
    "filtered_dataset1 = dataset1.reg_select((dataset1.chr == 'chr3') & (dataset1.start >= 30000))"
   ]
  },
  {
   "cell_type": "markdown",
   "metadata": {},
   "source": [
    "From this operation we can learn several things about the `GMQLDataset` data structure. Each `GMQLDataset` has a set of methods and fields which can be used to build GMQL queries. For example, in the previous statement we have: \n",
    "- the `reg_select` method, which enables us to filter the datasets on the basis of a predicate on the region positions and features\n",
    "- the `chr` and `start` fields, which enable the user to build predicates on the fields of the dataset.\n",
    "\n",
    "Every GMQL operator has a relative method accessible from the `GMQLDataset` data structure, as well as any other field of the dataset."
   ]
  },
  {
   "cell_type": "markdown",
   "metadata": {},
   "source": [
    "## Filtering a dataset based on a predicate on metadata\n",
    "\n",
    "The Genomic Data Model enables us to work both with genomic regions and their relative metadata. Therefore we can filter dataset samples on the basis of predicates on metadata attributes. This can be done as follows:"
   ]
  },
  {
   "cell_type": "code",
   "execution_count": 6,
   "metadata": {
    "collapsed": true
   },
   "outputs": [],
   "source": [
    "filtered_dataset_2 = dataset2[dataset2['antibody_target'] == 'CTCF']"
   ]
  },
  {
   "cell_type": "markdown",
   "metadata": {},
   "source": [
    "Notice that the notation for selecting the samples using metadata is the same as the one for filtering Pandas DataFrames."
   ]
  },
  {
   "cell_type": "markdown",
   "metadata": {},
   "source": [
    "## Joining two datasets\n",
    "\n",
    "It is not the focus of this tutorial to show all the possible operations which can be done on a `GMQLDataset`, they can be seen on the documentation page of the library. \n",
    "\n",
    "For the sake of this example, let's show the JOIN operation between the two filtered datasets defined in the previous two steps.\n",
    "The JOIN operation semantics relies on the concept of *reference* and *experiment* datasets. The reference dataset is the one 'calling' the join function while the experiment dataset is the one 'on which' the function is called. The semantics of the function is \n",
    "\n",
    "```\n",
    "resulting_dataset = <reference>.join(<experiment>, <genometric predicate>, ...)\n",
    "``` "
   ]
  },
  {
   "cell_type": "code",
   "execution_count": 7,
   "metadata": {
    "collapsed": true
   },
   "outputs": [],
   "source": [
    "dataset_join = dataset1.join(dataset2, [gl.DLE(0)])"
   ]
  },
  {
   "cell_type": "markdown",
   "metadata": {},
   "source": [
    "To understand the concept of *genometric predicate* please visit the documentation of the library."
   ]
  },
  {
   "cell_type": "markdown",
   "metadata": {},
   "source": [
    "## Materialization of the results\n",
    "\n",
    "As we have already said, no operation has beed effectively done up to this point. What we did up to now is to define the sequence of operations to apply on the data. In order to trigger the execution we have to apply the `materialize` function on the variable we want to compute."
   ]
  },
  {
   "cell_type": "code",
   "execution_count": 8,
   "metadata": {},
   "outputs": [
    {
     "name": "stderr",
     "output_type": "stream",
     "text": [
      "Collecting regions: 12it [00:03,  3.49it/s]\n",
      "100%|██████████| 190/190 [00:02<00:00, 94.63it/s]\n"
     ]
    }
   ],
   "source": [
    "query_result = dataset_join.materialize()"
   ]
  },
  {
   "cell_type": "markdown",
   "metadata": {},
   "source": [
    "## The `GDataframe`\n",
    "\n",
    "The `query_result` variable holds the result of the previous GMQL query in the form of a `GDataframe` data structure. It holds the information about the regions and the metadata of the result, which can be respectively accessed through the `regs` and `meta` attributes."
   ]
  },
  {
   "cell_type": "markdown",
   "metadata": {},
   "source": [
    "### Regions"
   ]
  },
  {
   "cell_type": "code",
   "execution_count": 10,
   "metadata": {},
   "outputs": [
    {
     "data": {
      "text/html": [
       "<div>\n",
       "<style scoped>\n",
       "    .dataframe tbody tr th:only-of-type {\n",
       "        vertical-align: middle;\n",
       "    }\n",
       "\n",
       "    .dataframe tbody tr th {\n",
       "        vertical-align: top;\n",
       "    }\n",
       "\n",
       "    .dataframe thead th {\n",
       "        text-align: right;\n",
       "    }\n",
       "</style>\n",
       "<table border=\"1\" class=\"dataframe\">\n",
       "  <thead>\n",
       "    <tr style=\"text-align: right;\">\n",
       "      <th></th>\n",
       "      <th>chr</th>\n",
       "      <th>start</th>\n",
       "      <th>stop</th>\n",
       "      <th>strand</th>\n",
       "      <th>REF.source</th>\n",
       "      <th>REF.feature</th>\n",
       "      <th>REF.score</th>\n",
       "      <th>REF.frame</th>\n",
       "      <th>REF.name</th>\n",
       "      <th>REF.signal</th>\n",
       "      <th>...</th>\n",
       "      <th>REF.peak</th>\n",
       "      <th>EXP.source</th>\n",
       "      <th>EXP.feature</th>\n",
       "      <th>EXP.score</th>\n",
       "      <th>EXP.frame</th>\n",
       "      <th>EXP.name</th>\n",
       "      <th>EXP.signal</th>\n",
       "      <th>EXP.pvalue</th>\n",
       "      <th>EXP.qvalue</th>\n",
       "      <th>EXP.peak</th>\n",
       "    </tr>\n",
       "    <tr>\n",
       "      <th>id_sample</th>\n",
       "      <th></th>\n",
       "      <th></th>\n",
       "      <th></th>\n",
       "      <th></th>\n",
       "      <th></th>\n",
       "      <th></th>\n",
       "      <th></th>\n",
       "      <th></th>\n",
       "      <th></th>\n",
       "      <th></th>\n",
       "      <th></th>\n",
       "      <th></th>\n",
       "      <th></th>\n",
       "      <th></th>\n",
       "      <th></th>\n",
       "      <th></th>\n",
       "      <th></th>\n",
       "      <th></th>\n",
       "      <th></th>\n",
       "      <th></th>\n",
       "      <th></th>\n",
       "    </tr>\n",
       "  </thead>\n",
       "  <tbody>\n",
       "    <tr>\n",
       "      <th>5758100849671408287</th>\n",
       "      <td>chr4</td>\n",
       "      <td>149</td>\n",
       "      <td>179</td>\n",
       "      <td>-</td>\n",
       "      <td>GMQL</td>\n",
       "      <td>Region</td>\n",
       "      <td>0.9</td>\n",
       "      <td>.</td>\n",
       "      <td>.</td>\n",
       "      <td>15.0</td>\n",
       "      <td>...</td>\n",
       "      <td>-1.0</td>\n",
       "      <td>GMQL</td>\n",
       "      <td>Region</td>\n",
       "      <td>240.0</td>\n",
       "      <td>.</td>\n",
       "      <td>.</td>\n",
       "      <td>17.0000</td>\n",
       "      <td>11.1675</td>\n",
       "      <td>-1.0</td>\n",
       "      <td>-1.0</td>\n",
       "    </tr>\n",
       "    <tr>\n",
       "      <th>5758100849671408287</th>\n",
       "      <td>chr4</td>\n",
       "      <td>199</td>\n",
       "      <td>249</td>\n",
       "      <td>-</td>\n",
       "      <td>GMQL</td>\n",
       "      <td>Region</td>\n",
       "      <td>0.9</td>\n",
       "      <td>.</td>\n",
       "      <td>.</td>\n",
       "      <td>15.0</td>\n",
       "      <td>...</td>\n",
       "      <td>-1.0</td>\n",
       "      <td>GMQL</td>\n",
       "      <td>Region</td>\n",
       "      <td>240.0</td>\n",
       "      <td>.</td>\n",
       "      <td>.</td>\n",
       "      <td>17.0000</td>\n",
       "      <td>11.1675</td>\n",
       "      <td>-1.0</td>\n",
       "      <td>-1.0</td>\n",
       "    </tr>\n",
       "    <tr>\n",
       "      <th>-7728122121608963789</th>\n",
       "      <td>chr2</td>\n",
       "      <td>99</td>\n",
       "      <td>150</td>\n",
       "      <td>*</td>\n",
       "      <td>GMQL</td>\n",
       "      <td>Region</td>\n",
       "      <td>10.0</td>\n",
       "      <td>.</td>\n",
       "      <td>.</td>\n",
       "      <td>9.0</td>\n",
       "      <td>...</td>\n",
       "      <td>-1.0</td>\n",
       "      <td>GMQL</td>\n",
       "      <td>Region</td>\n",
       "      <td>12.0</td>\n",
       "      <td>.</td>\n",
       "      <td>.</td>\n",
       "      <td>20.0000</td>\n",
       "      <td>-1.0000</td>\n",
       "      <td>-1.0</td>\n",
       "      <td>-1.0</td>\n",
       "    </tr>\n",
       "    <tr>\n",
       "      <th>4670800706188226503</th>\n",
       "      <td>chr2</td>\n",
       "      <td>99</td>\n",
       "      <td>150</td>\n",
       "      <td>*</td>\n",
       "      <td>GMQL</td>\n",
       "      <td>Region</td>\n",
       "      <td>10.0</td>\n",
       "      <td>.</td>\n",
       "      <td>.</td>\n",
       "      <td>9.0</td>\n",
       "      <td>...</td>\n",
       "      <td>-1.0</td>\n",
       "      <td>GMQL</td>\n",
       "      <td>Region</td>\n",
       "      <td>5.0</td>\n",
       "      <td>.</td>\n",
       "      <td>chr2.2538</td>\n",
       "      <td>0.0332</td>\n",
       "      <td>1.3000</td>\n",
       "      <td>-1.0</td>\n",
       "      <td>32.0</td>\n",
       "    </tr>\n",
       "    <tr>\n",
       "      <th>-7728122121608963789</th>\n",
       "      <td>chr2</td>\n",
       "      <td>199</td>\n",
       "      <td>240</td>\n",
       "      <td>*</td>\n",
       "      <td>GMQL</td>\n",
       "      <td>Region</td>\n",
       "      <td>9.0</td>\n",
       "      <td>.</td>\n",
       "      <td>.</td>\n",
       "      <td>22.0</td>\n",
       "      <td>...</td>\n",
       "      <td>-1.0</td>\n",
       "      <td>GMQL</td>\n",
       "      <td>Region</td>\n",
       "      <td>12.0</td>\n",
       "      <td>.</td>\n",
       "      <td>.</td>\n",
       "      <td>20.0000</td>\n",
       "      <td>-1.0000</td>\n",
       "      <td>-1.0</td>\n",
       "      <td>-1.0</td>\n",
       "    </tr>\n",
       "  </tbody>\n",
       "</table>\n",
       "<p>5 rows × 22 columns</p>\n",
       "</div>"
      ],
      "text/plain": [
       "                       chr  start  stop strand REF.source REF.feature  \\\n",
       "id_sample                                                               \n",
       " 5758100849671408287  chr4    149   179      -       GMQL      Region   \n",
       " 5758100849671408287  chr4    199   249      -       GMQL      Region   \n",
       "-7728122121608963789  chr2     99   150      *       GMQL      Region   \n",
       " 4670800706188226503  chr2     99   150      *       GMQL      Region   \n",
       "-7728122121608963789  chr2    199   240      *       GMQL      Region   \n",
       "\n",
       "                      REF.score REF.frame REF.name  REF.signal  ...  REF.peak  \\\n",
       "id_sample                                                       ...             \n",
       " 5758100849671408287        0.9         .        .        15.0  ...      -1.0   \n",
       " 5758100849671408287        0.9         .        .        15.0  ...      -1.0   \n",
       "-7728122121608963789       10.0         .        .         9.0  ...      -1.0   \n",
       " 4670800706188226503       10.0         .        .         9.0  ...      -1.0   \n",
       "-7728122121608963789        9.0         .        .        22.0  ...      -1.0   \n",
       "\n",
       "                      EXP.source  EXP.feature EXP.score EXP.frame   EXP.name  \\\n",
       "id_sample                                                                      \n",
       " 5758100849671408287        GMQL       Region     240.0         .          .   \n",
       " 5758100849671408287        GMQL       Region     240.0         .          .   \n",
       "-7728122121608963789        GMQL       Region      12.0         .          .   \n",
       " 4670800706188226503        GMQL       Region       5.0         .  chr2.2538   \n",
       "-7728122121608963789        GMQL       Region      12.0         .          .   \n",
       "\n",
       "                     EXP.signal EXP.pvalue  EXP.qvalue  EXP.peak  \n",
       "id_sample                                                         \n",
       " 5758100849671408287    17.0000    11.1675        -1.0      -1.0  \n",
       " 5758100849671408287    17.0000    11.1675        -1.0      -1.0  \n",
       "-7728122121608963789    20.0000    -1.0000        -1.0      -1.0  \n",
       " 4670800706188226503     0.0332     1.3000        -1.0      32.0  \n",
       "-7728122121608963789    20.0000    -1.0000        -1.0      -1.0  \n",
       "\n",
       "[5 rows x 22 columns]"
      ]
     },
     "execution_count": 10,
     "metadata": {},
     "output_type": "execute_result"
    }
   ],
   "source": [
    "query_result.regs.head()"
   ]
  },
  {
   "cell_type": "markdown",
   "metadata": {},
   "source": [
    "### Metadata"
   ]
  },
  {
   "cell_type": "code",
   "execution_count": 11,
   "metadata": {},
   "outputs": [
    {
     "data": {
      "text/html": [
       "<div>\n",
       "<style scoped>\n",
       "    .dataframe tbody tr th:only-of-type {\n",
       "        vertical-align: middle;\n",
       "    }\n",
       "\n",
       "    .dataframe tbody tr th {\n",
       "        vertical-align: top;\n",
       "    }\n",
       "\n",
       "    .dataframe thead th {\n",
       "        text-align: right;\n",
       "    }\n",
       "</style>\n",
       "<table border=\"1\" class=\"dataframe\">\n",
       "  <thead>\n",
       "    <tr style=\"text-align: right;\">\n",
       "      <th></th>\n",
       "      <th>EXP.ID</th>\n",
       "      <th>EXP.antibody</th>\n",
       "      <th>EXP.antibody_antibodyDescription</th>\n",
       "      <th>EXP.antibody_lab</th>\n",
       "      <th>EXP.antibody_label</th>\n",
       "      <th>EXP.antibody_lots</th>\n",
       "      <th>EXP.antibody_orderUrl</th>\n",
       "      <th>EXP.antibody_tag</th>\n",
       "      <th>EXP.antibody_target</th>\n",
       "      <th>EXP.antibody_targetClass</th>\n",
       "      <th>...</th>\n",
       "      <th>REF.treatment_label</th>\n",
       "      <th>REF.treatment_tag</th>\n",
       "      <th>REF.treatment_type</th>\n",
       "      <th>REF.type</th>\n",
       "      <th>REF.url</th>\n",
       "      <th>REF.view</th>\n",
       "      <th>REF.view_description</th>\n",
       "      <th>REF.view_label</th>\n",
       "      <th>REF.view_tag</th>\n",
       "      <th>REF.view_type</th>\n",
       "    </tr>\n",
       "    <tr>\n",
       "      <th>id_sample</th>\n",
       "      <th></th>\n",
       "      <th></th>\n",
       "      <th></th>\n",
       "      <th></th>\n",
       "      <th></th>\n",
       "      <th></th>\n",
       "      <th></th>\n",
       "      <th></th>\n",
       "      <th></th>\n",
       "      <th></th>\n",
       "      <th></th>\n",
       "      <th></th>\n",
       "      <th></th>\n",
       "      <th></th>\n",
       "      <th></th>\n",
       "      <th></th>\n",
       "      <th></th>\n",
       "      <th></th>\n",
       "      <th></th>\n",
       "      <th></th>\n",
       "      <th></th>\n",
       "    </tr>\n",
       "  </thead>\n",
       "  <tbody>\n",
       "    <tr>\n",
       "      <th>-8999039739831780787</th>\n",
       "      <td>[1891]</td>\n",
       "      <td>[CTCF]</td>\n",
       "      <td>[Rabbit polyclonal. Antibody Target: CTCF]</td>\n",
       "      <td>[Myers, Hardison, Snyder]</td>\n",
       "      <td>[CTCF (07-729)]</td>\n",
       "      <td>[1350637 DAM1472197]</td>\n",
       "      <td>[http://www.millipore.com/catalogue/item/07-729]</td>\n",
       "      <td>[CTCF]</td>\n",
       "      <td>[CTCF]</td>\n",
       "      <td>[TFSS]</td>\n",
       "      <td>...</td>\n",
       "      <td>[No treatment or prot]</td>\n",
       "      <td>[NONE]</td>\n",
       "      <td>[control]</td>\n",
       "      <td>[narrowPeak]</td>\n",
       "      <td>[http://hgdownload.cse.ucsc.edu/goldenPath/hg1...</td>\n",
       "      <td>[Peaks]</td>\n",
       "      <td>[Regions of enriched signal in experiment]</td>\n",
       "      <td>[Peaks]</td>\n",
       "      <td>[PKS]</td>\n",
       "      <td>[view]</td>\n",
       "    </tr>\n",
       "    <tr>\n",
       "      <th>-8744938632702845394</th>\n",
       "      <td>[1460]</td>\n",
       "      <td>[]</td>\n",
       "      <td>[]</td>\n",
       "      <td>[]</td>\n",
       "      <td>[]</td>\n",
       "      <td>[]</td>\n",
       "      <td>[]</td>\n",
       "      <td>[]</td>\n",
       "      <td>[]</td>\n",
       "      <td>[]</td>\n",
       "      <td>...</td>\n",
       "      <td>[No treatment or prot]</td>\n",
       "      <td>[NONE]</td>\n",
       "      <td>[control]</td>\n",
       "      <td>[narrowPeak]</td>\n",
       "      <td>[http://hgdownload.cse.ucsc.edu/goldenPath/hg1...</td>\n",
       "      <td>[Peaks]</td>\n",
       "      <td>[Regions of enriched signal in experiment]</td>\n",
       "      <td>[Peaks]</td>\n",
       "      <td>[PKS]</td>\n",
       "      <td>[view]</td>\n",
       "    </tr>\n",
       "    <tr>\n",
       "      <th>-8566469212180078812</th>\n",
       "      <td>[1892]</td>\n",
       "      <td>[CTCF]</td>\n",
       "      <td>[Rabbit polyclonal. Antibody Target: CTCF]</td>\n",
       "      <td>[Myers, Hardison, Snyder]</td>\n",
       "      <td>[CTCF (07-729)]</td>\n",
       "      <td>[1350637 DAM1472197]</td>\n",
       "      <td>[http://www.millipore.com/catalogue/item/07-729]</td>\n",
       "      <td>[CTCF]</td>\n",
       "      <td>[CTCF]</td>\n",
       "      <td>[TFSS]</td>\n",
       "      <td>...</td>\n",
       "      <td>[No treatment or prot]</td>\n",
       "      <td>[NONE]</td>\n",
       "      <td>[control]</td>\n",
       "      <td>[narrowPeak]</td>\n",
       "      <td>[http://hgdownload.cse.ucsc.edu/goldenPath/hg1...</td>\n",
       "      <td>[Peaks]</td>\n",
       "      <td>[Regions of enriched signal in experiment]</td>\n",
       "      <td>[Peaks]</td>\n",
       "      <td>[PKS]</td>\n",
       "      <td>[view]</td>\n",
       "    </tr>\n",
       "    <tr>\n",
       "      <th>-7728122121608963789</th>\n",
       "      <td>[42]</td>\n",
       "      <td>[]</td>\n",
       "      <td>[]</td>\n",
       "      <td>[]</td>\n",
       "      <td>[]</td>\n",
       "      <td>[]</td>\n",
       "      <td>[]</td>\n",
       "      <td>[]</td>\n",
       "      <td>[]</td>\n",
       "      <td>[]</td>\n",
       "      <td>...</td>\n",
       "      <td>[No treatment or prot]</td>\n",
       "      <td>[NONE]</td>\n",
       "      <td>[control]</td>\n",
       "      <td>[narrowPeak]</td>\n",
       "      <td>[http://hgdownload.cse.ucsc.edu/goldenPath/hg1...</td>\n",
       "      <td>[Peaks]</td>\n",
       "      <td>[Regions of enriched signal in experiment]</td>\n",
       "      <td>[Peaks]</td>\n",
       "      <td>[PKS]</td>\n",
       "      <td>[view]</td>\n",
       "    </tr>\n",
       "    <tr>\n",
       "      <th>-7571531587018517458</th>\n",
       "      <td>[1892]</td>\n",
       "      <td>[CTCF]</td>\n",
       "      <td>[Rabbit polyclonal. Antibody Target: CTCF]</td>\n",
       "      <td>[Myers, Hardison, Snyder]</td>\n",
       "      <td>[CTCF (07-729)]</td>\n",
       "      <td>[1350637 DAM1472197]</td>\n",
       "      <td>[http://www.millipore.com/catalogue/item/07-729]</td>\n",
       "      <td>[CTCF]</td>\n",
       "      <td>[CTCF]</td>\n",
       "      <td>[TFSS]</td>\n",
       "      <td>...</td>\n",
       "      <td>[No treatment or prot]</td>\n",
       "      <td>[NONE]</td>\n",
       "      <td>[control]</td>\n",
       "      <td>[narrowPeak]</td>\n",
       "      <td>[http://hgdownload.cse.ucsc.edu/goldenPath/hg1...</td>\n",
       "      <td>[Peaks]</td>\n",
       "      <td>[Regions of enriched signal in experiment]</td>\n",
       "      <td>[Peaks]</td>\n",
       "      <td>[PKS]</td>\n",
       "      <td>[view]</td>\n",
       "    </tr>\n",
       "  </tbody>\n",
       "</table>\n",
       "<p>5 rows × 189 columns</p>\n",
       "</div>"
      ],
      "text/plain": [
       "                      EXP.ID EXP.antibody  \\\n",
       "id_sample                                   \n",
       "-8999039739831780787  [1891]       [CTCF]   \n",
       "-8744938632702845394  [1460]           []   \n",
       "-8566469212180078812  [1892]       [CTCF]   \n",
       "-7728122121608963789    [42]           []   \n",
       "-7571531587018517458  [1892]       [CTCF]   \n",
       "\n",
       "                                EXP.antibody_antibodyDescription  \\\n",
       "id_sample                                                          \n",
       "-8999039739831780787  [Rabbit polyclonal. Antibody Target: CTCF]   \n",
       "-8744938632702845394                                          []   \n",
       "-8566469212180078812  [Rabbit polyclonal. Antibody Target: CTCF]   \n",
       "-7728122121608963789                                          []   \n",
       "-7571531587018517458  [Rabbit polyclonal. Antibody Target: CTCF]   \n",
       "\n",
       "                               EXP.antibody_lab EXP.antibody_label  \\\n",
       "id_sample                                                            \n",
       "-8999039739831780787  [Myers, Hardison, Snyder]    [CTCF (07-729)]   \n",
       "-8744938632702845394                         []                 []   \n",
       "-8566469212180078812  [Myers, Hardison, Snyder]    [CTCF (07-729)]   \n",
       "-7728122121608963789                         []                 []   \n",
       "-7571531587018517458  [Myers, Hardison, Snyder]    [CTCF (07-729)]   \n",
       "\n",
       "                         EXP.antibody_lots  \\\n",
       "id_sample                                    \n",
       "-8999039739831780787  [1350637 DAM1472197]   \n",
       "-8744938632702845394                    []   \n",
       "-8566469212180078812  [1350637 DAM1472197]   \n",
       "-7728122121608963789                    []   \n",
       "-7571531587018517458  [1350637 DAM1472197]   \n",
       "\n",
       "                                                 EXP.antibody_orderUrl  \\\n",
       "id_sample                                                                \n",
       "-8999039739831780787  [http://www.millipore.com/catalogue/item/07-729]   \n",
       "-8744938632702845394                                                []   \n",
       "-8566469212180078812  [http://www.millipore.com/catalogue/item/07-729]   \n",
       "-7728122121608963789                                                []   \n",
       "-7571531587018517458  [http://www.millipore.com/catalogue/item/07-729]   \n",
       "\n",
       "                     EXP.antibody_tag EXP.antibody_target  \\\n",
       "id_sample                                                   \n",
       "-8999039739831780787           [CTCF]              [CTCF]   \n",
       "-8744938632702845394               []                  []   \n",
       "-8566469212180078812           [CTCF]              [CTCF]   \n",
       "-7728122121608963789               []                  []   \n",
       "-7571531587018517458           [CTCF]              [CTCF]   \n",
       "\n",
       "                     EXP.antibody_targetClass  ...     REF.treatment_label  \\\n",
       "id_sample                                      ...                           \n",
       "-8999039739831780787                   [TFSS]  ...  [No treatment or prot]   \n",
       "-8744938632702845394                       []  ...  [No treatment or prot]   \n",
       "-8566469212180078812                   [TFSS]  ...  [No treatment or prot]   \n",
       "-7728122121608963789                       []  ...  [No treatment or prot]   \n",
       "-7571531587018517458                   [TFSS]  ...  [No treatment or prot]   \n",
       "\n",
       "                     REF.treatment_tag REF.treatment_type      REF.type  \\\n",
       "id_sample                                                                 \n",
       "-8999039739831780787            [NONE]          [control]  [narrowPeak]   \n",
       "-8744938632702845394            [NONE]          [control]  [narrowPeak]   \n",
       "-8566469212180078812            [NONE]          [control]  [narrowPeak]   \n",
       "-7728122121608963789            [NONE]          [control]  [narrowPeak]   \n",
       "-7571531587018517458            [NONE]          [control]  [narrowPeak]   \n",
       "\n",
       "                                                                REF.url  \\\n",
       "id_sample                                                                 \n",
       "-8999039739831780787  [http://hgdownload.cse.ucsc.edu/goldenPath/hg1...   \n",
       "-8744938632702845394  [http://hgdownload.cse.ucsc.edu/goldenPath/hg1...   \n",
       "-8566469212180078812  [http://hgdownload.cse.ucsc.edu/goldenPath/hg1...   \n",
       "-7728122121608963789  [http://hgdownload.cse.ucsc.edu/goldenPath/hg1...   \n",
       "-7571531587018517458  [http://hgdownload.cse.ucsc.edu/goldenPath/hg1...   \n",
       "\n",
       "                     REF.view                        REF.view_description  \\\n",
       "id_sample                                                                   \n",
       "-8999039739831780787  [Peaks]  [Regions of enriched signal in experiment]   \n",
       "-8744938632702845394  [Peaks]  [Regions of enriched signal in experiment]   \n",
       "-8566469212180078812  [Peaks]  [Regions of enriched signal in experiment]   \n",
       "-7728122121608963789  [Peaks]  [Regions of enriched signal in experiment]   \n",
       "-7571531587018517458  [Peaks]  [Regions of enriched signal in experiment]   \n",
       "\n",
       "                     REF.view_label REF.view_tag REF.view_type  \n",
       "id_sample                                                       \n",
       "-8999039739831780787        [Peaks]        [PKS]        [view]  \n",
       "-8744938632702845394        [Peaks]        [PKS]        [view]  \n",
       "-8566469212180078812        [Peaks]        [PKS]        [view]  \n",
       "-7728122121608963789        [Peaks]        [PKS]        [view]  \n",
       "-7571531587018517458        [Peaks]        [PKS]        [view]  \n",
       "\n",
       "[5 rows x 189 columns]"
      ]
     },
     "execution_count": 11,
     "metadata": {},
     "output_type": "execute_result"
    }
   ],
   "source": [
    "query_result.meta.head()"
   ]
  }
 ],
 "metadata": {
  "kernelspec": {
   "display_name": "Python 3",
   "language": "python",
   "name": "python3"
  },
  "language_info": {
   "codemirror_mode": {
    "name": "ipython",
    "version": 3
   },
   "file_extension": ".py",
   "mimetype": "text/x-python",
   "name": "python",
   "nbconvert_exporter": "python",
   "pygments_lexer": "ipython3",
   "version": "3.7.3"
  },
  "pycharm": {
   "stem_cell": {
    "cell_type": "raw",
    "metadata": {
     "collapsed": false
    },
    "source": []
   }
  }
 },
 "nbformat": 4,
 "nbformat_minor": 2
}
