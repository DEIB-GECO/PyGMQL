{
 "cells": [
  {
   "cell_type": "markdown",
   "metadata": {},
   "source": [
    "## Index\n",
    "\n",
    "0. [Introduction](./00_Introduction.ipynb)\n",
    "1. [A simple example](./01_A_simple_example.ipynb)\n",
    "2. [Mixing Local and Remote processing](./02_Mixing_Local_Remote_Processing.ipynb)\n",
    "3. [GWAS on cloud](./03_GWAS.ipynb)"
   ]
  },
  {
   "cell_type": "markdown",
   "metadata": {},
   "source": [
    "#### Setting the JAVA_HOME environment variable (necessary only inside myBinder)\n",
    "The following instructions are only necessary in this tutorials when they are run using the myBinder interface!"
   ]
  },
  {
   "cell_type": "code",
   "execution_count": 60,
   "metadata": {
    "collapsed": true
   },
   "outputs": [],
   "source": [
    "# import os\n",
    "# os.environ['JAVA_HOME'] = '/usr/'"
   ]
  },
  {
   "cell_type": "markdown",
   "metadata": {},
   "source": [
    "# Mixing local and remote processing\n",
    "\n",
    "In this tutorial you will learn:\n",
    "1. How to connect to a remote GMQL instance and run remote queries\n",
    "2. How to interleave remote and local GMQL processing\n",
    "3. How to manipulate the GDataframe data structure to plot an heatmap\n",
    "4. How to perform a Principal Component Analysis using the GDataframe data structure\n",
    "5. How to transform a pure Pandas Dataframe back to a GMQLDataset to perform a new query"
   ]
  },
  {
   "cell_type": "markdown",
   "metadata": {},
   "source": [
    "## Connecting to a remote GMQL instance\n",
    "\n",
    "PyGMQL can interact with a remote server hosting a GMQL instance and repository.\n",
    "\n",
    "In order to connect to the remote instance the user has to:\n",
    "1. Set the IP address of the service\n",
    "2. Login to the server\n",
    "\n",
    "It must be noticed that GMQL offers both authenticated and un-authenticated login: by default PyGMQL executes an un-authenticated login. This means that the remote instance will provide PyGMQL with limited resources and not permanent result storage. In order to login to the GMQL server as an authenticated user, one has to:\n",
    "1. Register on the remote service by going to its IP address from the web browser\n",
    "2. Use the `pygmql_login` tool, which is installed together with the library"
   ]
  },
  {
   "cell_type": "code",
   "execution_count": 61,
   "metadata": {},
   "outputs": [
    {
     "name": "stderr",
     "output_type": "stream",
     "text": [
      "[PyGMQL] Logging using stored authentication token\n"
     ]
    }
   ],
   "source": [
    "import gmql as gl\n",
    "\n",
    "gl.set_remote_address(\"http://gmql.eu/gmql-rest/\")\n",
    "gl.login()"
   ]
  },
  {
   "cell_type": "markdown",
   "metadata": {},
   "source": [
    "From this point on, all the remote calls (explained later) will be forwarded to the GMQL service hosted at the specified address as a guest user.\n",
    "\n",
    "## Remote execution\n",
    "With PyGMQL the user can decide if the next query (sequence of statements on GMQLDatasets ended with a materialization) will be executed locally or on the remote service.\n",
    "This can be done using the `set_mode` function. If the user sets the mode to `remote` the following will happen:\n",
    "\n",
    "1. The local datasets that are used are uploaded to the remote service. Nothing is done to the remote datasets used in the query (if present) since they are already on the server.\n",
    "2. A compressed representation of the query is sent to the remote service, decoded and executed\n",
    "3. Once the execution is complete, the results are downloaded, stored and loaded into a `GDataframe` \n",
    "."
   ]
  },
  {
   "cell_type": "markdown",
   "metadata": {},
   "source": [
    "The following image describes the steps of remote processing with PyGMQL:\n",
    "<center><img src=\"./images/remote.png\"></center>"
   ]
  },
  {
   "cell_type": "markdown",
   "metadata": {},
   "source": [
    "## The example\n",
    "We will showcase these features through a simple example. \n",
    "\n",
    "We want to understand the enrichment of histone modifications on promotorial regions of a specific set of genes (TP53, MYC, MAX, MAZ, PTEN). In particular:\n",
    "\n",
    "* The gene RefSeq annotation dataset holds the information about gene symbols and coordinates and it is stored in the remote server\n",
    "* The Chip-Seq data about histone modifications will come from ENCODE and it is as well stored in the remote system.\n",
    "\n",
    "The result of the analysis will be an heatmap $genes \\times histone\\_mark$ displaying the average signal value of each HM for each of the selected genes."
   ]
  },
  {
   "cell_type": "markdown",
   "metadata": {},
   "source": [
    "### Finding the promotorial regions\n",
    "\n",
    "We will use as definition of promoter the region situated at $\\left[gene_{start} - 2000; gene_{start} + 2000\\right]$.\n",
    "\n",
    "We will perform this operation remotely."
   ]
  },
  {
   "cell_type": "code",
   "execution_count": 65,
   "metadata": {},
   "outputs": [],
   "source": [
    "gl.set_mode(\"remote\")"
   ]
  },
  {
   "cell_type": "markdown",
   "metadata": {},
   "source": [
    "We \"load\" the remote RefSeq dataset using the `load_from_remote` function. Since this dataset is available to all the users of the system, we will specify `public` as the ownership of the datasets. In the case in which we are loading our private datasets stored on the service, we can omit the `owner` parameter."
   ]
  },
  {
   "cell_type": "code",
   "execution_count": 66,
   "metadata": {},
   "outputs": [],
   "source": [
    "genes = gl.load_from_remote(\"HG19_ANNOTATION_REFSEQ\", owner=\"public\")"
   ]
  },
  {
   "cell_type": "markdown",
   "metadata": {},
   "source": [
    "Now we have to:\n",
    "1. Select only the samples from the `HG19_ANNOTATION_REFSEQ` dataset specific of genes\n",
    "2. Select only the regions related to the genes (TP53, MYC, MAX, MAZ, PTEN)\n",
    "\n",
    "This operation can be done using the `select` function on the `gene` GMQLDataset variable."
   ]
  },
  {
   "cell_type": "code",
   "execution_count": 67,
   "metadata": {},
   "outputs": [],
   "source": [
    "genes = genes.select(meta_predicate=genes[\"annotation_type\"] == 'gene')"
   ]
  },
  {
   "cell_type": "markdown",
   "metadata": {},
   "source": [
    "To extract the promotorial regions we will use the `reg_project` (region projection) operation. In particular the following call will:\n",
    "1. Return a dataset with only the `chr, start, stop, gene_symbol` region fields\n",
    "2. For each gene, return the genomic position at $\\left[gene_{start} - 2000; gene_{start} + 2000\\right]$ taking also into account the strand of the gene."
   ]
  },
  {
   "cell_type": "code",
   "execution_count": 68,
   "metadata": {},
   "outputs": [],
   "source": [
    "promoters = genes.reg_project(field_list=['gene_symbol'], \n",
    "                              new_field_dict={'start': genes.start - 2000, \n",
    "                                              'stop': genes.start + 2000})"
   ]
  },
  {
   "cell_type": "markdown",
   "metadata": {},
   "source": [
    "Since we are interested in keeping the result of this part of the query for future usage, we will materialize the result locally."
   ]
  },
  {
   "cell_type": "code",
   "execution_count": 69,
   "metadata": {},
   "outputs": [
    {
     "name": "stdout",
     "output_type": "stream",
     "text": [
      "RUNNING.."
     ]
    },
    {
     "name": "stderr",
     "output_type": "stream",
     "text": [
      "100%|████████████████████████████████████████████████████████████████████████████████████| 1/1 [00:08<00:00,  8.45s/it]\n"
     ]
    }
   ],
   "source": [
    "promoters = promoters.materialize(\"./promoters\", all_load=False)"
   ]
  },
  {
   "cell_type": "markdown",
   "metadata": {},
   "source": [
    "### Selecting the histone marks\n",
    "\n",
    "Next we want to select the H3K27me3, H3K36me3, H3K4me1, H3K79me2, H3K9ac and H3K9me3 from the `HG19_ENCODE_BROAD_NOV_2017` dataset, also in this case stored remotely.\n",
    "As before, we will load the dataset using `load_from_remote`. The following operation is a *meta selection*, which means that the selection will be done on the metadata attributes of the dataset. The resulting dataset will have all the samples for which the metadata satisfy the specified predicate.\n",
    "\n",
    "In PyGMQL the metadata selection follows the same syntax as the Pandas Python data analysis library \n",
    "```\n",
    "selected_dataset = dataset[dataset['metadata_attribute'] == 'value']\n",
    "```\n",
    "Since we want to test for multiple histone marks we can use the `isin()` operator."
   ]
  },
  {
   "cell_type": "code",
   "execution_count": 70,
   "metadata": {},
   "outputs": [],
   "source": [
    "hms = gl.load_from_remote(\"HG19_ENCODE_BROAD_NOV_2017\", owner=\"public\")\n",
    "hms = hms[hms['experiment_target'].isin(['H3K27me3-human', 'H3K36me3-human', \n",
    "                                         \"H3K4me1-human\", \"H3K79me2-human\", \n",
    "                                         \"H3K9ac-human\", \"H3K9me3-human\"])]"
   ]
  },
  {
   "cell_type": "markdown",
   "metadata": {},
   "source": [
    "### Grouping replicates\n",
    "\n",
    "The dataset resulting from the previous selection will have several duplicates for each region, due to the several biological and technical replicates offered by ENCODE. Therefore we need a way to group together the overlapping regions and to aggregate the relative signal values.\n",
    "\n",
    "This can be done using the `normal_cover` operation. In particular this function enables you to specify:\n",
    "1. The number of minimum overlappings for a region to be kept\n",
    "2. The maximum number of overlappings for a region to be kept\n",
    "3. If you want to groupby the resulting samples by some metadata attribute\n",
    "4. The aggregation function for the input region fields to be applied to the region groupings\n",
    "\n",
    "In our case we will keep all the regions (minimum overallpping = 1, maximum overlapping = \"ANY\") and group by the `experiment_target` metadata attribute. The signals of overlapping regions will be averaged."
   ]
  },
  {
   "cell_type": "code",
   "execution_count": 71,
   "metadata": {},
   "outputs": [],
   "source": [
    "hms = hms.normal_cover(1, \"ANY\", groupBy=['experiment_target'], \n",
    "                       new_reg_fields={'avg_signal': gl.AVG(\"signal\")})"
   ]
  },
  {
   "cell_type": "markdown",
   "metadata": {},
   "source": [
    "Also in this case we want to keep the resulting dataset for later processing."
   ]
  },
  {
   "cell_type": "code",
   "execution_count": 72,
   "metadata": {},
   "outputs": [
    {
     "name": "stdout",
     "output_type": "stream",
     "text": [
      "RUNNING..."
     ]
    },
    {
     "name": "stderr",
     "output_type": "stream",
     "text": [
      "100%|████████████████████████████████████████████████████████████████████████████████████| 6/6 [01:20<00:00, 20.29s/it]\n"
     ]
    }
   ],
   "source": [
    "hms = hms.materialize(\"./hms\", all_load=False)"
   ]
  },
  {
   "cell_type": "markdown",
   "metadata": {},
   "source": [
    "### Mapping the histone marks signal to the promotorial regions\n",
    "\n",
    "Now that we have our set of gene promoters and our set of histone marks, we want to map the signal of the latter to the regions of the former. We can do that using the `map` operation. In particular, since on a promotorial region can be mapped multiple HMs, we will aggregate the signal by averaging it.\n",
    "\n",
    "We decide to perform the following operations on the local machine."
   ]
  },
  {
   "cell_type": "code",
   "execution_count": 73,
   "metadata": {},
   "outputs": [],
   "source": [
    "gl.set_mode(\"local\")"
   ]
  },
  {
   "cell_type": "code",
   "execution_count": 74,
   "metadata": {},
   "outputs": [],
   "source": [
    "mapping = promoters.map(hms, refName='prom', \n",
    "                        expName=\"hm\", \n",
    "                        new_reg_fields={'avg_signal': gl.AVG(\"avg_signal\")})"
   ]
  },
  {
   "cell_type": "markdown",
   "metadata": {},
   "source": [
    "We finally materialize the result and load it in a GDataframe."
   ]
  },
  {
   "cell_type": "code",
   "execution_count": 75,
   "metadata": {},
   "outputs": [
    {
     "name": "stderr",
     "output_type": "stream",
     "text": [
      "Collecting regions: 282180it [00:06, 42007.44it/s]\n",
      "100%|█████████████████████████████████████████████████████████████████████████████████| 46/46 [00:00<00:00, 853.90it/s]\n"
     ]
    }
   ],
   "source": [
    "mapping = mapping.materialize(\"./mapping\")"
   ]
  },
  {
   "cell_type": "code",
   "execution_count": 76,
   "metadata": {},
   "outputs": [
    {
     "data": {
      "text/html": [
       "<div>\n",
       "<style>\n",
       "    .dataframe thead tr:only-child th {\n",
       "        text-align: right;\n",
       "    }\n",
       "\n",
       "    .dataframe thead th {\n",
       "        text-align: left;\n",
       "    }\n",
       "\n",
       "    .dataframe tbody tr th {\n",
       "        vertical-align: top;\n",
       "    }\n",
       "</style>\n",
       "<table border=\"1\" class=\"dataframe\">\n",
       "  <thead>\n",
       "    <tr style=\"text-align: right;\">\n",
       "      <th></th>\n",
       "      <th>chr</th>\n",
       "      <th>start</th>\n",
       "      <th>stop</th>\n",
       "      <th>strand</th>\n",
       "      <th>gene_symbol</th>\n",
       "      <th>count_prom_hm</th>\n",
       "      <th>avg_signal</th>\n",
       "    </tr>\n",
       "    <tr>\n",
       "      <th>id_sample</th>\n",
       "      <th></th>\n",
       "      <th></th>\n",
       "      <th></th>\n",
       "      <th></th>\n",
       "      <th></th>\n",
       "      <th></th>\n",
       "      <th></th>\n",
       "    </tr>\n",
       "  </thead>\n",
       "  <tbody>\n",
       "    <tr>\n",
       "      <th>3767191553284817391</th>\n",
       "      <td>chr1</td>\n",
       "      <td>93979906</td>\n",
       "      <td>93983906</td>\n",
       "      <td>-</td>\n",
       "      <td>TRNAC-GCA</td>\n",
       "      <td>0.0</td>\n",
       "      <td>NaN</td>\n",
       "    </tr>\n",
       "    <tr>\n",
       "      <th>3767191553284817391</th>\n",
       "      <td>chr8</td>\n",
       "      <td>121822309</td>\n",
       "      <td>121826309</td>\n",
       "      <td>-</td>\n",
       "      <td>SNTB1</td>\n",
       "      <td>1.0</td>\n",
       "      <td>3.548563</td>\n",
       "    </tr>\n",
       "    <tr>\n",
       "      <th>3767191553284817391</th>\n",
       "      <td>chr3</td>\n",
       "      <td>20381959</td>\n",
       "      <td>20385959</td>\n",
       "      <td>+</td>\n",
       "      <td>LOC101927829</td>\n",
       "      <td>0.0</td>\n",
       "      <td>NaN</td>\n",
       "    </tr>\n",
       "    <tr>\n",
       "      <th>3767191553284817391</th>\n",
       "      <td>chr21</td>\n",
       "      <td>93854</td>\n",
       "      <td>97854</td>\n",
       "      <td>-</td>\n",
       "      <td>DNAJC28</td>\n",
       "      <td>0.0</td>\n",
       "      <td>NaN</td>\n",
       "    </tr>\n",
       "    <tr>\n",
       "      <th>3767191553284817391</th>\n",
       "      <td>chr1</td>\n",
       "      <td>1232679</td>\n",
       "      <td>1236679</td>\n",
       "      <td>+</td>\n",
       "      <td>TRNAN27</td>\n",
       "      <td>0.0</td>\n",
       "      <td>NaN</td>\n",
       "    </tr>\n",
       "  </tbody>\n",
       "</table>\n",
       "</div>"
      ],
      "text/plain": [
       "                       chr      start       stop strand   gene_symbol  \\\n",
       "id_sample                                                               \n",
       "3767191553284817391   chr1   93979906   93983906      -     TRNAC-GCA   \n",
       "3767191553284817391   chr8  121822309  121826309      -         SNTB1   \n",
       "3767191553284817391   chr3   20381959   20385959      +  LOC101927829   \n",
       "3767191553284817391  chr21      93854      97854      -       DNAJC28   \n",
       "3767191553284817391   chr1    1232679    1236679      +       TRNAN27   \n",
       "\n",
       "                     count_prom_hm  avg_signal  \n",
       "id_sample                                       \n",
       "3767191553284817391            0.0         NaN  \n",
       "3767191553284817391            1.0    3.548563  \n",
       "3767191553284817391            0.0         NaN  \n",
       "3767191553284817391            0.0         NaN  \n",
       "3767191553284817391            0.0         NaN  "
      ]
     },
     "execution_count": 76,
     "metadata": {},
     "output_type": "execute_result"
    }
   ],
   "source": [
    "mapping.regs.head()"
   ]
  },
  {
   "cell_type": "code",
   "execution_count": 77,
   "metadata": {},
   "outputs": [
    {
     "data": {
      "text/html": [
       "<div>\n",
       "<style>\n",
       "    .dataframe thead tr:only-child th {\n",
       "        text-align: right;\n",
       "    }\n",
       "\n",
       "    .dataframe thead th {\n",
       "        text-align: left;\n",
       "    }\n",
       "\n",
       "    .dataframe tbody tr th {\n",
       "        vertical-align: top;\n",
       "    }\n",
       "</style>\n",
       "<table border=\"1\" class=\"dataframe\">\n",
       "  <thead>\n",
       "    <tr style=\"text-align: right;\">\n",
       "      <th></th>\n",
       "      <th>hm.antibody_accession</th>\n",
       "      <th>hm.assay</th>\n",
       "      <th>hm.assembly</th>\n",
       "      <th>hm.audit_error</th>\n",
       "      <th>hm.audit_internal_action</th>\n",
       "      <th>hm.audit_not_compliant</th>\n",
       "      <th>hm.audit_warning</th>\n",
       "      <th>hm.biological_replicate_s_</th>\n",
       "      <th>hm.biosample_age</th>\n",
       "      <th>hm.biosample_life_stage</th>\n",
       "      <th>...</th>\n",
       "      <th>prom.data_format_description</th>\n",
       "      <th>prom.download_link</th>\n",
       "      <th>prom.full_name</th>\n",
       "      <th>prom.genome_build</th>\n",
       "      <th>prom.genome_build_accession</th>\n",
       "      <th>prom.original_format</th>\n",
       "      <th>prom.original_url</th>\n",
       "      <th>prom.provider</th>\n",
       "      <th>prom.release_date</th>\n",
       "      <th>prom.release_version</th>\n",
       "    </tr>\n",
       "    <tr>\n",
       "      <th>id_sample</th>\n",
       "      <th></th>\n",
       "      <th></th>\n",
       "      <th></th>\n",
       "      <th></th>\n",
       "      <th></th>\n",
       "      <th></th>\n",
       "      <th></th>\n",
       "      <th></th>\n",
       "      <th></th>\n",
       "      <th></th>\n",
       "      <th></th>\n",
       "      <th></th>\n",
       "      <th></th>\n",
       "      <th></th>\n",
       "      <th></th>\n",
       "      <th></th>\n",
       "      <th></th>\n",
       "      <th></th>\n",
       "      <th></th>\n",
       "      <th></th>\n",
       "      <th></th>\n",
       "    </tr>\n",
       "  </thead>\n",
       "  <tbody>\n",
       "    <tr>\n",
       "      <th>-8047918399829123478</th>\n",
       "      <td>[ENCAB000ANB]</td>\n",
       "      <td>[ChIP-seq]</td>\n",
       "      <td>[hg19]</td>\n",
       "      <td>[]</td>\n",
       "      <td>[missing derived_from, missing unfiltered alig...</td>\n",
       "      <td>[control insufficient read depth, insufficient...</td>\n",
       "      <td>[inconsistent platforms, low read length, mild...</td>\n",
       "      <td>[1, 2]</td>\n",
       "      <td>[31 year, 53 year, unknown]</td>\n",
       "      <td>[adult, embryonic]</td>\n",
       "      <td>...</td>\n",
       "      <td>[http://biomirror.aarnet.edu.au/biomirror/ncbi...</td>\n",
       "      <td>[ftp://ftp.ncbi.nlm.nih.gov/refseq/H_sapiens/a...</td>\n",
       "      <td>[RefSeq Reference Genome Annotation]</td>\n",
       "      <td>[GRCh37.p13]</td>\n",
       "      <td>[GCF_000001405.25]</td>\n",
       "      <td>[gff]</td>\n",
       "      <td>[https://www.ncbi.nlm.nih.gov/projects/genome/...</td>\n",
       "      <td>[RefSeq]</td>\n",
       "      <td>[2013-06-28]</td>\n",
       "      <td>[13]</td>\n",
       "    </tr>\n",
       "    <tr>\n",
       "      <th>-4961556509145986263</th>\n",
       "      <td>[ENCAB000ANH]</td>\n",
       "      <td>[ChIP-seq]</td>\n",
       "      <td>[hg19]</td>\n",
       "      <td>[]</td>\n",
       "      <td>[missing derived_from, missing unfiltered alig...</td>\n",
       "      <td>[control insufficient read depth, insufficient...</td>\n",
       "      <td>[inconsistent platforms, low read length]</td>\n",
       "      <td>[]</td>\n",
       "      <td>[53 year]</td>\n",
       "      <td>[adult]</td>\n",
       "      <td>...</td>\n",
       "      <td>[http://biomirror.aarnet.edu.au/biomirror/ncbi...</td>\n",
       "      <td>[ftp://ftp.ncbi.nlm.nih.gov/refseq/H_sapiens/a...</td>\n",
       "      <td>[RefSeq Reference Genome Annotation]</td>\n",
       "      <td>[GRCh37.p13]</td>\n",
       "      <td>[GCF_000001405.25]</td>\n",
       "      <td>[gff]</td>\n",
       "      <td>[https://www.ncbi.nlm.nih.gov/projects/genome/...</td>\n",
       "      <td>[RefSeq]</td>\n",
       "      <td>[2013-06-28]</td>\n",
       "      <td>[13]</td>\n",
       "    </tr>\n",
       "    <tr>\n",
       "      <th>-4790703078920733789</th>\n",
       "      <td>[ENCAB000ADW]</td>\n",
       "      <td>[ChIP-seq]</td>\n",
       "      <td>[hg19]</td>\n",
       "      <td>[extremely low read depth]</td>\n",
       "      <td>[biological replicates with identical biosampl...</td>\n",
       "      <td>[control insufficient read depth, insufficient...</td>\n",
       "      <td>[low read length, mild to moderate bottlenecking]</td>\n",
       "      <td>[]</td>\n",
       "      <td>[58 year, unknown]</td>\n",
       "      <td>[adult, newborn, unknown]</td>\n",
       "      <td>...</td>\n",
       "      <td>[http://biomirror.aarnet.edu.au/biomirror/ncbi...</td>\n",
       "      <td>[ftp://ftp.ncbi.nlm.nih.gov/refseq/H_sapiens/a...</td>\n",
       "      <td>[RefSeq Reference Genome Annotation]</td>\n",
       "      <td>[GRCh37.p13]</td>\n",
       "      <td>[GCF_000001405.25]</td>\n",
       "      <td>[gff]</td>\n",
       "      <td>[https://www.ncbi.nlm.nih.gov/projects/genome/...</td>\n",
       "      <td>[RefSeq]</td>\n",
       "      <td>[2013-06-28]</td>\n",
       "      <td>[13]</td>\n",
       "    </tr>\n",
       "    <tr>\n",
       "      <th>-4315937178640546765</th>\n",
       "      <td>[ENCAB000ADU]</td>\n",
       "      <td>[ChIP-seq]</td>\n",
       "      <td>[hg19]</td>\n",
       "      <td>[control extremely low read depth, extremely l...</td>\n",
       "      <td>[biological replicates with identical biosampl...</td>\n",
       "      <td>[control insufficient read depth, insufficient...</td>\n",
       "      <td>[inconsistent platforms, low read length, mild...</td>\n",
       "      <td>[]</td>\n",
       "      <td>[31 year, 53 year, unknown]</td>\n",
       "      <td>[adult, newborn, unknown]</td>\n",
       "      <td>...</td>\n",
       "      <td>[http://biomirror.aarnet.edu.au/biomirror/ncbi...</td>\n",
       "      <td>[ftp://ftp.ncbi.nlm.nih.gov/refseq/H_sapiens/a...</td>\n",
       "      <td>[RefSeq Reference Genome Annotation]</td>\n",
       "      <td>[GRCh37.p13]</td>\n",
       "      <td>[GCF_000001405.25]</td>\n",
       "      <td>[gff]</td>\n",
       "      <td>[https://www.ncbi.nlm.nih.gov/projects/genome/...</td>\n",
       "      <td>[RefSeq]</td>\n",
       "      <td>[2013-06-28]</td>\n",
       "      <td>[13]</td>\n",
       "    </tr>\n",
       "    <tr>\n",
       "      <th>-4215283275073074168</th>\n",
       "      <td>[ENCAB000ANX]</td>\n",
       "      <td>[ChIP-seq]</td>\n",
       "      <td>[hg19]</td>\n",
       "      <td>[]</td>\n",
       "      <td>[biological replicates with identical biosampl...</td>\n",
       "      <td>[control insufficient read depth, insufficient...</td>\n",
       "      <td>[inconsistent platforms, low read depth, low r...</td>\n",
       "      <td>[]</td>\n",
       "      <td>[53 year, unknown]</td>\n",
       "      <td>[adult, embryonic]</td>\n",
       "      <td>...</td>\n",
       "      <td>[http://biomirror.aarnet.edu.au/biomirror/ncbi...</td>\n",
       "      <td>[ftp://ftp.ncbi.nlm.nih.gov/refseq/H_sapiens/a...</td>\n",
       "      <td>[RefSeq Reference Genome Annotation]</td>\n",
       "      <td>[GRCh37.p13]</td>\n",
       "      <td>[GCF_000001405.25]</td>\n",
       "      <td>[gff]</td>\n",
       "      <td>[https://www.ncbi.nlm.nih.gov/projects/genome/...</td>\n",
       "      <td>[RefSeq]</td>\n",
       "      <td>[2013-06-28]</td>\n",
       "      <td>[13]</td>\n",
       "    </tr>\n",
       "  </tbody>\n",
       "</table>\n",
       "<p>5 rows × 45 columns</p>\n",
       "</div>"
      ],
      "text/plain": [
       "                     hm.antibody_accession    hm.assay hm.assembly  \\\n",
       "id_sample                                                            \n",
       "-8047918399829123478         [ENCAB000ANB]  [ChIP-seq]      [hg19]   \n",
       "-4961556509145986263         [ENCAB000ANH]  [ChIP-seq]      [hg19]   \n",
       "-4790703078920733789         [ENCAB000ADW]  [ChIP-seq]      [hg19]   \n",
       "-4315937178640546765         [ENCAB000ADU]  [ChIP-seq]      [hg19]   \n",
       "-4215283275073074168         [ENCAB000ANX]  [ChIP-seq]      [hg19]   \n",
       "\n",
       "                                                         hm.audit_error  \\\n",
       "id_sample                                                                 \n",
       "-8047918399829123478                                                 []   \n",
       "-4961556509145986263                                                 []   \n",
       "-4790703078920733789                         [extremely low read depth]   \n",
       "-4315937178640546765  [control extremely low read depth, extremely l...   \n",
       "-4215283275073074168                                                 []   \n",
       "\n",
       "                                               hm.audit_internal_action  \\\n",
       "id_sample                                                                 \n",
       "-8047918399829123478  [missing derived_from, missing unfiltered alig...   \n",
       "-4961556509145986263  [missing derived_from, missing unfiltered alig...   \n",
       "-4790703078920733789  [biological replicates with identical biosampl...   \n",
       "-4315937178640546765  [biological replicates with identical biosampl...   \n",
       "-4215283275073074168  [biological replicates with identical biosampl...   \n",
       "\n",
       "                                                 hm.audit_not_compliant  \\\n",
       "id_sample                                                                 \n",
       "-8047918399829123478  [control insufficient read depth, insufficient...   \n",
       "-4961556509145986263  [control insufficient read depth, insufficient...   \n",
       "-4790703078920733789  [control insufficient read depth, insufficient...   \n",
       "-4315937178640546765  [control insufficient read depth, insufficient...   \n",
       "-4215283275073074168  [control insufficient read depth, insufficient...   \n",
       "\n",
       "                                                       hm.audit_warning  \\\n",
       "id_sample                                                                 \n",
       "-8047918399829123478  [inconsistent platforms, low read length, mild...   \n",
       "-4961556509145986263          [inconsistent platforms, low read length]   \n",
       "-4790703078920733789  [low read length, mild to moderate bottlenecking]   \n",
       "-4315937178640546765  [inconsistent platforms, low read length, mild...   \n",
       "-4215283275073074168  [inconsistent platforms, low read depth, low r...   \n",
       "\n",
       "                     hm.biological_replicate_s_             hm.biosample_age  \\\n",
       "id_sample                                                                      \n",
       "-8047918399829123478                     [1, 2]  [31 year, 53 year, unknown]   \n",
       "-4961556509145986263                         []                    [53 year]   \n",
       "-4790703078920733789                         []           [58 year, unknown]   \n",
       "-4315937178640546765                         []  [31 year, 53 year, unknown]   \n",
       "-4215283275073074168                         []           [53 year, unknown]   \n",
       "\n",
       "                        hm.biosample_life_stage         ...           \\\n",
       "id_sample                                               ...            \n",
       "-8047918399829123478         [adult, embryonic]         ...            \n",
       "-4961556509145986263                    [adult]         ...            \n",
       "-4790703078920733789  [adult, newborn, unknown]         ...            \n",
       "-4315937178640546765  [adult, newborn, unknown]         ...            \n",
       "-4215283275073074168         [adult, embryonic]         ...            \n",
       "\n",
       "                                           prom.data_format_description  \\\n",
       "id_sample                                                                 \n",
       "-8047918399829123478  [http://biomirror.aarnet.edu.au/biomirror/ncbi...   \n",
       "-4961556509145986263  [http://biomirror.aarnet.edu.au/biomirror/ncbi...   \n",
       "-4790703078920733789  [http://biomirror.aarnet.edu.au/biomirror/ncbi...   \n",
       "-4315937178640546765  [http://biomirror.aarnet.edu.au/biomirror/ncbi...   \n",
       "-4215283275073074168  [http://biomirror.aarnet.edu.au/biomirror/ncbi...   \n",
       "\n",
       "                                                     prom.download_link  \\\n",
       "id_sample                                                                 \n",
       "-8047918399829123478  [ftp://ftp.ncbi.nlm.nih.gov/refseq/H_sapiens/a...   \n",
       "-4961556509145986263  [ftp://ftp.ncbi.nlm.nih.gov/refseq/H_sapiens/a...   \n",
       "-4790703078920733789  [ftp://ftp.ncbi.nlm.nih.gov/refseq/H_sapiens/a...   \n",
       "-4315937178640546765  [ftp://ftp.ncbi.nlm.nih.gov/refseq/H_sapiens/a...   \n",
       "-4215283275073074168  [ftp://ftp.ncbi.nlm.nih.gov/refseq/H_sapiens/a...   \n",
       "\n",
       "                                            prom.full_name prom.genome_build  \\\n",
       "id_sample                                                                      \n",
       "-8047918399829123478  [RefSeq Reference Genome Annotation]      [GRCh37.p13]   \n",
       "-4961556509145986263  [RefSeq Reference Genome Annotation]      [GRCh37.p13]   \n",
       "-4790703078920733789  [RefSeq Reference Genome Annotation]      [GRCh37.p13]   \n",
       "-4315937178640546765  [RefSeq Reference Genome Annotation]      [GRCh37.p13]   \n",
       "-4215283275073074168  [RefSeq Reference Genome Annotation]      [GRCh37.p13]   \n",
       "\n",
       "                     prom.genome_build_accession prom.original_format  \\\n",
       "id_sample                                                               \n",
       "-8047918399829123478          [GCF_000001405.25]                [gff]   \n",
       "-4961556509145986263          [GCF_000001405.25]                [gff]   \n",
       "-4790703078920733789          [GCF_000001405.25]                [gff]   \n",
       "-4315937178640546765          [GCF_000001405.25]                [gff]   \n",
       "-4215283275073074168          [GCF_000001405.25]                [gff]   \n",
       "\n",
       "                                                      prom.original_url  \\\n",
       "id_sample                                                                 \n",
       "-8047918399829123478  [https://www.ncbi.nlm.nih.gov/projects/genome/...   \n",
       "-4961556509145986263  [https://www.ncbi.nlm.nih.gov/projects/genome/...   \n",
       "-4790703078920733789  [https://www.ncbi.nlm.nih.gov/projects/genome/...   \n",
       "-4315937178640546765  [https://www.ncbi.nlm.nih.gov/projects/genome/...   \n",
       "-4215283275073074168  [https://www.ncbi.nlm.nih.gov/projects/genome/...   \n",
       "\n",
       "                     prom.provider prom.release_date prom.release_version  \n",
       "id_sample                                                                  \n",
       "-8047918399829123478      [RefSeq]      [2013-06-28]                 [13]  \n",
       "-4961556509145986263      [RefSeq]      [2013-06-28]                 [13]  \n",
       "-4790703078920733789      [RefSeq]      [2013-06-28]                 [13]  \n",
       "-4315937178640546765      [RefSeq]      [2013-06-28]                 [13]  \n",
       "-4215283275073074168      [RefSeq]      [2013-06-28]                 [13]  \n",
       "\n",
       "[5 rows x 45 columns]"
      ]
     },
     "execution_count": 77,
     "metadata": {},
     "output_type": "execute_result"
    }
   ],
   "source": [
    "mapping.meta.head()"
   ]
  },
  {
   "cell_type": "markdown",
   "metadata": {},
   "source": [
    "### Visualizing the HM signal heatmap on the gene promoters\n",
    "\n",
    "Finally we visualize the heatmap (in the form of clusters) with the assistance of the Seaborn visualization package.\n",
    "In order to visualize the data we have to transform the GDataframe data structure in the `mapping` variable in a matricial form where we have $genes$ on the rows and $histone\\_marks$ on the columns. This can be done with the `to_matrix` function offered by the GDataframe.\n",
    "\n",
    "The `to_matrix` method is particularly versatile since it enables the user to project region and metadata at the same time. For example, in our case the information about the histone modification name is stored as a metadata attribute `hm.experiment_target` while we want to use the `avg_signal` region field as matrix value. The `to_matrix` methods therefore enable us to aggregate the information of both regions and metadata in a single structure. \n",
    "\n",
    "Underneeth this method leverages on the `pivot_table` Pandas function and can accept all its parameter together with its specific ones."
   ]
  },
  {
   "cell_type": "code",
   "execution_count": 48,
   "metadata": {},
   "outputs": [
    {
     "name": "stdout",
     "output_type": "stream",
     "text": [
      "Requirement already satisfied: seaborn in c:\\users\\lucan\\anaconda3\\lib\\site-packages (0.8)\n",
      "Requirement already satisfied: numpy in c:\\users\\lucan\\anaconda3\\lib\\site-packages (from seaborn) (1.13.3)\n",
      "Requirement already satisfied: scipy in c:\\users\\lucan\\anaconda3\\lib\\site-packages (from seaborn) (1.0.0)\n",
      "Requirement already satisfied: matplotlib in c:\\users\\lucan\\anaconda3\\lib\\site-packages (from seaborn) (2.0.2)\n",
      "Requirement already satisfied: pandas in c:\\users\\lucan\\anaconda3\\lib\\site-packages (from seaborn) (0.20.3)\n",
      "Requirement already satisfied: six>=1.10 in c:\\users\\lucan\\anaconda3\\lib\\site-packages (from matplotlib->seaborn) (1.11.0)\n",
      "Requirement already satisfied: python-dateutil in c:\\users\\lucan\\anaconda3\\lib\\site-packages (from matplotlib->seaborn) (2.6.1)\n",
      "Requirement already satisfied: pytz in c:\\users\\lucan\\anaconda3\\lib\\site-packages (from matplotlib->seaborn) (2017.2)\n",
      "Requirement already satisfied: cycler>=0.10 in c:\\users\\lucan\\anaconda3\\lib\\site-packages (from matplotlib->seaborn) (0.10.0)\n",
      "Requirement already satisfied: pyparsing!=2.0.4,!=2.1.2,!=2.1.6,>=1.5.6 in c:\\users\\lucan\\anaconda3\\lib\\site-packages (from matplotlib->seaborn) (2.2.0)\n",
      "Requirement already satisfied: scikit-learn in c:\\users\\lucan\\anaconda3\\lib\\site-packages (0.19.1)\n"
     ]
    }
   ],
   "source": [
    "!pip install seaborn\n",
    "!pip install scikit-learn"
   ]
  },
  {
   "cell_type": "code",
   "execution_count": 78,
   "metadata": {},
   "outputs": [],
   "source": [
    "import matplotlib.pyplot as plt\n",
    "import seaborn as sns"
   ]
  },
  {
   "cell_type": "code",
   "execution_count": 79,
   "metadata": {},
   "outputs": [
    {
     "data": {
      "text/plain": [
       "<matplotlib.figure.Figure at 0x1cf5dd04710>"
      ]
     },
     "metadata": {},
     "output_type": "display_data"
    },
    {
     "data": {
      "text/plain": [
       "<matplotlib.figure.Figure at 0x1cf5f362d68>"
      ]
     },
     "metadata": {},
     "output_type": "display_data"
    },
    {
     "data": {
      "image/png": "[encoded data removed]",
      "text/plain": [
       "<matplotlib.figure.Figure at 0x1cf69827f28>"
      ]
     },
     "metadata": {},
     "output_type": "display_data"
    }
   ],
   "source": [
    "plt.figure()\n",
    "sns.clustermap(mapping.to_matrix(index_regs=['gene_symbol'], \n",
    "                                 columns_meta=['hm.experiment_target'], \n",
    "                                 values_regs=['avg_signal'], fill_value=0, dropna=False).sample(100))\n",
    "plt.show()"
   ]
  },
  {
   "cell_type": "markdown",
   "metadata": {},
   "source": [
    "### Performing Principal Component Analysis"
   ]
  },
  {
   "cell_type": "code",
   "execution_count": 93,
   "metadata": {},
   "outputs": [],
   "source": [
    "from sklearn.decomposition import PCA\n",
    "import pandas as pd"
   ]
  },
  {
   "cell_type": "code",
   "execution_count": 94,
   "metadata": {},
   "outputs": [],
   "source": [
    "pca = PCA(n_components=2)"
   ]
  },
  {
   "cell_type": "code",
   "execution_count": 95,
   "metadata": {},
   "outputs": [],
   "source": [
    "promoter_region_VS_hm = mapping.to_matrix(index_regs=['chr', 'start', 'stop', 'gene_symbol'], \n",
    "                                                 columns_meta=['hm.experiment_target'], \n",
    "                                                 values_regs=['avg_signal'], fill_value=0)"
   ]
  },
  {
   "cell_type": "code",
   "execution_count": 96,
   "metadata": {},
   "outputs": [],
   "source": [
    "components = pca.fit_transform(promoter_region_VS_hm.values)"
   ]
  },
  {
   "cell_type": "code",
   "execution_count": 97,
   "metadata": {},
   "outputs": [],
   "source": [
    "PCA_regions = pd.DataFrame(index=promoter_region_VS_hm.index, columns=['1st_component', '2nd_component'], data=components).reset_index()"
   ]
  },
  {
   "cell_type": "code",
   "execution_count": 98,
   "metadata": {},
   "outputs": [
    {
     "data": {
      "image/png": "[encoded data removed]",
      "text/plain": [
       "<matplotlib.figure.Figure at 0x1cf64cb9c88>"
      ]
     },
     "metadata": {},
     "output_type": "display_data"
    }
   ],
   "source": [
    "plt.figure(figsize=(10, 10))\n",
    "sns.regplot(data=PCA_regions, x='1st_component', y='2nd_component', fit_reg=False)\n",
    "plt.show()"
   ]
  }
 ],
 "metadata": {
  "kernelspec": {
   "display_name": "Python (pygmql)",
   "language": "python",
   "name": "pygmql"
  },
  "language_info": {
   "codemirror_mode": {
    "name": "ipython",
    "version": 3
   },
   "file_extension": ".py",
   "mimetype": "text/x-python",
   "name": "python",
   "nbconvert_exporter": "python",
   "pygments_lexer": "ipython3",
   "version": "3.6.3"
  },
  "pycharm": {
   "stem_cell": {
    "cell_type": "raw",
    "metadata": {
     "collapsed": false
    },
    "source": []
   }
  }
 },
 "nbformat": 4,
 "nbformat_minor": 2
}
