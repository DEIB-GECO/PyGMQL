{
 "cells": [
  {
   "cell_type": "markdown",
   "metadata": {},
   "source": [
    "# PyGML: a python API to the GMQL system"
   ]
  },
  {
   "cell_type": "markdown",
   "metadata": {},
   "source": [
    "The user imports the library in his python environment"
   ]
  },
  {
   "cell_type": "code",
   "execution_count": 1,
   "metadata": {
    "collapsed": false,
    "deletable": true,
    "editable": true
   },
   "outputs": [],
   "source": [
    "import gmql as gl"
   ]
  },
  {
   "cell_type": "markdown",
   "metadata": {},
   "source": [
    "Sets the input path from which to take the dataset and the output path where to materialize the results"
   ]
  },
  {
   "cell_type": "code",
   "execution_count": 2,
   "metadata": {
    "collapsed": true,
    "deletable": true,
    "editable": true
   },
   "outputs": [],
   "source": [
    "# loading of a dataset\n",
    "data_path = \"/home/luca/Documenti/resources/hg_narrowPeaks\"\n",
    "output_path = \"/home/luca/Documenti/resources/result\""
   ]
  },
  {
   "cell_type": "markdown",
   "metadata": {},
   "source": [
    "He chooses a parser to use with the data. The available parsers are the one already provided by the GMQL system.\n",
    "For now there is no possibility for the user to define its own parser due to the fact that the loading of data is done by the GMQL system."
   ]
  },
  {
   "cell_type": "code",
   "execution_count": 3,
   "metadata": {
    "collapsed": false,
    "deletable": true,
    "editable": true
   },
   "outputs": [
    {
     "name": "stdout",
     "output_type": "stream",
     "text": [
      "2017-04-16 21:10:45,409 - PyGML logger - INFO - Loading meta data from path /home/luca/Documenti/resources/hg_narrowPeaks\n"
     ]
    },
    {
     "name": "stderr",
     "output_type": "stream",
     "text": [
      "100%|██████████| 2000/2000 [00:17<00:00, 112.87it/s]\n"
     ]
    },
    {
     "name": "stdout",
     "output_type": "stream",
     "text": [
      "2017-04-16 21:11:04,358 - PyGML logger - INFO - dataframe construction\n"
     ]
    },
    {
     "name": "stderr",
     "output_type": "stream",
     "text": [
      "100%|██████████| 115/115 [00:39<00:00,  2.93it/s]"
     ]
    },
    {
     "name": "stdout",
     "output_type": "stream",
     "text": [
      "GMQLDataset\n",
      "\tParser:\tNarrowPeakParser\n",
      "\tIndex:\t0\n"
     ]
    },
    {
     "name": "stderr",
     "output_type": "stream",
     "text": [
      "\n"
     ]
    }
   ],
   "source": [
    "parser = gl.parsers.NarrowPeakParser()\n",
    "\n",
    "data = gl.GMQLDataset(parser=parser)\\\n",
    "                .load_from_path(path=data_path)\n",
    "    \n",
    "data.show_info()"
   ]
  },
  {
   "cell_type": "markdown",
   "metadata": {},
   "source": [
    "When the user loads the file, in reality nothing really happens. All the action but the `materialize` are to be intended as an *intention* of action. All the computation is started when a `materialize` is performed.\n",
    "The only thing that it is really done by the `load_from_path` function is to load all the metadata in memory (in a Pandas dataframe) in order for the user to explore them."
   ]
  },
  {
   "cell_type": "code",
   "execution_count": 15,
   "metadata": {
    "collapsed": false
   },
   "outputs": [
    {
     "data": {
      "text/html": [
       "<div>\n",
       "<table border=\"1\" class=\"dataframe\">\n",
       "  <thead>\n",
       "    <tr style=\"text-align: right;\">\n",
       "      <th></th>\n",
       "      <th>ID</th>\n",
       "      <th>antibody</th>\n",
       "      <th>antibody_lab</th>\n",
       "      <th>cell</th>\n",
       "    </tr>\n",
       "    <tr>\n",
       "      <th>id_sample</th>\n",
       "      <th></th>\n",
       "      <th></th>\n",
       "      <th></th>\n",
       "      <th></th>\n",
       "    </tr>\n",
       "  </thead>\n",
       "  <tbody>\n",
       "    <tr>\n",
       "      <th>-9219482592272593970</th>\n",
       "      <td>[1362]</td>\n",
       "      <td>[STAT3]</td>\n",
       "      <td>[Snyder]</td>\n",
       "      <td>[MCF10A-Er-Src]</td>\n",
       "    </tr>\n",
       "    <tr>\n",
       "      <th>-9203625831147867011</th>\n",
       "      <td>[1960]</td>\n",
       "      <td>[CTCF]</td>\n",
       "      <td>[Myers,]</td>\n",
       "      <td>[HepG2]</td>\n",
       "    </tr>\n",
       "    <tr>\n",
       "      <th>-9198631368136544855</th>\n",
       "      <td>[1624]</td>\n",
       "      <td>[]</td>\n",
       "      <td>[]</td>\n",
       "      <td>[MCF-7]</td>\n",
       "    </tr>\n",
       "    <tr>\n",
       "      <th>-9195412399933906641</th>\n",
       "      <td>[71]</td>\n",
       "      <td>[]</td>\n",
       "      <td>[]</td>\n",
       "      <td>[HGF]</td>\n",
       "    </tr>\n",
       "    <tr>\n",
       "      <th>-9172267737713816558</th>\n",
       "      <td>[355]</td>\n",
       "      <td>[Pol2]</td>\n",
       "      <td>[Farnham,]</td>\n",
       "      <td>[K562]</td>\n",
       "    </tr>\n",
       "  </tbody>\n",
       "</table>\n",
       "</div>"
      ],
      "text/plain": [
       "                          ID antibody antibody_lab             cell\n",
       "id_sample                                                          \n",
       "-9219482592272593970  [1362]  [STAT3]     [Snyder]  [MCF10A-Er-Src]\n",
       "-9203625831147867011  [1960]   [CTCF]     [Myers,]          [HepG2]\n",
       "-9198631368136544855  [1624]       []           []          [MCF-7]\n",
       "-9195412399933906641    [71]       []           []            [HGF]\n",
       "-9172267737713816558   [355]   [Pol2]   [Farnham,]           [K562]"
      ]
     },
     "execution_count": 15,
     "metadata": {},
     "output_type": "execute_result"
    }
   ],
   "source": [
    "# visualize the metadata\n",
    "# for visualization purposes we only show the first rows and only 4 columns\n",
    "data.meta.head()[['ID','antibody','antibody_lab','cell']]"
   ]
  },
  {
   "cell_type": "markdown",
   "metadata": {},
   "source": [
    "This is a demonstration of how the user can create a selection predicate. \n",
    "It was the result of a lot of reasoning and hacking of python function overloading and I am pretty sure that is the best trade-off between usability, easy of writing and expressive power.\n",
    "The user can express arbitrarly complex condition using the usual logical symbols."
   ]
  },
  {
   "cell_type": "code",
   "execution_count": 5,
   "metadata": {
    "collapsed": false,
    "deletable": true,
    "editable": true
   },
   "outputs": [],
   "source": [
    "# selects all the data coming from cell K562 and having antibody H3K4me3\n",
    "condition = (gl.MetaField(\"cell\") == 'K562') & (gl.MetaField(\"antibody\") == 'H3K4me3')\n",
    "\n",
    "filtered_data = data.meta_select(predicate=condition) # test"
   ]
  },
  {
   "cell_type": "markdown",
   "metadata": {},
   "source": [
    "Here we materialize our results to the `output_path`, and automatically we load in memory the result into two Pandas dataframe for local processing, one for regions and one for metadata. The function directly call the GMQL system and makes it perform all operations and optimizations."
   ]
  },
  {
   "cell_type": "code",
   "execution_count": 6,
   "metadata": {
    "collapsed": false,
    "deletable": true,
    "editable": true
   },
   "outputs": [
    {
     "name": "stdout",
     "output_type": "stream",
     "text": [
      "2017-04-16 21:13:40,197 - PyGML logger - INFO - Loading meta data from path /home/luca/Documenti/resources/result/exp/\n"
     ]
    },
    {
     "name": "stderr",
     "output_type": "stream",
     "text": [
      "100%|██████████| 12/12 [00:00<00:00, 1016.88it/s]"
     ]
    },
    {
     "name": "stdout",
     "output_type": "stream",
     "text": [
      "2017-04-16 21:13:40,261 - PyGML logger - INFO - dataframe construction\n"
     ]
    },
    {
     "name": "stderr",
     "output_type": "stream",
     "text": [
      "\n",
      "100%|██████████| 94/94 [00:00<00:00, 135.47it/s]"
     ]
    },
    {
     "name": "stdout",
     "output_type": "stream",
     "text": [
      "2017-04-16 21:13:41,002 - PyGML logger - INFO - Loading region data from path /home/luca/Documenti/resources/result/exp/\n"
     ]
    },
    {
     "name": "stderr",
     "output_type": "stream",
     "text": [
      "\n",
      "100%|██████████| 14/14 [00:10<00:00,  1.24it/s]\n"
     ]
    }
   ],
   "source": [
    "filtered_data = filtered_data.materialize(output_path=output_path)"
   ]
  },
  {
   "cell_type": "markdown",
   "metadata": {},
   "source": [
    "Let's check that the result is coherent with the performed query"
   ]
  },
  {
   "cell_type": "code",
   "execution_count": 16,
   "metadata": {
    "collapsed": false,
    "deletable": true,
    "editable": true
   },
   "outputs": [
    {
     "data": {
      "text/html": [
       "<div>\n",
       "<table border=\"1\" class=\"dataframe\">\n",
       "  <thead>\n",
       "    <tr style=\"text-align: right;\">\n",
       "      <th></th>\n",
       "      <th>cell</th>\n",
       "      <th>antibody</th>\n",
       "    </tr>\n",
       "    <tr>\n",
       "      <th>id_sample</th>\n",
       "      <th></th>\n",
       "      <th></th>\n",
       "    </tr>\n",
       "  </thead>\n",
       "  <tbody>\n",
       "    <tr>\n",
       "      <th>-6509382303831254894</th>\n",
       "      <td>[K562]</td>\n",
       "      <td>[H3K4me3]</td>\n",
       "    </tr>\n",
       "    <tr>\n",
       "      <th>-5512387921408838373</th>\n",
       "      <td>[K562]</td>\n",
       "      <td>[H3K4me3]</td>\n",
       "    </tr>\n",
       "    <tr>\n",
       "      <th>-4037276753222902964</th>\n",
       "      <td>[K562]</td>\n",
       "      <td>[H3K4me3]</td>\n",
       "    </tr>\n",
       "    <tr>\n",
       "      <th>-2728658603483102692</th>\n",
       "      <td>[K562]</td>\n",
       "      <td>[H3K4me3]</td>\n",
       "    </tr>\n",
       "    <tr>\n",
       "      <th>-2321017725132867669</th>\n",
       "      <td>[K562]</td>\n",
       "      <td>[H3K4me3]</td>\n",
       "    </tr>\n",
       "  </tbody>\n",
       "</table>\n",
       "</div>"
      ],
      "text/plain": [
       "                        cell   antibody\n",
       "id_sample                              \n",
       "-6509382303831254894  [K562]  [H3K4me3]\n",
       "-5512387921408838373  [K562]  [H3K4me3]\n",
       "-4037276753222902964  [K562]  [H3K4me3]\n",
       "-2728658603483102692  [K562]  [H3K4me3]\n",
       "-2321017725132867669  [K562]  [H3K4me3]"
      ]
     },
     "execution_count": 16,
     "metadata": {},
     "output_type": "execute_result"
    }
   ],
   "source": [
    "filtered_data.meta.head()[['cell', 'antibody']]"
   ]
  },
  {
   "cell_type": "code",
   "execution_count": 17,
   "metadata": {
    "collapsed": false,
    "deletable": true,
    "editable": true
   },
   "outputs": [
    {
     "data": {
      "text/html": [
       "<div>\n",
       "<table border=\"1\" class=\"dataframe\">\n",
       "  <thead>\n",
       "    <tr style=\"text-align: right;\">\n",
       "      <th></th>\n",
       "      <th>chr</th>\n",
       "      <th>name</th>\n",
       "      <th>pValue</th>\n",
       "      <th>peak</th>\n",
       "      <th>qValue</th>\n",
       "      <th>score</th>\n",
       "      <th>signalValue</th>\n",
       "      <th>start</th>\n",
       "      <th>stop</th>\n",
       "      <th>strand</th>\n",
       "    </tr>\n",
       "    <tr>\n",
       "      <th>id_sample</th>\n",
       "      <th></th>\n",
       "      <th></th>\n",
       "      <th></th>\n",
       "      <th></th>\n",
       "      <th></th>\n",
       "      <th></th>\n",
       "      <th></th>\n",
       "      <th></th>\n",
       "      <th></th>\n",
       "      <th></th>\n",
       "    </tr>\n",
       "  </thead>\n",
       "  <tbody>\n",
       "    <tr>\n",
       "      <th>-494029087713947133</th>\n",
       "      <td>chr1</td>\n",
       "      <td>.</td>\n",
       "      <td>5.18028</td>\n",
       "      <td>-1.0</td>\n",
       "      <td>-1.0</td>\n",
       "      <td>0.0</td>\n",
       "      <td>6.0</td>\n",
       "      <td>118520</td>\n",
       "      <td>118670</td>\n",
       "      <td>*</td>\n",
       "    </tr>\n",
       "    <tr>\n",
       "      <th>-494029087713947133</th>\n",
       "      <td>chr1</td>\n",
       "      <td>.</td>\n",
       "      <td>71.79020</td>\n",
       "      <td>-1.0</td>\n",
       "      <td>-1.0</td>\n",
       "      <td>0.0</td>\n",
       "      <td>46.0</td>\n",
       "      <td>137820</td>\n",
       "      <td>137970</td>\n",
       "      <td>*</td>\n",
       "    </tr>\n",
       "    <tr>\n",
       "      <th>-494029087713947133</th>\n",
       "      <td>chr1</td>\n",
       "      <td>.</td>\n",
       "      <td>21.24010</td>\n",
       "      <td>-1.0</td>\n",
       "      <td>-1.0</td>\n",
       "      <td>0.0</td>\n",
       "      <td>31.0</td>\n",
       "      <td>138400</td>\n",
       "      <td>138550</td>\n",
       "      <td>*</td>\n",
       "    </tr>\n",
       "    <tr>\n",
       "      <th>-494029087713947133</th>\n",
       "      <td>chr1</td>\n",
       "      <td>.</td>\n",
       "      <td>21.24010</td>\n",
       "      <td>-1.0</td>\n",
       "      <td>-1.0</td>\n",
       "      <td>0.0</td>\n",
       "      <td>25.0</td>\n",
       "      <td>138640</td>\n",
       "      <td>138790</td>\n",
       "      <td>*</td>\n",
       "    </tr>\n",
       "    <tr>\n",
       "      <th>-494029087713947133</th>\n",
       "      <td>chr1</td>\n",
       "      <td>.</td>\n",
       "      <td>41.58580</td>\n",
       "      <td>-1.0</td>\n",
       "      <td>-1.0</td>\n",
       "      <td>0.0</td>\n",
       "      <td>41.0</td>\n",
       "      <td>138920</td>\n",
       "      <td>139070</td>\n",
       "      <td>*</td>\n",
       "    </tr>\n",
       "  </tbody>\n",
       "</table>\n",
       "</div>"
      ],
      "text/plain": [
       "                      chr name    pValue  peak  qValue  score  signalValue  \\\n",
       "id_sample                                                                    \n",
       "-494029087713947133  chr1    .   5.18028  -1.0    -1.0    0.0          6.0   \n",
       "-494029087713947133  chr1    .  71.79020  -1.0    -1.0    0.0         46.0   \n",
       "-494029087713947133  chr1    .  21.24010  -1.0    -1.0    0.0         31.0   \n",
       "-494029087713947133  chr1    .  21.24010  -1.0    -1.0    0.0         25.0   \n",
       "-494029087713947133  chr1    .  41.58580  -1.0    -1.0    0.0         41.0   \n",
       "\n",
       "                      start    stop strand  \n",
       "id_sample                                   \n",
       "-494029087713947133  118520  118670      *  \n",
       "-494029087713947133  137820  137970      *  \n",
       "-494029087713947133  138400  138550      *  \n",
       "-494029087713947133  138640  138790      *  \n",
       "-494029087713947133  138920  139070      *  "
      ]
     },
     "execution_count": 17,
     "metadata": {},
     "output_type": "execute_result"
    }
   ],
   "source": [
    "filtered_data.regs.head()"
   ]
  }
 ],
 "metadata": {
  "kernelspec": {
   "display_name": "Python 3",
   "language": "python",
   "name": "python3"
  },
  "language_info": {
   "codemirror_mode": {
    "name": "ipython",
    "version": 3
   },
   "file_extension": ".py",
   "mimetype": "text/x-python",
   "name": "python",
   "nbconvert_exporter": "python",
   "pygments_lexer": "ipython3",
   "version": "3.5.3"
  }
 },
 "nbformat": 4,
 "nbformat_minor": 2
}
