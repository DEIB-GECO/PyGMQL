{
 "cells": [
  {
   "cell_type": "markdown",
   "metadata": {},
   "source": [
    "# PyGML: a python API to the GMQL system"
   ]
  },
  {
   "cell_type": "markdown",
   "metadata": {},
   "source": [
    "The user imports the library in his python environment"
   ]
  },
  {
   "cell_type": "code",
   "execution_count": 1,
   "metadata": {
    "collapsed": true
   },
   "outputs": [],
   "source": [
    "import gmql as gl"
   ]
  },
  {
   "cell_type": "markdown",
   "metadata": {},
   "source": [
    "## Loading datasets"
   ]
  },
  {
   "cell_type": "markdown",
   "metadata": {},
   "source": [
    "Sets the input path from which to take the dataset and the output path where to materialize the results"
   ]
  },
  {
   "cell_type": "code",
   "execution_count": 2,
   "metadata": {
    "collapsed": true
   },
   "outputs": [],
   "source": [
    "# loading of a dataset\n",
    "data_path = \"/home/luca/Documenti/resources/hg_narrowPeaks\"\n",
    "output_path = \"/home/luca/Documenti/resources/result\""
   ]
  },
  {
   "cell_type": "markdown",
   "metadata": {},
   "source": [
    "He chooses a parser to use with the data. The available parsers are the one already provided by the GMQL system.\n",
    "For now there is no possibility for the user to define its own parser due to the fact that the loading of data is done by the GMQL system."
   ]
  },
  {
   "cell_type": "code",
   "execution_count": 3,
   "metadata": {},
   "outputs": [
    {
     "name": "stdout",
     "output_type": "stream",
     "text": [
      "2017-04-20 15:46:01,501 - PyGML logger - INFO - Loading meta data from path /home/luca/Documenti/resources/hg_narrowPeaks\n"
     ]
    },
    {
     "name": "stderr",
     "output_type": "stream",
     "text": [
      "100%|██████████| 2000/2000 [00:23<00:00, 83.57it/s] \n"
     ]
    },
    {
     "name": "stdout",
     "output_type": "stream",
     "text": [
      "2017-04-20 15:46:26,964 - PyGML logger - INFO - dataframe construction\n"
     ]
    },
    {
     "name": "stderr",
     "output_type": "stream",
     "text": [
      "100%|██████████| 115/115 [00:49<00:00,  2.58it/s]"
     ]
    },
    {
     "name": "stdout",
     "output_type": "stream",
     "text": [
      "GMQLDataset\n",
      "\tParser:\tNarrowPeakParser\n",
      "\tIndex:\t0\n"
     ]
    },
    {
     "name": "stderr",
     "output_type": "stream",
     "text": [
      "\n"
     ]
    }
   ],
   "source": [
    "parser = gl.parsers.NarrowPeakParser()\n",
    "\n",
    "data = gl.GMQLDataset(parser=parser)\\\n",
    "                .load_from_path(path=data_path)\n",
    "    \n",
    "data.show_info()"
   ]
  },
  {
   "cell_type": "markdown",
   "metadata": {},
   "source": [
    "When the user loads the file, in reality nothing really happens. All the action but the `materialize` are to be intended as an *intention* of action. All the computation is started when a `materialize` is performed.\n",
    "The only thing that it is really done by the `load_from_path` function is to load all the metadata in memory (in a Pandas dataframe) in order for the user to explore them."
   ]
  },
  {
   "cell_type": "code",
   "execution_count": 4,
   "metadata": {},
   "outputs": [
    {
     "data": {
      "text/html": [
       "<div>\n",
       "<table border=\"1\" class=\"dataframe\">\n",
       "  <thead>\n",
       "    <tr style=\"text-align: right;\">\n",
       "      <th></th>\n",
       "      <th>ID</th>\n",
       "      <th>antibody</th>\n",
       "      <th>antibody_lab</th>\n",
       "      <th>cell</th>\n",
       "    </tr>\n",
       "    <tr>\n",
       "      <th>id_sample</th>\n",
       "      <th></th>\n",
       "      <th></th>\n",
       "      <th></th>\n",
       "      <th></th>\n",
       "    </tr>\n",
       "  </thead>\n",
       "  <tbody>\n",
       "    <tr>\n",
       "      <th>-9217770635305287634</th>\n",
       "      <td>[166]</td>\n",
       "      <td>[EZH2_(39875)]</td>\n",
       "      <td>[Bernstein]</td>\n",
       "      <td>[NHEK]</td>\n",
       "    </tr>\n",
       "    <tr>\n",
       "      <th>-9207218392883319159</th>\n",
       "      <td>[831]</td>\n",
       "      <td>[CTCF]</td>\n",
       "      <td>[Myers,]</td>\n",
       "      <td>[GM19240]</td>\n",
       "    </tr>\n",
       "    <tr>\n",
       "      <th>-9205453250035453609</th>\n",
       "      <td>[1246]</td>\n",
       "      <td>[MAZ_(ab85725)]</td>\n",
       "      <td>[Snyder]</td>\n",
       "      <td>[IMR90]</td>\n",
       "    </tr>\n",
       "    <tr>\n",
       "      <th>-9174810527625421920</th>\n",
       "      <td>[1194]</td>\n",
       "      <td>[Znf143_(16618-1-AP)]</td>\n",
       "      <td>[Snyder]</td>\n",
       "      <td>[HeLa-S3]</td>\n",
       "    </tr>\n",
       "    <tr>\n",
       "      <th>-9158105103324649074</th>\n",
       "      <td>[698]</td>\n",
       "      <td>[TCF7L2]</td>\n",
       "      <td>[Farnham]</td>\n",
       "      <td>[MCF-7]</td>\n",
       "    </tr>\n",
       "  </tbody>\n",
       "</table>\n",
       "</div>"
      ],
      "text/plain": [
       "                          ID               antibody antibody_lab       cell\n",
       "id_sample                                                                  \n",
       "-9217770635305287634   [166]         [EZH2_(39875)]  [Bernstein]     [NHEK]\n",
       "-9207218392883319159   [831]                 [CTCF]     [Myers,]  [GM19240]\n",
       "-9205453250035453609  [1246]        [MAZ_(ab85725)]     [Snyder]    [IMR90]\n",
       "-9174810527625421920  [1194]  [Znf143_(16618-1-AP)]     [Snyder]  [HeLa-S3]\n",
       "-9158105103324649074   [698]               [TCF7L2]    [Farnham]    [MCF-7]"
      ]
     },
     "execution_count": 4,
     "metadata": {},
     "output_type": "execute_result"
    }
   ],
   "source": [
    "# visualize the metadata\n",
    "# for visualization purposes we only show the first rows and only 4 columns\n",
    "data.meta.head()[['ID','antibody','antibody_lab','cell']]"
   ]
  },
  {
   "cell_type": "markdown",
   "metadata": {},
   "source": [
    "## Selection on metadata"
   ]
  },
  {
   "cell_type": "markdown",
   "metadata": {},
   "source": [
    "This is a demonstration of how the user can create a selection predicate. \n",
    "It was the result of a lot of reasoning and hacking of python function overloading and I am pretty sure that is the best trade-off between usability, easy of writing and expressive power.\n",
    "The user can express arbitrarly complex condition using the usual logical symbols."
   ]
  },
  {
   "cell_type": "code",
   "execution_count": 5,
   "metadata": {
    "collapsed": true
   },
   "outputs": [],
   "source": [
    "# selects all the data coming from cell K562 and having antibody H3K4me3\n",
    "condition = (data.MetaField(\"cell\") == 'K562') & (data.MetaField(\"antibody\") == 'H3K4me3')\n",
    "\n",
    "filtered_data = data.meta_select(predicate=condition) # test"
   ]
  },
  {
   "cell_type": "markdown",
   "metadata": {},
   "source": [
    "Here we materialize our results to the `output_path`, and automatically we load in memory the result into two Pandas dataframe for local processing, one for regions and one for metadata. The function directly call the GMQL system and makes it perform all operations and optimizations."
   ]
  },
  {
   "cell_type": "code",
   "execution_count": 6,
   "metadata": {},
   "outputs": [
    {
     "name": "stdout",
     "output_type": "stream",
     "text": [
      "2017-04-20 15:48:18,498 - PyGML logger - INFO - Loading meta data from path /home/luca/Documenti/resources/result/exp/\n"
     ]
    },
    {
     "name": "stderr",
     "output_type": "stream",
     "text": [
      "100%|██████████| 12/12 [00:00<00:00, 570.94it/s]"
     ]
    },
    {
     "name": "stdout",
     "output_type": "stream",
     "text": [
      "2017-04-20 15:48:18,607 - PyGML logger - INFO - dataframe construction\n"
     ]
    },
    {
     "name": "stderr",
     "output_type": "stream",
     "text": [
      "\n",
      "100%|██████████| 94/94 [00:00<00:00, 140.00it/s]"
     ]
    },
    {
     "name": "stdout",
     "output_type": "stream",
     "text": [
      "2017-04-20 15:48:19,298 - PyGML logger - INFO - Loading region data from path /home/luca/Documenti/resources/result/exp/\n"
     ]
    },
    {
     "name": "stderr",
     "output_type": "stream",
     "text": [
      "\n",
      "100%|██████████| 14/14 [00:13<00:00,  1.12it/s]\n"
     ]
    }
   ],
   "source": [
    "filtered_data = filtered_data.materialize(output_path=output_path)"
   ]
  },
  {
   "cell_type": "markdown",
   "metadata": {},
   "source": [
    "Let's check that the result is coherent with the performed query"
   ]
  },
  {
   "cell_type": "code",
   "execution_count": 7,
   "metadata": {},
   "outputs": [
    {
     "data": {
      "text/html": [
       "<div>\n",
       "<table border=\"1\" class=\"dataframe\">\n",
       "  <thead>\n",
       "    <tr style=\"text-align: right;\">\n",
       "      <th></th>\n",
       "      <th>cell</th>\n",
       "      <th>antibody</th>\n",
       "    </tr>\n",
       "    <tr>\n",
       "      <th>id_sample</th>\n",
       "      <th></th>\n",
       "      <th></th>\n",
       "    </tr>\n",
       "  </thead>\n",
       "  <tbody>\n",
       "    <tr>\n",
       "      <th>-5359091651622680202</th>\n",
       "      <td>[K562]</td>\n",
       "      <td>[H3K4me3]</td>\n",
       "    </tr>\n",
       "    <tr>\n",
       "      <th>-5125657087399478862</th>\n",
       "      <td>[K562]</td>\n",
       "      <td>[H3K4me3]</td>\n",
       "    </tr>\n",
       "    <tr>\n",
       "      <th>-3488503578342308248</th>\n",
       "      <td>[K562]</td>\n",
       "      <td>[H3K4me3]</td>\n",
       "    </tr>\n",
       "    <tr>\n",
       "      <th>-3421537147502246704</th>\n",
       "      <td>[K562]</td>\n",
       "      <td>[H3K4me3]</td>\n",
       "    </tr>\n",
       "    <tr>\n",
       "      <th>-2741070829214587910</th>\n",
       "      <td>[K562]</td>\n",
       "      <td>[H3K4me3]</td>\n",
       "    </tr>\n",
       "  </tbody>\n",
       "</table>\n",
       "</div>"
      ],
      "text/plain": [
       "                        cell   antibody\n",
       "id_sample                              \n",
       "-5359091651622680202  [K562]  [H3K4me3]\n",
       "-5125657087399478862  [K562]  [H3K4me3]\n",
       "-3488503578342308248  [K562]  [H3K4me3]\n",
       "-3421537147502246704  [K562]  [H3K4me3]\n",
       "-2741070829214587910  [K562]  [H3K4me3]"
      ]
     },
     "execution_count": 7,
     "metadata": {},
     "output_type": "execute_result"
    }
   ],
   "source": [
    "filtered_data.meta.head()[['cell', 'antibody']]"
   ]
  },
  {
   "cell_type": "code",
   "execution_count": 8,
   "metadata": {},
   "outputs": [
    {
     "data": {
      "text/html": [
       "<div>\n",
       "<table border=\"1\" class=\"dataframe\">\n",
       "  <thead>\n",
       "    <tr style=\"text-align: right;\">\n",
       "      <th></th>\n",
       "      <th>chr</th>\n",
       "      <th>name</th>\n",
       "      <th>pValue</th>\n",
       "      <th>peak</th>\n",
       "      <th>qValue</th>\n",
       "      <th>score</th>\n",
       "      <th>signalValue</th>\n",
       "      <th>start</th>\n",
       "      <th>stop</th>\n",
       "      <th>strand</th>\n",
       "    </tr>\n",
       "    <tr>\n",
       "      <th>id_sample</th>\n",
       "      <th></th>\n",
       "      <th></th>\n",
       "      <th></th>\n",
       "      <th></th>\n",
       "      <th></th>\n",
       "      <th></th>\n",
       "      <th></th>\n",
       "      <th></th>\n",
       "      <th></th>\n",
       "      <th></th>\n",
       "    </tr>\n",
       "  </thead>\n",
       "  <tbody>\n",
       "    <tr>\n",
       "      <th>7671500149727781280</th>\n",
       "      <td>chr1</td>\n",
       "      <td>.</td>\n",
       "      <td>113.1090</td>\n",
       "      <td>-1.0</td>\n",
       "      <td>-1.0</td>\n",
       "      <td>0.0</td>\n",
       "      <td>110.0</td>\n",
       "      <td>137700</td>\n",
       "      <td>137850</td>\n",
       "      <td>*</td>\n",
       "    </tr>\n",
       "    <tr>\n",
       "      <th>7671500149727781280</th>\n",
       "      <td>chr1</td>\n",
       "      <td>.</td>\n",
       "      <td>73.0561</td>\n",
       "      <td>-1.0</td>\n",
       "      <td>-1.0</td>\n",
       "      <td>0.0</td>\n",
       "      <td>81.0</td>\n",
       "      <td>138420</td>\n",
       "      <td>138570</td>\n",
       "      <td>*</td>\n",
       "    </tr>\n",
       "    <tr>\n",
       "      <th>7671500149727781280</th>\n",
       "      <td>chr1</td>\n",
       "      <td>.</td>\n",
       "      <td>73.0561</td>\n",
       "      <td>-1.0</td>\n",
       "      <td>-1.0</td>\n",
       "      <td>0.0</td>\n",
       "      <td>56.0</td>\n",
       "      <td>138680</td>\n",
       "      <td>138830</td>\n",
       "      <td>*</td>\n",
       "    </tr>\n",
       "    <tr>\n",
       "      <th>7671500149727781280</th>\n",
       "      <td>chr1</td>\n",
       "      <td>.</td>\n",
       "      <td>44.4925</td>\n",
       "      <td>-1.0</td>\n",
       "      <td>-1.0</td>\n",
       "      <td>0.0</td>\n",
       "      <td>78.0</td>\n",
       "      <td>138960</td>\n",
       "      <td>139110</td>\n",
       "      <td>*</td>\n",
       "    </tr>\n",
       "    <tr>\n",
       "      <th>7671500149727781280</th>\n",
       "      <td>chr1</td>\n",
       "      <td>.</td>\n",
       "      <td>80.5307</td>\n",
       "      <td>-1.0</td>\n",
       "      <td>-1.0</td>\n",
       "      <td>0.0</td>\n",
       "      <td>62.0</td>\n",
       "      <td>139320</td>\n",
       "      <td>139470</td>\n",
       "      <td>*</td>\n",
       "    </tr>\n",
       "  </tbody>\n",
       "</table>\n",
       "</div>"
      ],
      "text/plain": [
       "                      chr name    pValue  peak  qValue  score  signalValue  \\\n",
       "id_sample                                                                    \n",
       "7671500149727781280  chr1    .  113.1090  -1.0    -1.0    0.0        110.0   \n",
       "7671500149727781280  chr1    .   73.0561  -1.0    -1.0    0.0         81.0   \n",
       "7671500149727781280  chr1    .   73.0561  -1.0    -1.0    0.0         56.0   \n",
       "7671500149727781280  chr1    .   44.4925  -1.0    -1.0    0.0         78.0   \n",
       "7671500149727781280  chr1    .   80.5307  -1.0    -1.0    0.0         62.0   \n",
       "\n",
       "                      start    stop strand  \n",
       "id_sample                                   \n",
       "7671500149727781280  137700  137850      *  \n",
       "7671500149727781280  138420  138570      *  \n",
       "7671500149727781280  138680  138830      *  \n",
       "7671500149727781280  138960  139110      *  \n",
       "7671500149727781280  139320  139470      *  "
      ]
     },
     "execution_count": 8,
     "metadata": {},
     "output_type": "execute_result"
    }
   ],
   "source": [
    "filtered_data.regs.head()"
   ]
  },
  {
   "cell_type": "markdown",
   "metadata": {},
   "source": [
    "## Selection on region data"
   ]
  },
  {
   "cell_type": "code",
   "execution_count": 9,
   "metadata": {
    "collapsed": true
   },
   "outputs": [],
   "source": [
    "output_path = \"/home/luca/Documenti/resources/result1\"\n",
    "condition = (data.RegField(\"chr\") == 'chr9') & (data.RegField(\"start\") >= 138680) & (data.RegField(\"stop\") <= 142000)\n",
    "\n",
    "filtered_data_regs = data.reg_select(predicate=condition)"
   ]
  },
  {
   "cell_type": "code",
   "execution_count": 10,
   "metadata": {},
   "outputs": [
    {
     "name": "stdout",
     "output_type": "stream",
     "text": [
      "2017-04-20 15:57:51,237 - PyGML logger - INFO - Loading meta data from path /home/luca/Documenti/resources/result1/exp/\n"
     ]
    },
    {
     "name": "stderr",
     "output_type": "stream",
     "text": [
      "100%|██████████| 1999/1999 [00:00<00:00, 3095.86it/s]\n"
     ]
    },
    {
     "name": "stdout",
     "output_type": "stream",
     "text": [
      "2017-04-20 15:57:54,345 - PyGML logger - INFO - dataframe construction\n"
     ]
    },
    {
     "name": "stderr",
     "output_type": "stream",
     "text": [
      "100%|██████████| 115/115 [00:45<00:00,  2.17it/s]\n"
     ]
    },
    {
     "name": "stdout",
     "output_type": "stream",
     "text": [
      "2017-04-20 15:58:40,267 - PyGML logger - INFO - Loading region data from path /home/luca/Documenti/resources/result1/exp/\n"
     ]
    },
    {
     "name": "stderr",
     "output_type": "stream",
     "text": [
      "100%|██████████| 14/14 [00:00<00:00, 435.43it/s]\n"
     ]
    }
   ],
   "source": [
    "filtered_data_regs = filtered_data_regs.materialize(\"/home/luca/Documenti/resources/result1\")"
   ]
  },
  {
   "cell_type": "code",
   "execution_count": 11,
   "metadata": {},
   "outputs": [
    {
     "name": "stdout",
     "output_type": "stream",
     "text": [
      "GMQLDataset\n",
      "\tParser:\tNarrowPeakParser\n",
      "\tIndex:\t2\n"
     ]
    }
   ],
   "source": [
    "filtered_data_regs.show_info()"
   ]
  },
  {
   "cell_type": "code",
   "execution_count": 12,
   "metadata": {},
   "outputs": [
    {
     "data": {
      "text/html": [
       "<div>\n",
       "<table border=\"1\" class=\"dataframe\">\n",
       "  <thead>\n",
       "    <tr style=\"text-align: right;\">\n",
       "      <th></th>\n",
       "      <th>chr</th>\n",
       "      <th>name</th>\n",
       "      <th>pValue</th>\n",
       "      <th>peak</th>\n",
       "      <th>qValue</th>\n",
       "      <th>score</th>\n",
       "      <th>signalValue</th>\n",
       "      <th>start</th>\n",
       "      <th>stop</th>\n",
       "      <th>strand</th>\n",
       "    </tr>\n",
       "    <tr>\n",
       "      <th>id_sample</th>\n",
       "      <th></th>\n",
       "      <th></th>\n",
       "      <th></th>\n",
       "      <th></th>\n",
       "      <th></th>\n",
       "      <th></th>\n",
       "      <th></th>\n",
       "      <th></th>\n",
       "      <th></th>\n",
       "      <th></th>\n",
       "    </tr>\n",
       "  </thead>\n",
       "  <tbody>\n",
       "    <tr>\n",
       "      <th>1908981323311506945</th>\n",
       "      <td>chr9</td>\n",
       "      <td>.</td>\n",
       "      <td>-1.00000</td>\n",
       "      <td>-1.0</td>\n",
       "      <td>-1.0</td>\n",
       "      <td>0.0</td>\n",
       "      <td>11.0</td>\n",
       "      <td>140000</td>\n",
       "      <td>140150</td>\n",
       "      <td>*</td>\n",
       "    </tr>\n",
       "    <tr>\n",
       "      <th>-3837274876828151293</th>\n",
       "      <td>chr9</td>\n",
       "      <td>.</td>\n",
       "      <td>19.79740</td>\n",
       "      <td>-1.0</td>\n",
       "      <td>-1.0</td>\n",
       "      <td>0.0</td>\n",
       "      <td>43.0</td>\n",
       "      <td>140000</td>\n",
       "      <td>140150</td>\n",
       "      <td>*</td>\n",
       "    </tr>\n",
       "    <tr>\n",
       "      <th>-6369496270910918077</th>\n",
       "      <td>chr9</td>\n",
       "      <td>.</td>\n",
       "      <td>9.18639</td>\n",
       "      <td>-1.0</td>\n",
       "      <td>-1.0</td>\n",
       "      <td>0.0</td>\n",
       "      <td>14.0</td>\n",
       "      <td>140000</td>\n",
       "      <td>140150</td>\n",
       "      <td>*</td>\n",
       "    </tr>\n",
       "    <tr>\n",
       "      <th>-4672557036496796443</th>\n",
       "      <td>chr9</td>\n",
       "      <td>.</td>\n",
       "      <td>5.65050</td>\n",
       "      <td>-1.0</td>\n",
       "      <td>-1.0</td>\n",
       "      <td>0.0</td>\n",
       "      <td>7.0</td>\n",
       "      <td>140000</td>\n",
       "      <td>140150</td>\n",
       "      <td>*</td>\n",
       "    </tr>\n",
       "    <tr>\n",
       "      <th>2402220549503469350</th>\n",
       "      <td>chr9</td>\n",
       "      <td>.</td>\n",
       "      <td>38.67930</td>\n",
       "      <td>-1.0</td>\n",
       "      <td>-1.0</td>\n",
       "      <td>0.0</td>\n",
       "      <td>67.0</td>\n",
       "      <td>139960</td>\n",
       "      <td>140110</td>\n",
       "      <td>*</td>\n",
       "    </tr>\n",
       "  </tbody>\n",
       "</table>\n",
       "</div>"
      ],
      "text/plain": [
       "                       chr name    pValue  peak  qValue  score  signalValue  \\\n",
       "id_sample                                                                     \n",
       " 1908981323311506945  chr9    .  -1.00000  -1.0    -1.0    0.0         11.0   \n",
       "-3837274876828151293  chr9    .  19.79740  -1.0    -1.0    0.0         43.0   \n",
       "-6369496270910918077  chr9    .   9.18639  -1.0    -1.0    0.0         14.0   \n",
       "-4672557036496796443  chr9    .   5.65050  -1.0    -1.0    0.0          7.0   \n",
       " 2402220549503469350  chr9    .  38.67930  -1.0    -1.0    0.0         67.0   \n",
       "\n",
       "                       start    stop strand  \n",
       "id_sample                                    \n",
       " 1908981323311506945  140000  140150      *  \n",
       "-3837274876828151293  140000  140150      *  \n",
       "-6369496270910918077  140000  140150      *  \n",
       "-4672557036496796443  140000  140150      *  \n",
       " 2402220549503469350  139960  140110      *  "
      ]
     },
     "execution_count": 12,
     "metadata": {},
     "output_type": "execute_result"
    }
   ],
   "source": [
    "filtered_data_regs.regs.head()"
   ]
  },
  {
   "cell_type": "code",
   "execution_count": 15,
   "metadata": {},
   "outputs": [
    {
     "data": {
      "text/html": [
       "<div>\n",
       "<table border=\"1\" class=\"dataframe\">\n",
       "  <thead>\n",
       "    <tr style=\"text-align: right;\">\n",
       "      <th></th>\n",
       "      <th>ID</th>\n",
       "      <th>antibody</th>\n",
       "      <th>antibody_lab</th>\n",
       "      <th>cell</th>\n",
       "    </tr>\n",
       "    <tr>\n",
       "      <th>id_sample</th>\n",
       "      <th></th>\n",
       "      <th></th>\n",
       "      <th></th>\n",
       "      <th></th>\n",
       "    </tr>\n",
       "  </thead>\n",
       "  <tbody>\n",
       "    <tr>\n",
       "      <th>-9214550995092909750</th>\n",
       "      <td>[731]</td>\n",
       "      <td>[CTCF]</td>\n",
       "      <td>[Myers,]</td>\n",
       "      <td>[GM19239]</td>\n",
       "    </tr>\n",
       "    <tr>\n",
       "      <th>-9187999009443647067</th>\n",
       "      <td>[1614]</td>\n",
       "      <td>[]</td>\n",
       "      <td>[]</td>\n",
       "      <td>[LHCN-M2]</td>\n",
       "    </tr>\n",
       "    <tr>\n",
       "      <th>-9173927680047723274</th>\n",
       "      <td>[151]</td>\n",
       "      <td>[EZH2_(39875)]</td>\n",
       "      <td>[Bernstein]</td>\n",
       "      <td>[K562]</td>\n",
       "    </tr>\n",
       "    <tr>\n",
       "      <th>-9161798996683708116</th>\n",
       "      <td>[1258]</td>\n",
       "      <td>[BRF2]</td>\n",
       "      <td>[Struhl]</td>\n",
       "      <td>[K562]</td>\n",
       "    </tr>\n",
       "    <tr>\n",
       "      <th>-9159107200289324465</th>\n",
       "      <td>[1823]</td>\n",
       "      <td>[H3K4me3]</td>\n",
       "      <td>[Bernstein,]</td>\n",
       "      <td>[HUVEC]</td>\n",
       "    </tr>\n",
       "  </tbody>\n",
       "</table>\n",
       "</div>"
      ],
      "text/plain": [
       "                          ID        antibody  antibody_lab       cell\n",
       "id_sample                                                            \n",
       "-9214550995092909750   [731]          [CTCF]      [Myers,]  [GM19239]\n",
       "-9187999009443647067  [1614]              []            []  [LHCN-M2]\n",
       "-9173927680047723274   [151]  [EZH2_(39875)]   [Bernstein]     [K562]\n",
       "-9161798996683708116  [1258]          [BRF2]      [Struhl]     [K562]\n",
       "-9159107200289324465  [1823]       [H3K4me3]  [Bernstein,]    [HUVEC]"
      ]
     },
     "execution_count": 15,
     "metadata": {},
     "output_type": "execute_result"
    }
   ],
   "source": [
    "filtered_data_regs.meta.head()[['ID','antibody','antibody_lab','cell']]"
   ]
  },
  {
   "cell_type": "code",
   "execution_count": null,
   "metadata": {
    "collapsed": true
   },
   "outputs": [],
   "source": []
  }
 ],
 "metadata": {
  "kernelspec": {
   "display_name": "Python 3",
   "language": "python",
   "name": "python3"
  },
  "language_info": {
   "codemirror_mode": {
    "name": "ipython",
    "version": 3
   },
   "file_extension": ".py",
   "mimetype": "text/x-python",
   "name": "python",
   "nbconvert_exporter": "python",
   "pygments_lexer": "ipython3",
   "version": "3.6.1"
  }
 },
 "nbformat": 4,
 "nbformat_minor": 2
}
