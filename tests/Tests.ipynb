{
 "cells": [
  {
   "cell_type": "code",
   "execution_count": 1,
   "metadata": {
    "collapsed": false,
    "deletable": true,
    "editable": true
   },
   "outputs": [],
   "source": [
    "import gmql as gl"
   ]
  },
  {
   "cell_type": "code",
   "execution_count": 2,
   "metadata": {
    "collapsed": false,
    "deletable": true,
    "editable": true
   },
   "outputs": [
    {
     "name": "stdout",
     "output_type": "stream",
     "text": [
      "2017-04-02 12:59:15,348 - gmql_logger - INFO - loading metadata\n",
      "2017-04-02 12:59:17,700 - gmql_logger - INFO - parsing metadata\n",
      "2017-04-02 12:59:17,704 - gmql_logger - INFO - collecting metadata\n",
      "2017-04-02 12:59:23,059 - gmql_logger - INFO - dataframe construction\n"
     ]
    },
    {
     "name": "stderr",
     "output_type": "stream",
     "text": [
      "100%|██████████| 109/109 [00:03<00:00, 28.04it/s]\n"
     ]
    },
    {
     "name": "stdout",
     "output_type": "stream",
     "text": [
      "2017-04-02 12:59:32,456 - gmql_logger - INFO - loading region data\n",
      "2017-04-02 12:59:32,912 - gmql_logger - INFO - parsing region data\n"
     ]
    },
    {
     "name": "stderr",
     "output_type": "stream",
     "text": [
      "/home/luca/spark-2.1.0-bin-hadoop2.7/python/pyspark/sql/session.py:336: UserWarning: Using RDD of dict to inferSchema is deprecated. Use pyspark.sql.Row instead\n",
      "  warnings.warn(\"Using RDD of dict to inferSchema is deprecated. \"\n"
     ]
    }
   ],
   "source": [
    "# path of the dataset\n",
    "input_path = \"/home/luca/Documenti/GMQL-Python/resources/hg_narrowPeaks_short/\"\n",
    "np_parser = gl.parsers.NarrowPeakParser()\n",
    "dataset = gl.GMQLDataset(parser=np_parser)\n",
    "dataset = dataset.load_from_path(path=input_path)"
   ]
  },
  {
   "cell_type": "code",
   "execution_count": null,
   "metadata": {
    "collapsed": false,
    "deletable": true,
    "editable": true
   },
   "outputs": [],
   "source": [
    "filtered = dataset.reg_select(lambda row: row['peak'] != -1 and row['chr'] == 'chr6')"
   ]
  },
  {
   "cell_type": "code",
   "execution_count": 6,
   "metadata": {
    "collapsed": false,
    "deletable": true,
    "editable": true
   },
   "outputs": [],
   "source": [
    "df = dataset.meta_dataset.toPandas()"
   ]
  },
  {
   "cell_type": "code",
   "execution_count": 16,
   "metadata": {
    "collapsed": false,
    "deletable": true,
    "editable": true
   },
   "outputs": [],
   "source": [
    "m = dataset.meta_dataset"
   ]
  },
  {
   "cell_type": "code",
   "execution_count": 36,
   "metadata": {
    "collapsed": false,
    "deletable": true,
    "editable": true
   },
   "outputs": [],
   "source": [
    "import pyspark.sql.functions as functions"
   ]
  },
  {
   "cell_type": "code",
   "execution_count": 39,
   "metadata": {
    "collapsed": false
   },
   "outputs": [],
   "source": [
    "f = m.filter(functions.array_contains(m['antibody'], 'CTCF'))"
   ]
  },
  {
   "cell_type": "code",
   "execution_count": 46,
   "metadata": {
    "collapsed": false
   },
   "outputs": [],
   "source": [
    "row = f.rdd.take(1)[0]"
   ]
  },
  {
   "cell_type": "code",
   "execution_count": 48,
   "metadata": {
    "collapsed": false
   },
   "outputs": [
    {
     "data": {
      "text/plain": [
       "{'ID': ['730'],\n",
       " 'antibody': ['CTCF'],\n",
       " 'antibody_antibodyDescription': ['Rabbit polyclonal. Antibody Target: CTCF'],\n",
       " 'antibody_lab': ['Myers, Hardison, Snyder'],\n",
       " 'antibody_label': ['CTCF (07-729)'],\n",
       " 'antibody_lots': ['1350637 DAM1472197'],\n",
       " 'antibody_orderUrl': ['http://www.millipore.com/catalogue/item/07-729'],\n",
       " 'antibody_tag': ['CTCF'],\n",
       " 'antibody_target': ['CTCF'],\n",
       " 'antibody_targetClass': ['TFSS'],\n",
       " 'antibody_targetDescription': ['CTCF zinc finger transcription factor. A sequence specific DNA binding protein that functions as an insulator, blocking enhancer activity. It has also been suggested to block the spreading of chromatin structure in certain instances.'],\n",
       " 'antibody_targetId': ['GeneCard:CTCF'],\n",
       " 'antibody_targetUrl': ['http://www.genecards.org/cgi-bin/carddisp.pl?gene=CTCF'],\n",
       " 'antibody_type': ['Antibody'],\n",
       " 'antibody_validation': ['Human_-_CTCF_(07-729)(Western_blot,Motif_Enrichment):human_CTCF_validation_Myers.pdf Human_-_CTCF_(07-729)(Western_blot):human_CTCF_07-729_validation_Snyder.pdf Mouse_-_CTCF(Western_blot):mouse_CTCF_validation_Hardison.pdf'],\n",
       " 'antibody_vendorId': ['07-729'],\n",
       " 'antibody_vendorName': ['Millipore'],\n",
       " 'cell': ['GM19238'],\n",
       " 'cell_age': [],\n",
       " 'cell_category': [],\n",
       " 'cell_childOf': ['Lymphoblastoid_cell_line'],\n",
       " 'cell_color': [],\n",
       " 'cell_deprecated': [],\n",
       " 'cell_description': ['B-lymphocyte, lymphoblastoid, International HapMap Project, Yoruba in Ibadan, Nigera, treatment: Epstein-Barr Virus transformed'],\n",
       " 'cell_karyotype': [],\n",
       " 'cell_lab': [],\n",
       " 'cell_label': [],\n",
       " 'cell_lineage': ['mesoderm'],\n",
       " 'cell_lots': [],\n",
       " 'cell_orderUrl': ['http://ccr.coriell.org/Sections/Search/Sample_Detail.aspx?Ref=GM19238'],\n",
       " 'cell_organism': ['human'],\n",
       " 'cell_protocol': ['Crawford:GM19238_Crawford_protocol.pdf'],\n",
       " 'cell_sex': ['F'],\n",
       " 'cell_tag': ['GM19238'],\n",
       " 'cell_termId': ['BTO:0002062 (non-specific)'],\n",
       " 'cell_termUrl': ['http://www.ebi.ac.uk/ontology-lookup/browse.do?ontName=BTO&termId=BTO%3A0002062&termName=B-lymphoblastoid%20cell%20line'],\n",
       " 'cell_tier': ['3'],\n",
       " 'cell_tissue': ['blood'],\n",
       " 'cell_type': ['Cell Line'],\n",
       " 'cell_vendorId': ['GM19238'],\n",
       " 'cell_vendorName': ['Coriell'],\n",
       " 'composite': ['wgEncodeAwgTfbsUniform'],\n",
       " 'control': [],\n",
       " 'controlId': ['generic_female'],\n",
       " 'control_description': [],\n",
       " 'control_label': [],\n",
       " 'control_tag': [],\n",
       " 'control_type': [],\n",
       " 'dataType': ['ChipSeq'],\n",
       " 'dataType_dataGroup': ['TFBS & Histones'],\n",
       " 'dataType_description': ['Chromatin IP Sequencing'],\n",
       " 'dataType_label': ['ChIP-seq'],\n",
       " 'dataType_tag': ['CHIPSEQ'],\n",
       " 'dataType_type': ['dataType'],\n",
       " 'dataVersion': ['ENCODE Mar 2012 Freeze'],\n",
       " 'dateResubmitted': [],\n",
       " 'dateSubmitted': [],\n",
       " 'dateUnrestricted': [],\n",
       " 'dccAccession': ['wgEncodeEH000570'],\n",
       " 'geoSampleAccession': [],\n",
       " 'grant': [],\n",
       " 'grant_description': [],\n",
       " 'grant_grantInst': [],\n",
       " 'grant_label': [],\n",
       " 'grant_projectName': [],\n",
       " 'grant_tag': [],\n",
       " 'grant_type': [],\n",
       " 'lab': ['UT-A'],\n",
       " 'labExpId': [],\n",
       " 'labVersion': [],\n",
       " 'lab_description': ['Iyer - University of Texas at Austin'],\n",
       " 'lab_grantPi': ['Crawford'],\n",
       " 'lab_labInst': ['University of Texas at Austin'],\n",
       " 'lab_labPi': ['Iyer'],\n",
       " 'lab_labPiFull': ['Tara Iyer'],\n",
       " 'lab_label': ['Iyer - UT Austin'],\n",
       " 'lab_organism': ['human'],\n",
       " 'lab_tag': ['UT-A'],\n",
       " 'lab_type': ['lab'],\n",
       " 'md5sum': ['bd0052352d954ab01e3127c2ddbe25b9'],\n",
       " 'objStatus': [],\n",
       " 'origAssembly': [],\n",
       " 'project': ['wgEncode'],\n",
       " 'replicate': [],\n",
       " 'seqPlatform': [],\n",
       " 'seqPlatform_description': [],\n",
       " 'seqPlatform_geoPlatformName': [],\n",
       " 'seqPlatform_label': [],\n",
       " 'seqPlatform_tag': [],\n",
       " 'seqPlatform_type': [],\n",
       " 'setType': [],\n",
       " 'size': ['943K'],\n",
       " 'subId': [],\n",
       " 'submittedDataVersion': [],\n",
       " 'tableName': ['wgEncodeAwgTfbsUtaGm19238CtcfUniPk'],\n",
       " 'treatment': ['None'],\n",
       " 'treatment_deprecated': [],\n",
       " 'treatment_description': ['No special treatment or protocol applies'],\n",
       " 'treatment_label': ['No treatment or prot'],\n",
       " 'treatment_tag': ['NONE'],\n",
       " 'treatment_type': ['control'],\n",
       " 'type': ['narrowPeak'],\n",
       " 'url': ['http://hgdownload.cse.ucsc.edu/goldenPath/hg19/encodeDCC/wgEncodeAwgTfbsUniform/wgEncodeAwgTfbsUtaGm19238CtcfUniPk.narrowPeak.gz'],\n",
       " 'view': ['Peaks'],\n",
       " 'view_description': ['Regions of enriched signal in experiment'],\n",
       " 'view_label': ['Peaks'],\n",
       " 'view_tag': ['PKS'],\n",
       " 'view_type': ['view']}"
      ]
     },
     "execution_count": 48,
     "metadata": {},
     "output_type": "execute_result"
    }
   ],
   "source": [
    "row.asDict()"
   ]
  },
  {
   "cell_type": "code",
   "execution_count": null,
   "metadata": {
    "collapsed": true
   },
   "outputs": [],
   "source": []
  }
 ],
 "metadata": {
  "kernelspec": {
   "display_name": "Python 3",
   "language": "python",
   "name": "python3"
  },
  "language_info": {
   "codemirror_mode": {
    "name": "ipython",
    "version": 3
   },
   "file_extension": ".py",
   "mimetype": "text/x-python",
   "name": "python",
   "nbconvert_exporter": "python",
   "pygments_lexer": "ipython3",
   "version": "3.5.3"
  }
 },
 "nbformat": 4,
 "nbformat_minor": 2
}
