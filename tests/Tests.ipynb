{
 "cells": [
  {
   "cell_type": "code",
   "execution_count": 1,
   "metadata": {
    "collapsed": false,
    "deletable": true,
    "editable": true
   },
   "outputs": [],
   "source": [
    "import gmql as gl"
   ]
  },
  {
   "cell_type": "code",
   "execution_count": 2,
   "metadata": {
    "collapsed": false,
    "deletable": true,
    "editable": true
   },
   "outputs": [
    {
     "name": "stdout",
     "output_type": "stream",
     "text": [
      "2017-03-31 22:16:36,582 - gmql_logger - INFO - loading metadata\n",
      "2017-03-31 22:16:41,456 - gmql_logger - INFO - parsing metadata\n",
      "2017-03-31 22:16:41,458 - gmql_logger - INFO - collecting metadata\n",
      "2017-03-31 22:17:02,456 - gmql_logger - INFO - dataframe construction\n"
     ]
    },
    {
     "name": "stderr",
     "output_type": "stream",
     "text": [
      "100%|██████████| 115/115 [00:39<00:00,  3.03it/s]"
     ]
    },
    {
     "name": "stdout",
     "output_type": "stream",
     "text": [
      "2017-03-31 22:17:42,045 - gmql_logger - INFO - loading region data\n"
     ]
    },
    {
     "name": "stderr",
     "output_type": "stream",
     "text": [
      "\n"
     ]
    },
    {
     "name": "stdout",
     "output_type": "stream",
     "text": [
      "2017-03-31 22:17:42,921 - gmql_logger - INFO - parsing region data\n"
     ]
    }
   ],
   "source": [
    "# path of the dataset\n",
    "input_path = \"/home/luca/Documenti/GMQL-Python/resources/hg_narrowPeaks\"\n",
    "np_parser = gl.parsers.NarrowPeakParser()\n",
    "dataset = gl.GMQLDataset(parser=np_parser)\n",
    "dataset = dataset.load_from_path(path=input_path)"
   ]
  },
  {
   "cell_type": "code",
   "execution_count": null,
   "metadata": {
    "collapsed": false,
    "deletable": true,
    "editable": true
   },
   "outputs": [],
   "source": [
    "def aggregate(aggregates):\n",
    "    peaks = aggregates['peaks']\n",
    "    return sum(peaks)\n",
    "\n",
    "new_meta = {\n",
    "    'strange_aggregation': aggregate\n",
    "}\n",
    "ext = dataset.extend(new_attr_dict=new_meta, n=10)"
   ]
  },
  {
   "cell_type": "code",
   "execution_count": null,
   "metadata": {
    "collapsed": false,
    "deletable": true,
    "editable": true
   },
   "outputs": [],
   "source": [
    "n_part = dataset.reg_dataset.getNumPartitions()\n",
    "dataset.reg_dataset.partitionBy(n_part, lambda x : x)"
   ]
  },
  {
   "cell_type": "code",
   "execution_count": null,
   "metadata": {
    "collapsed": false,
    "deletable": true,
    "editable": true
   },
   "outputs": [],
   "source": [
    "dataset.reg_dataset = dataset.reg_dataset.cache()"
   ]
  },
  {
   "cell_type": "code",
   "execution_count": null,
   "metadata": {
    "collapsed": false,
    "deletable": true,
    "editable": true
   },
   "outputs": [],
   "source": [
    "r = dataset.reg_dataset"
   ]
  },
  {
   "cell_type": "code",
   "execution_count": null,
   "metadata": {
    "collapsed": false,
    "deletable": true,
    "editable": true
   },
   "outputs": [],
   "source": []
  },
  {
   "cell_type": "code",
   "execution_count": null,
   "metadata": {
    "collapsed": true
   },
   "outputs": [],
   "source": []
  }
 ],
 "metadata": {
  "kernelspec": {
   "display_name": "Python 3",
   "language": "python",
   "name": "python3"
  },
  "language_info": {
   "codemirror_mode": {
    "name": "ipython",
    "version": 3
   },
   "file_extension": ".py",
   "mimetype": "text/x-python",
   "name": "python",
   "nbconvert_exporter": "python",
   "pygments_lexer": "ipython3",
   "version": "3.5.3"
  }
 },
 "nbformat": 4,
 "nbformat_minor": 2
}
