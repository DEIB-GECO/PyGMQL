{
 "cells": [
  {
   "cell_type": "code",
   "execution_count": 1,
   "metadata": {
    "collapsed": true
   },
   "outputs": [],
   "source": [
    "import gmql as gl"
   ]
  },
  {
   "cell_type": "code",
   "execution_count": 2,
   "metadata": {
    "collapsed": true
   },
   "outputs": [],
   "source": [
    "# loading of a dataset\n",
    "data_path = \"/home/luca/Documenti/resources/hg_narrowPeaks\"\n",
    "output_path = \"/home/luca/Documenti/resources/result\"\n",
    "\n",
    "parser = gl.parsers.NarrowPeakParser()\n",
    "\n",
    "data = gl.GMQLDataset(parser=parser)\\\n",
    "                .load_from_path(path=data_path, meta_load=False)\n",
    "    \n",
    "# selects all the data coming from cell K562 and having antibody H3K4me3\n",
    "condition = (data.MetaField(\"cell\") == 'K562') & (data.MetaField(\"antibody\") == 'H3K4me3')\n",
    "filtered_data = data.meta_select(predicate=condition) # test"
   ]
  },
  {
   "cell_type": "code",
   "execution_count": 3,
   "metadata": {},
   "outputs": [],
   "source": [
    "# project on region fields\n",
    "new_reg_field = {\n",
    "    \"new_attribute\" : (filtered_data.RegField(\"pValue\") + filtered_data.RegField(\"signalValue\"))/2\n",
    "}"
   ]
  },
  {
   "cell_type": "code",
   "execution_count": 4,
   "metadata": {
    "collapsed": true
   },
   "outputs": [],
   "source": [
    "proj_data = filtered_data.reg_project(field_list=['score', 'signalValue', 'pValue'], new_field_dict=new_reg_field)"
   ]
  },
  {
   "cell_type": "code",
   "execution_count": 5,
   "metadata": {},
   "outputs": [],
   "source": [
    "# cover operation\n",
    "\n",
    "new_fields = {\n",
    "    \"min_pValue\" : gl.MIN(\"pValue\")\n",
    "}\n",
    "cover_data = proj_data.normal_cover(minAcc=1, maxAcc=2, groupBy=['treatment_tag'], new_reg_fields=new_fields)"
   ]
  },
  {
   "cell_type": "code",
   "execution_count": null,
   "metadata": {
    "scrolled": false
   },
   "outputs": [],
   "source": [
    "# materialization\n",
    "cover_data = cover_data.materialize(output_path=output_path)"
   ]
  },
  {
   "cell_type": "code",
   "execution_count": null,
   "metadata": {},
   "outputs": [],
   "source": []
  },
  {
   "cell_type": "code",
   "execution_count": null,
   "metadata": {
    "collapsed": true
   },
   "outputs": [],
   "source": []
  }
 ],
 "metadata": {
  "kernelspec": {
   "display_name": "Python 3",
   "language": "python",
   "name": "python3"
  },
  "language_info": {
   "codemirror_mode": {
    "name": "ipython",
    "version": 3
   },
   "file_extension": ".py",
   "mimetype": "text/x-python",
   "name": "python",
   "nbconvert_exporter": "python",
   "pygments_lexer": "ipython3",
   "version": "3.6.1"
  }
 },
 "nbformat": 4,
 "nbformat_minor": 2
}
