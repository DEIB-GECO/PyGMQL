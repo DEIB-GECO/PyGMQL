{
 "cells": [
  {
   "cell_type": "code",
   "execution_count": null,
   "metadata": {},
   "outputs": [],
   "source": [
    "import gmql as gl"
   ]
  },
  {
   "cell_type": "code",
   "execution_count": null,
   "metadata": {
    "collapsed": true
   },
   "outputs": [],
   "source": [
    "# loading of a dataset\n",
    "data_path = \"/home/luca/Documenti/resources/hg_narrowPeaks\"\n",
    "output_path = \"/home/luca/Documenti/resources/result\"\n",
    "\n",
    "parser = gl.parsers.NarrowPeakParser()\n",
    "\n",
    "data = gl.GMQLDataset(parser=parser)\\\n",
    "                .load_from_path(path=data_path, meta_load=False)\n",
    "    \n",
    "# selects all the data coming from cell K562 and having antibody H3K4me3\n",
    "condition = (data.MetaField(\"cell\") == 'K562') & (data.MetaField(\"antibody\") == 'H3K4me3')\n",
    "filtered_data = data.meta_select(predicate=condition) # test"
   ]
  },
  {
   "cell_type": "code",
   "execution_count": null,
   "metadata": {},
   "outputs": [],
   "source": [
    "joined = filtered_data.join(experiment=filtered_data, \n",
    "                   genometric_predicate=[gl.DLE(1000), gl.DOWN()], \n",
    "                   output=\"RIGHT\")"
   ]
  },
  {
   "cell_type": "code",
   "execution_count": null,
   "metadata": {},
   "outputs": [],
   "source": [
    "joined = joined.materialize(output_path=output_path)"
   ]
  },
  {
   "cell_type": "code",
   "execution_count": null,
   "metadata": {
    "collapsed": true
   },
   "outputs": [],
   "source": []
  }
 ],
 "metadata": {
  "kernelspec": {
   "display_name": "Python 3",
   "language": "python",
   "name": "python3"
  },
  "language_info": {
   "codemirror_mode": {
    "name": "ipython",
    "version": 3
   },
   "file_extension": ".py",
   "mimetype": "text/x-python",
   "name": "python",
   "nbconvert_exporter": "python",
   "pygments_lexer": "ipython3",
   "version": "3.6.1"
  }
 },
 "nbformat": 4,
 "nbformat_minor": 2
}
