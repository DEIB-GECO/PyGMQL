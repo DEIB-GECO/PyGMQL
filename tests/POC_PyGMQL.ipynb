{
 "cells": [
  {
   "cell_type": "markdown",
   "metadata": {
    "deletable": true,
    "editable": true
   },
   "source": [
    "# Proof of concept: *PyGMQL*"
   ]
  },
  {
   "cell_type": "code",
   "execution_count": 1,
   "metadata": {
    "collapsed": false,
    "deletable": true,
    "editable": true
   },
   "outputs": [],
   "source": [
    "import gmql as gl"
   ]
  },
  {
   "cell_type": "code",
   "execution_count": 2,
   "metadata": {
    "collapsed": false
   },
   "outputs": [
    {
     "data": {
      "text/plain": [
       "[('spark.driver.host', '192.168.1.132'),\n",
       " ('spark.driver.extraClassPath',\n",
       "  '/home/luca/Scrivania/GMQL/GMQL-Spark/target/GMQL-Spark-4.0.jar'),\n",
       " ('spark.rdd.compress', 'True'),\n",
       " ('spark.app.id', 'local-1491511308797'),\n",
       " ('spark.app.name', 'gmql_spark'),\n",
       " ('spark.serializer.objectStreamReset', '100'),\n",
       " ('spark.executor.extraClassPath',\n",
       "  '/home/luca/Scrivania/GMQL/GMQL-Spark/target/GMQL-Spark-4.0.jar'),\n",
       " ('spark.master', 'local[*]'),\n",
       " ('spark.executor.id', 'driver'),\n",
       " ('spark.submit.deployMode', 'client'),\n",
       " ('spark.driver.port', '56531')]"
      ]
     },
     "execution_count": 2,
     "metadata": {},
     "output_type": "execute_result"
    }
   ],
   "source": [
    "gl.sc.getConf().getAll()"
   ]
  },
  {
   "cell_type": "markdown",
   "metadata": {
    "deletable": true,
    "editable": true
   },
   "source": [
    "## Loading a dataset "
   ]
  },
  {
   "cell_type": "code",
   "execution_count": 7,
   "metadata": {
    "collapsed": true,
    "deletable": true,
    "editable": true
   },
   "outputs": [],
   "source": [
    "# path of the dataset\n",
    "input_path = \"/home/luca/Documenti/resources/hg_narrowPeaks/\""
   ]
  },
  {
   "cell_type": "markdown",
   "metadata": {
    "deletable": true,
    "editable": true
   },
   "source": [
    "The library provides the user with a set of different parsers for datasets. In particular, for this demonstration we use the `NarrowPeakParser`."
   ]
  },
  {
   "cell_type": "code",
   "execution_count": 8,
   "metadata": {
    "collapsed": false,
    "deletable": true,
    "editable": true
   },
   "outputs": [],
   "source": [
    "np_parser = gl.parsers.NarrowPeakParser()"
   ]
  },
  {
   "cell_type": "markdown",
   "metadata": {
    "deletable": true,
    "editable": true
   },
   "source": [
    "One of the main abstractions of the library is the `GMQLDataset`. It is the main access point of the user to the data. Each data manipulation operation is operated on a `GMQLDataset` and returns a *new* object of the same type."
   ]
  },
  {
   "cell_type": "code",
   "execution_count": 9,
   "metadata": {
    "collapsed": false,
    "deletable": true,
    "editable": true
   },
   "outputs": [],
   "source": [
    "dataset = gl.GMQLDataset(parser=np_parser)"
   ]
  },
  {
   "cell_type": "code",
   "execution_count": 10,
   "metadata": {
    "collapsed": false,
    "deletable": true,
    "editable": true
   },
   "outputs": [
    {
     "name": "stdout",
     "output_type": "stream",
     "text": [
      "2017-04-06 22:42:23,340 - gmql_logger - INFO - loading metadata\n",
      "2017-04-06 22:42:25,032 - gmql_logger - INFO - parsing metadata\n",
      "2017-04-06 22:42:46,878 - gmql_logger - INFO - dataframe construction\n"
     ]
    },
    {
     "name": "stderr",
     "output_type": "stream",
     "text": [
      "100%|██████████| 115/115 [00:37<00:00,  3.04it/s]\n"
     ]
    },
    {
     "name": "stdout",
     "output_type": "stream",
     "text": [
      "2017-04-06 22:43:25,499 - gmql_logger - INFO - loading region data\n",
      "2017-04-06 22:43:26,067 - gmql_logger - INFO - parsing region data\n"
     ]
    }
   ],
   "source": [
    "dataset = dataset.load_from_path(path=input_path)"
   ]
  },
  {
   "cell_type": "code",
   "execution_count": null,
   "metadata": {
    "collapsed": false,
    "deletable": true,
    "editable": true
   },
   "outputs": [],
   "source": [
    "sample_dataset = dataset.sample(fraction=0.01)"
   ]
  },
  {
   "cell_type": "code",
   "execution_count": null,
   "metadata": {
    "collapsed": false,
    "deletable": true,
    "editable": true
   },
   "outputs": [],
   "source": [
    "sample_dataset._meta_dataset.count()"
   ]
  },
  {
   "cell_type": "code",
   "execution_count": null,
   "metadata": {
    "collapsed": false,
    "deletable": true,
    "editable": true
   },
   "outputs": [],
   "source": [
    "sample_dataset._reg_dataset.count()"
   ]
  },
  {
   "cell_type": "code",
   "execution_count": null,
   "metadata": {
    "collapsed": false,
    "deletable": true,
    "editable": true
   },
   "outputs": [],
   "source": []
  },
  {
   "cell_type": "code",
   "execution_count": null,
   "metadata": {
    "collapsed": false,
    "deletable": true,
    "editable": true
   },
   "outputs": [],
   "source": []
  },
  {
   "cell_type": "markdown",
   "metadata": {
    "deletable": true,
    "editable": true
   },
   "source": [
    "## Metadata management"
   ]
  },
  {
   "cell_type": "markdown",
   "metadata": {
    "deletable": true,
    "editable": true
   },
   "source": [
    "Differently from the GMQL query engine, PyGMQL stores metadata directly in local memory as a **pandas dataframe** whose index (`id_sample`) is the sample id generated by the GMQL engine (based on the hash of the file name from which the sample comes from).\n",
    "Each column of the dataframe represents one of the found attributes in the dataset, therefore it is possible that a sample (a row) has zero values for one column.\n",
    "\n",
    "Other important fact is that each cell of the metadata dataframe is a **list** due to the fact that an attribute can have multiple values."
   ]
  },
  {
   "cell_type": "code",
   "execution_count": null,
   "metadata": {
    "collapsed": false,
    "deletable": true,
    "editable": true,
    "scrolled": false
   },
   "outputs": [],
   "source": [
    "# for visualization purposes we only show 3 columns of \n",
    "# the dataframe (for a total of 115) and we use the 'head' \n",
    "# function to show only the first rows of the dataframe\n",
    "dataset.meta_dataset.head()[['antibody','cell','antibody_lab']]"
   ]
  },
  {
   "cell_type": "markdown",
   "metadata": {
    "deletable": true,
    "editable": true
   },
   "source": [
    "### Select based on metadata with a logical predicate"
   ]
  },
  {
   "cell_type": "markdown",
   "metadata": {
    "deletable": true,
    "editable": true
   },
   "source": [
    "We select the samples of the dataset in which 'antibody' has 'CTCF' value. \n",
    "The function to be applied is the `meta_select` which accepts a generic predicate, which is basically an arbitrary complex function; in this example we use a lambda expression.\n",
    "The selection affects both metadata and region samples."
   ]
  },
  {
   "cell_type": "code",
   "execution_count": null,
   "metadata": {
    "collapsed": false,
    "deletable": true,
    "editable": true
   },
   "outputs": [],
   "source": [
    "filtered_dataset = dataset.meta_select(lambda row: 'CTCF' in row['antibody'])"
   ]
  },
  {
   "cell_type": "code",
   "execution_count": null,
   "metadata": {
    "collapsed": false,
    "deletable": true,
    "editable": true,
    "scrolled": false
   },
   "outputs": [],
   "source": [
    "# visualize only the first rows of the metadata pandas dataframe\n",
    "filtered_dataset.meta_dataset.head()[['antibody','cell','antibody_lab']]"
   ]
  },
  {
   "cell_type": "markdown",
   "metadata": {
    "deletable": true,
    "editable": true
   },
   "source": [
    "We can use the function `get_reg_sample(n)` to materialize a little sample of the regions in memory to a pandas dataframe"
   ]
  },
  {
   "cell_type": "code",
   "execution_count": null,
   "metadata": {
    "collapsed": false,
    "deletable": true,
    "editable": true
   },
   "outputs": [],
   "source": [
    "filtered_dataset.get_reg_sample(1)"
   ]
  },
  {
   "cell_type": "markdown",
   "metadata": {
    "deletable": true,
    "editable": true
   },
   "source": [
    "### Project metadata based on an attribute list"
   ]
  },
  {
   "cell_type": "markdown",
   "metadata": {
    "deletable": true,
    "editable": true
   },
   "source": [
    "An other possible metadata operation is the `meta_project` which, in its simplest form, takes only the specified columns of the dataframe and (as always) returns a new `GMQLDataset`"
   ]
  },
  {
   "cell_type": "code",
   "execution_count": null,
   "metadata": {
    "collapsed": false,
    "deletable": true,
    "editable": true
   },
   "outputs": [],
   "source": [
    "filtered_proj_data = filtered_dataset.meta_project(['antibody', 'cell'])\n",
    "filtered_proj_data.meta_dataset.head()"
   ]
  },
  {
   "cell_type": "markdown",
   "metadata": {
    "deletable": true,
    "editable": true
   },
   "source": [
    "### Add a new column"
   ]
  },
  {
   "cell_type": "markdown",
   "metadata": {
    "deletable": true,
    "editable": true
   },
   "source": [
    "If the user wants to add a new attribute to the metadata (basically a new column of the dataframe) he needs to call the `add_meta` function that takes the name of the new attribute and the default value to assign to each sample of the dataset"
   ]
  },
  {
   "cell_type": "code",
   "execution_count": null,
   "metadata": {
    "collapsed": false,
    "deletable": true,
    "editable": true
   },
   "outputs": [],
   "source": [
    "filtered_proj_data = filtered_proj_data.add_meta('creator', 'luca')\n",
    "filtered_proj_data.meta_dataset.head()"
   ]
  },
  {
   "cell_type": "code",
   "execution_count": null,
   "metadata": {
    "collapsed": false,
    "deletable": true,
    "editable": true
   },
   "outputs": [],
   "source": [
    "# we can visualize all the attribute names\n",
    "all_attributes = filtered_proj_data.get_meta_attributes()\n",
    "all_attributes"
   ]
  },
  {
   "cell_type": "markdown",
   "metadata": {
    "deletable": true,
    "editable": true
   },
   "source": [
    "### Project and also compute new columns based on complex functions"
   ]
  },
  {
   "cell_type": "markdown",
   "metadata": {
    "deletable": true,
    "editable": true
   },
   "source": [
    "The `meta_project` function can take an other argument which is a dictionary of the following type:\n",
    "```\n",
    "    new_attributes = {\n",
    "        'new_attribute_name_1' : complex_function_1,\n",
    "        'new_attribute_name_2' : complex_function_2,\n",
    "        ...\n",
    "        \n",
    "        'new_attribute_name_N' : complex_function_N,\n",
    "    }\n",
    "```\n",
    "This argument enables the user to build new columns/attributes of the metadata dataframe based on the values of the other attributes."
   ]
  },
  {
   "cell_type": "code",
   "execution_count": null,
   "metadata": {
    "collapsed": false,
    "deletable": true,
    "editable": true
   },
   "outputs": [],
   "source": [
    "# define a function that operates on rows of the metadata dataset and \n",
    "# gives us the resulting new column value\n",
    "\n",
    "# in particular this function simply concatenates the lists of \n",
    "# antibody and cell values\n",
    "def complex_function(row):\n",
    "    x = list(row['antibody'])\n",
    "    y = list(row['cell'])\n",
    "    #print(\"antibody: {}\\t cell: {}\".format(x, y))\n",
    "    return x + y"
   ]
  },
  {
   "cell_type": "code",
   "execution_count": null,
   "metadata": {
    "collapsed": false,
    "deletable": true,
    "editable": true
   },
   "outputs": [],
   "source": [
    "new_attr_dict = {\n",
    "    'extended' : complex_function\n",
    "}\n",
    "\n",
    "extended_dataset = filtered_proj_data.meta_project(attr_list=all_attributes,\n",
    "                                                   new_attr_dict=new_attr_dict)"
   ]
  },
  {
   "cell_type": "code",
   "execution_count": null,
   "metadata": {
    "collapsed": false,
    "deletable": true,
    "editable": true
   },
   "outputs": [],
   "source": [
    "extended_dataset.meta_dataset.head()"
   ]
  },
  {
   "cell_type": "markdown",
   "metadata": {
    "collapsed": false,
    "deletable": true,
    "editable": true
   },
   "source": [
    "## _Example: working with metadata_"
   ]
  },
  {
   "cell_type": "markdown",
   "metadata": {
    "deletable": true,
    "editable": true
   },
   "source": [
    "We demonstrate the usage of some of the function described above with a very simple (and stupid) example.\n",
    "The user adds two new attributes (the same for every sample) describing birth date and death date of the patient.\n",
    "Then he generates a third new attribute given by the other two that represents the age of the patient."
   ]
  },
  {
   "cell_type": "code",
   "execution_count": null,
   "metadata": {
    "collapsed": false,
    "deletable": true,
    "editable": true
   },
   "outputs": [],
   "source": [
    "from datetime import datetime\n",
    "\n",
    "born_date = datetime.strptime(\"30 Nov 1935\",\"%d %b %Y\")\n",
    "death_date = datetime.strptime(\"30 Nov 1999\",\"%d %b %Y\")"
   ]
  },
  {
   "cell_type": "code",
   "execution_count": null,
   "metadata": {
    "collapsed": false,
    "deletable": true,
    "editable": true
   },
   "outputs": [],
   "source": [
    "example_dataset = filtered_proj_data.add_meta('born_date', born_date)\n",
    "example_dataset = example_dataset.add_meta('death_date', death_date)\n",
    "all_attributes = example_dataset.get_meta_attributes()\n",
    "all_attributes"
   ]
  },
  {
   "cell_type": "code",
   "execution_count": null,
   "metadata": {
    "collapsed": false,
    "deletable": true,
    "editable": true
   },
   "outputs": [],
   "source": [
    "def calculate_age(row):\n",
    "    #print(row)\n",
    "    born_date = row['born_date'][0]\n",
    "    death_date = row['death_date'][0]\n",
    "    return (death_date - born_date).days / 365"
   ]
  },
  {
   "cell_type": "code",
   "execution_count": null,
   "metadata": {
    "collapsed": false,
    "deletable": true,
    "editable": true
   },
   "outputs": [],
   "source": [
    "new_attr_dict = {\n",
    "    'age' : calculate_age\n",
    "}\n",
    "example_dataset = example_dataset.meta_project(attr_list=all_attributes,\n",
    "                                               new_attr_dict=new_attr_dict)"
   ]
  },
  {
   "cell_type": "code",
   "execution_count": null,
   "metadata": {
    "collapsed": false,
    "deletable": true,
    "editable": true
   },
   "outputs": [],
   "source": [
    "example_dataset.meta_dataset.head()"
   ]
  },
  {
   "cell_type": "markdown",
   "metadata": {
    "deletable": true,
    "editable": true
   },
   "source": [
    "## Region management"
   ]
  },
  {
   "cell_type": "markdown",
   "metadata": {
    "deletable": true,
    "editable": true
   },
   "source": [
    "### Region selection"
   ]
  },
  {
   "cell_type": "code",
   "execution_count": null,
   "metadata": {
    "collapsed": false,
    "deletable": true,
    "editable": true
   },
   "outputs": [],
   "source": [
    "ctcf_mcf7_dataset = dataset.meta_select(lambda attr: 'CTCF' in attr['antibody']\n",
    "                                        and 'MCF-7' in attr['cell'])\\\n",
    "                           .reg_select(lambda reg: reg['pValue'] < 2)"
   ]
  },
  {
   "cell_type": "code",
   "execution_count": null,
   "metadata": {
    "collapsed": false,
    "deletable": true,
    "editable": true
   },
   "outputs": [],
   "source": []
  },
  {
   "cell_type": "code",
   "execution_count": null,
   "metadata": {
    "collapsed": false,
    "deletable": true,
    "editable": true
   },
   "outputs": [],
   "source": [
    "ctcf_mcf7_dataset.get_reg_sample(20)"
   ]
  },
  {
   "cell_type": "code",
   "execution_count": null,
   "metadata": {
    "collapsed": true,
    "deletable": true,
    "editable": true
   },
   "outputs": [],
   "source": []
  }
 ],
 "metadata": {
  "kernelspec": {
   "display_name": "Python 3",
   "language": "python",
   "name": "python3"
  },
  "language_info": {
   "codemirror_mode": {
    "name": "ipython",
    "version": 3
   },
   "file_extension": ".py",
   "mimetype": "text/x-python",
   "name": "python",
   "nbconvert_exporter": "python",
   "pygments_lexer": "ipython3",
   "version": "3.5.3"
  }
 },
 "nbformat": 4,
 "nbformat_minor": 0
}
