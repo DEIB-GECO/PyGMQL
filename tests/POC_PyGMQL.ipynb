{
 "cells": [
  {
   "cell_type": "markdown",
   "metadata": {
    "deletable": true,
    "editable": true
   },
   "source": [
    "# Proof of concept: *PyGMQL*"
   ]
  },
  {
   "cell_type": "code",
   "execution_count": 1,
   "metadata": {
    "collapsed": false,
    "deletable": true,
    "editable": true
   },
   "outputs": [],
   "source": [
    "import gmql as gl\n",
    "import numpy as np\n",
    "import pandas as pd"
   ]
  },
  {
   "cell_type": "markdown",
   "metadata": {
    "deletable": true,
    "editable": true
   },
   "source": [
    "## Loading a dataset "
   ]
  },
  {
   "cell_type": "code",
   "execution_count": 2,
   "metadata": {
    "collapsed": true,
    "deletable": true,
    "editable": true
   },
   "outputs": [],
   "source": [
    "input_path = \"/home/luca/Scrivania/GMQL-Python/resources/hg_narrowPeaks/\""
   ]
  },
  {
   "cell_type": "code",
   "execution_count": 3,
   "metadata": {
    "collapsed": false,
    "deletable": true,
    "editable": true
   },
   "outputs": [],
   "source": [
    "bed_parser = gl.parsers.BedParser(delimiter=\"\\t\", chrPos=None, startPos=None, stopPos=None)"
   ]
  },
  {
   "cell_type": "code",
   "execution_count": 4,
   "metadata": {
    "collapsed": false,
    "deletable": true,
    "editable": true
   },
   "outputs": [],
   "source": [
    "dataset = gl.GMQLDataset(parser=bed_parser)"
   ]
  },
  {
   "cell_type": "code",
   "execution_count": 5,
   "metadata": {
    "collapsed": false,
    "deletable": true,
    "editable": true
   },
   "outputs": [
    {
     "name": "stdout",
     "output_type": "stream",
     "text": [
      "2017-03-23 17:18:46,616 - gmql_logger - INFO - loading metadata\n",
      "2017-03-23 17:18:50,707 - gmql_logger - INFO - parsing metadata\n",
      "2017-03-23 17:18:50,709 - gmql_logger - INFO - collecting metadata\n",
      "2017-03-23 17:19:08,794 - gmql_logger - INFO - dataframe construction\n"
     ]
    },
    {
     "name": "stderr",
     "output_type": "stream",
     "text": [
      "100%|██████████| 115/115 [00:38<00:00,  3.03it/s]\n"
     ]
    }
   ],
   "source": [
    "dataset = dataset.load_from_path(path=input_path)"
   ]
  },
  {
   "cell_type": "markdown",
   "metadata": {
    "deletable": true,
    "editable": true
   },
   "source": [
    "## Visualize the metadata in a tabular form"
   ]
  },
  {
   "cell_type": "code",
   "execution_count": 6,
   "metadata": {
    "collapsed": false,
    "deletable": true,
    "editable": true,
    "scrolled": false
   },
   "outputs": [
    {
     "data": {
      "text/html": [
       "<div>\n",
       "<table border=\"1\" class=\"dataframe\">\n",
       "  <thead>\n",
       "    <tr style=\"text-align: right;\">\n",
       "      <th></th>\n",
       "      <th>ID</th>\n",
       "      <th>antibody</th>\n",
       "      <th>antibody_antibodyDescription</th>\n",
       "      <th>antibody_deprecated</th>\n",
       "      <th>antibody_lab</th>\n",
       "      <th>antibody_label</th>\n",
       "      <th>antibody_lots</th>\n",
       "      <th>antibody_orderUrl</th>\n",
       "      <th>antibody_tag</th>\n",
       "      <th>antibody_target</th>\n",
       "      <th>...</th>\n",
       "      <th>treatment_label</th>\n",
       "      <th>treatment_tag</th>\n",
       "      <th>treatment_type</th>\n",
       "      <th>type</th>\n",
       "      <th>url</th>\n",
       "      <th>view</th>\n",
       "      <th>view_description</th>\n",
       "      <th>view_label</th>\n",
       "      <th>view_tag</th>\n",
       "      <th>view_type</th>\n",
       "    </tr>\n",
       "    <tr>\n",
       "      <th>id_sample</th>\n",
       "      <th></th>\n",
       "      <th></th>\n",
       "      <th></th>\n",
       "      <th></th>\n",
       "      <th></th>\n",
       "      <th></th>\n",
       "      <th></th>\n",
       "      <th></th>\n",
       "      <th></th>\n",
       "      <th></th>\n",
       "      <th></th>\n",
       "      <th></th>\n",
       "      <th></th>\n",
       "      <th></th>\n",
       "      <th></th>\n",
       "      <th></th>\n",
       "      <th></th>\n",
       "      <th></th>\n",
       "      <th></th>\n",
       "      <th></th>\n",
       "      <th></th>\n",
       "    </tr>\n",
       "  </thead>\n",
       "  <tbody>\n",
       "    <tr>\n",
       "      <th>-9220584259719780958</th>\n",
       "      <td>[512]</td>\n",
       "      <td>[E2F6]</td>\n",
       "      <td>[Rabbit polyclonal IgG, epitope corresponding ...</td>\n",
       "      <td>[]</td>\n",
       "      <td>[Farnham, Myers]</td>\n",
       "      <td>[E2F6 (sc-22823)]</td>\n",
       "      <td>[D1206 (Myers)]</td>\n",
       "      <td>[http://www.scbt.com/datasheet-22823-e2f-6-h-5...</td>\n",
       "      <td>[E2F6]</td>\n",
       "      <td>[E2F6]</td>\n",
       "      <td>...</td>\n",
       "      <td>[No treatment or prot]</td>\n",
       "      <td>[NONE]</td>\n",
       "      <td>[control]</td>\n",
       "      <td>[narrowPeak]</td>\n",
       "      <td>[http://hgdownload.cse.ucsc.edu/goldenPath/hg1...</td>\n",
       "      <td>[Peaks]</td>\n",
       "      <td>[Regions of enriched signal in experiment]</td>\n",
       "      <td>[Peaks]</td>\n",
       "      <td>[PKS]</td>\n",
       "      <td>[view]</td>\n",
       "    </tr>\n",
       "    <tr>\n",
       "      <th>-9219803729611809025</th>\n",
       "      <td>[1890]</td>\n",
       "      <td>[CTCF]</td>\n",
       "      <td>[Rabbit polyclonal. Antibody Target: CTCF]</td>\n",
       "      <td>[]</td>\n",
       "      <td>[Myers, Hardison, Snyder]</td>\n",
       "      <td>[CTCF (07-729)]</td>\n",
       "      <td>[1350637 DAM1472197]</td>\n",
       "      <td>[http://www.millipore.com/catalogue/item/07-729]</td>\n",
       "      <td>[CTCF]</td>\n",
       "      <td>[CTCF]</td>\n",
       "      <td>...</td>\n",
       "      <td>[No treatment or prot]</td>\n",
       "      <td>[NONE]</td>\n",
       "      <td>[control]</td>\n",
       "      <td>[narrowPeak]</td>\n",
       "      <td>[http://hgdownload.cse.ucsc.edu/goldenPath/hg1...</td>\n",
       "      <td>[Peaks]</td>\n",
       "      <td>[Regions of enriched signal in experiment]</td>\n",
       "      <td>[Peaks]</td>\n",
       "      <td>[PKS]</td>\n",
       "      <td>[view]</td>\n",
       "    </tr>\n",
       "    <tr>\n",
       "      <th>-9211745969161520790</th>\n",
       "      <td>[1394]</td>\n",
       "      <td>[eGFP-HDAC8]</td>\n",
       "      <td>[Goat polyclonal. Antibody Target: eGFP-HDAC8]</td>\n",
       "      <td>[]</td>\n",
       "      <td>[White]</td>\n",
       "      <td>[HDAC8 (eGFP-HDAC8)]</td>\n",
       "      <td>[]</td>\n",
       "      <td>[http://www.genes.uchicago.edu/white.html]</td>\n",
       "      <td>[HDAC8e]</td>\n",
       "      <td>[eGFP-HDAC8]</td>\n",
       "      <td>...</td>\n",
       "      <td>[]</td>\n",
       "      <td>[]</td>\n",
       "      <td>[]</td>\n",
       "      <td>[narrowPeak]</td>\n",
       "      <td>[http://hgdownload.cse.ucsc.edu/goldenPath/hg1...</td>\n",
       "      <td>[Peaks]</td>\n",
       "      <td>[Regions of enriched signal in experiment]</td>\n",
       "      <td>[Peaks]</td>\n",
       "      <td>[PKS]</td>\n",
       "      <td>[view]</td>\n",
       "    </tr>\n",
       "    <tr>\n",
       "      <th>-9210823539931286134</th>\n",
       "      <td>[266]</td>\n",
       "      <td>[GABP]</td>\n",
       "      <td>[Mouse monoclonal, GABPa(G-1), IgG1. Antibody ...</td>\n",
       "      <td>[]</td>\n",
       "      <td>[Myers]</td>\n",
       "      <td>[GABPA (sc-28312)]</td>\n",
       "      <td>[F1804]</td>\n",
       "      <td>[http://www.scbt.com/product.php?datasheet=28312]</td>\n",
       "      <td>[GABP]</td>\n",
       "      <td>[GABPA]</td>\n",
       "      <td>...</td>\n",
       "      <td>[No treatment or prot]</td>\n",
       "      <td>[NONE]</td>\n",
       "      <td>[control]</td>\n",
       "      <td>[narrowPeak]</td>\n",
       "      <td>[http://hgdownload.cse.ucsc.edu/goldenPath/hg1...</td>\n",
       "      <td>[Peaks]</td>\n",
       "      <td>[Regions of enriched signal in experiment]</td>\n",
       "      <td>[Peaks]</td>\n",
       "      <td>[PKS]</td>\n",
       "      <td>[view]</td>\n",
       "    </tr>\n",
       "    <tr>\n",
       "      <th>-9197969371849812436</th>\n",
       "      <td>[1570]</td>\n",
       "      <td>[]</td>\n",
       "      <td>[]</td>\n",
       "      <td>[]</td>\n",
       "      <td>[]</td>\n",
       "      <td>[]</td>\n",
       "      <td>[]</td>\n",
       "      <td>[]</td>\n",
       "      <td>[]</td>\n",
       "      <td>[]</td>\n",
       "      <td>...</td>\n",
       "      <td>[No treatment or prot]</td>\n",
       "      <td>[NONE]</td>\n",
       "      <td>[control]</td>\n",
       "      <td>[narrowPeak]</td>\n",
       "      <td>[http://hgdownload.cse.ucsc.edu/goldenPath/hg1...</td>\n",
       "      <td>[Peaks]</td>\n",
       "      <td>[Regions of enriched signal in experiment]</td>\n",
       "      <td>[Peaks]</td>\n",
       "      <td>[PKS]</td>\n",
       "      <td>[view]</td>\n",
       "    </tr>\n",
       "  </tbody>\n",
       "</table>\n",
       "<p>5 rows × 114 columns</p>\n",
       "</div>"
      ],
      "text/plain": [
       "                          ID      antibody  \\\n",
       "id_sample                                    \n",
       "-9220584259719780958   [512]        [E2F6]   \n",
       "-9219803729611809025  [1890]        [CTCF]   \n",
       "-9211745969161520790  [1394]  [eGFP-HDAC8]   \n",
       "-9210823539931286134   [266]        [GABP]   \n",
       "-9197969371849812436  [1570]            []   \n",
       "\n",
       "                                           antibody_antibodyDescription  \\\n",
       "id_sample                                                                 \n",
       "-9220584259719780958  [Rabbit polyclonal IgG, epitope corresponding ...   \n",
       "-9219803729611809025         [Rabbit polyclonal. Antibody Target: CTCF]   \n",
       "-9211745969161520790     [Goat polyclonal. Antibody Target: eGFP-HDAC8]   \n",
       "-9210823539931286134  [Mouse monoclonal, GABPa(G-1), IgG1. Antibody ...   \n",
       "-9197969371849812436                                                 []   \n",
       "\n",
       "                     antibody_deprecated               antibody_lab  \\\n",
       "id_sample                                                             \n",
       "-9220584259719780958                  []           [Farnham, Myers]   \n",
       "-9219803729611809025                  []  [Myers, Hardison, Snyder]   \n",
       "-9211745969161520790                  []                    [White]   \n",
       "-9210823539931286134                  []                    [Myers]   \n",
       "-9197969371849812436                  []                         []   \n",
       "\n",
       "                            antibody_label         antibody_lots  \\\n",
       "id_sample                                                          \n",
       "-9220584259719780958     [E2F6 (sc-22823)]       [D1206 (Myers)]   \n",
       "-9219803729611809025       [CTCF (07-729)]  [1350637 DAM1472197]   \n",
       "-9211745969161520790  [HDAC8 (eGFP-HDAC8)]                    []   \n",
       "-9210823539931286134    [GABPA (sc-28312)]               [F1804]   \n",
       "-9197969371849812436                    []                    []   \n",
       "\n",
       "                                                      antibody_orderUrl  \\\n",
       "id_sample                                                                 \n",
       "-9220584259719780958  [http://www.scbt.com/datasheet-22823-e2f-6-h-5...   \n",
       "-9219803729611809025   [http://www.millipore.com/catalogue/item/07-729]   \n",
       "-9211745969161520790         [http://www.genes.uchicago.edu/white.html]   \n",
       "-9210823539931286134  [http://www.scbt.com/product.php?datasheet=28312]   \n",
       "-9197969371849812436                                                 []   \n",
       "\n",
       "                     antibody_tag antibody_target    ...     \\\n",
       "id_sample                                            ...      \n",
       "-9220584259719780958       [E2F6]          [E2F6]    ...      \n",
       "-9219803729611809025       [CTCF]          [CTCF]    ...      \n",
       "-9211745969161520790     [HDAC8e]    [eGFP-HDAC8]    ...      \n",
       "-9210823539931286134       [GABP]         [GABPA]    ...      \n",
       "-9197969371849812436           []              []    ...      \n",
       "\n",
       "                             treatment_label treatment_tag treatment_type  \\\n",
       "id_sample                                                                   \n",
       "-9220584259719780958  [No treatment or prot]        [NONE]      [control]   \n",
       "-9219803729611809025  [No treatment or prot]        [NONE]      [control]   \n",
       "-9211745969161520790                      []            []             []   \n",
       "-9210823539931286134  [No treatment or prot]        [NONE]      [control]   \n",
       "-9197969371849812436  [No treatment or prot]        [NONE]      [control]   \n",
       "\n",
       "                              type  \\\n",
       "id_sample                            \n",
       "-9220584259719780958  [narrowPeak]   \n",
       "-9219803729611809025  [narrowPeak]   \n",
       "-9211745969161520790  [narrowPeak]   \n",
       "-9210823539931286134  [narrowPeak]   \n",
       "-9197969371849812436  [narrowPeak]   \n",
       "\n",
       "                                                                    url  \\\n",
       "id_sample                                                                 \n",
       "-9220584259719780958  [http://hgdownload.cse.ucsc.edu/goldenPath/hg1...   \n",
       "-9219803729611809025  [http://hgdownload.cse.ucsc.edu/goldenPath/hg1...   \n",
       "-9211745969161520790  [http://hgdownload.cse.ucsc.edu/goldenPath/hg1...   \n",
       "-9210823539931286134  [http://hgdownload.cse.ucsc.edu/goldenPath/hg1...   \n",
       "-9197969371849812436  [http://hgdownload.cse.ucsc.edu/goldenPath/hg1...   \n",
       "\n",
       "                         view                            view_description  \\\n",
       "id_sample                                                                   \n",
       "-9220584259719780958  [Peaks]  [Regions of enriched signal in experiment]   \n",
       "-9219803729611809025  [Peaks]  [Regions of enriched signal in experiment]   \n",
       "-9211745969161520790  [Peaks]  [Regions of enriched signal in experiment]   \n",
       "-9210823539931286134  [Peaks]  [Regions of enriched signal in experiment]   \n",
       "-9197969371849812436  [Peaks]  [Regions of enriched signal in experiment]   \n",
       "\n",
       "                     view_label view_tag view_type  \n",
       "id_sample                                           \n",
       "-9220584259719780958    [Peaks]    [PKS]    [view]  \n",
       "-9219803729611809025    [Peaks]    [PKS]    [view]  \n",
       "-9211745969161520790    [Peaks]    [PKS]    [view]  \n",
       "-9210823539931286134    [Peaks]    [PKS]    [view]  \n",
       "-9197969371849812436    [Peaks]    [PKS]    [view]  \n",
       "\n",
       "[5 rows x 114 columns]"
      ]
     },
     "execution_count": 6,
     "metadata": {},
     "output_type": "execute_result"
    }
   ],
   "source": [
    "dataset.meta_dataset.head()"
   ]
  },
  {
   "cell_type": "markdown",
   "metadata": {
    "deletable": true,
    "editable": true
   },
   "source": [
    "## Select rows of the metadata based on a logical predicate"
   ]
  },
  {
   "cell_type": "code",
   "execution_count": 7,
   "metadata": {
    "collapsed": false,
    "deletable": true,
    "editable": true
   },
   "outputs": [],
   "source": [
    "filtered_dataset = dataset.meta_select(lambda row: 'CTCF' in row['antibody'])"
   ]
  },
  {
   "cell_type": "code",
   "execution_count": 11,
   "metadata": {
    "collapsed": false,
    "deletable": true,
    "editable": true
   },
   "outputs": [
    {
     "data": {
      "text/plain": [
       "236"
      ]
     },
     "execution_count": 11,
     "metadata": {},
     "output_type": "execute_result"
    }
   ],
   "source": [
    "filtered_dataset.meta_dataset.shape[0]"
   ]
  },
  {
   "cell_type": "markdown",
   "metadata": {
    "deletable": true,
    "editable": true
   },
   "source": [
    "## Project metadata based on an attribute list"
   ]
  },
  {
   "cell_type": "code",
   "execution_count": 12,
   "metadata": {
    "collapsed": false,
    "deletable": true,
    "editable": true
   },
   "outputs": [
    {
     "data": {
      "text/html": [
       "<div>\n",
       "<table border=\"1\" class=\"dataframe\">\n",
       "  <thead>\n",
       "    <tr style=\"text-align: right;\">\n",
       "      <th></th>\n",
       "      <th>antibody</th>\n",
       "      <th>cell</th>\n",
       "    </tr>\n",
       "    <tr>\n",
       "      <th>id_sample</th>\n",
       "      <th></th>\n",
       "      <th></th>\n",
       "    </tr>\n",
       "  </thead>\n",
       "  <tbody>\n",
       "    <tr>\n",
       "      <th>-9219803729611809025</th>\n",
       "      <td>[CTCF]</td>\n",
       "      <td>[AG04449]</td>\n",
       "    </tr>\n",
       "    <tr>\n",
       "      <th>-9120762041249846625</th>\n",
       "      <td>[CTCF]</td>\n",
       "      <td>[MCF-7]</td>\n",
       "    </tr>\n",
       "    <tr>\n",
       "      <th>-9118037537398139811</th>\n",
       "      <td>[CTCF]</td>\n",
       "      <td>[MCF-7]</td>\n",
       "    </tr>\n",
       "    <tr>\n",
       "      <th>-8760850962206896694</th>\n",
       "      <td>[CTCF]</td>\n",
       "      <td>[MCF-7]</td>\n",
       "    </tr>\n",
       "    <tr>\n",
       "      <th>-8556045950597285261</th>\n",
       "      <td>[CTCF]</td>\n",
       "      <td>[A549]</td>\n",
       "    </tr>\n",
       "  </tbody>\n",
       "</table>\n",
       "</div>"
      ],
      "text/plain": [
       "                     antibody       cell\n",
       "id_sample                               \n",
       "-9219803729611809025   [CTCF]  [AG04449]\n",
       "-9120762041249846625   [CTCF]    [MCF-7]\n",
       "-9118037537398139811   [CTCF]    [MCF-7]\n",
       "-8760850962206896694   [CTCF]    [MCF-7]\n",
       "-8556045950597285261   [CTCF]     [A549]"
      ]
     },
     "execution_count": 12,
     "metadata": {},
     "output_type": "execute_result"
    }
   ],
   "source": [
    "filtered_proj_data = filtered_dataset.meta_project(['antibody', 'cell'])\n",
    "filtered_proj_data.meta_dataset.head()"
   ]
  },
  {
   "cell_type": "markdown",
   "metadata": {
    "deletable": true,
    "editable": true
   },
   "source": [
    "### Add a new column"
   ]
  },
  {
   "cell_type": "code",
   "execution_count": 13,
   "metadata": {
    "collapsed": false,
    "deletable": true,
    "editable": true
   },
   "outputs": [
    {
     "data": {
      "text/html": [
       "<div>\n",
       "<table border=\"1\" class=\"dataframe\">\n",
       "  <thead>\n",
       "    <tr style=\"text-align: right;\">\n",
       "      <th></th>\n",
       "      <th>antibody</th>\n",
       "      <th>cell</th>\n",
       "      <th>creator</th>\n",
       "    </tr>\n",
       "    <tr>\n",
       "      <th>id_sample</th>\n",
       "      <th></th>\n",
       "      <th></th>\n",
       "      <th></th>\n",
       "    </tr>\n",
       "  </thead>\n",
       "  <tbody>\n",
       "    <tr>\n",
       "      <th>-9219803729611809025</th>\n",
       "      <td>[CTCF]</td>\n",
       "      <td>[AG04449]</td>\n",
       "      <td>[luca]</td>\n",
       "    </tr>\n",
       "    <tr>\n",
       "      <th>-9120762041249846625</th>\n",
       "      <td>[CTCF]</td>\n",
       "      <td>[MCF-7]</td>\n",
       "      <td>[luca]</td>\n",
       "    </tr>\n",
       "    <tr>\n",
       "      <th>-9118037537398139811</th>\n",
       "      <td>[CTCF]</td>\n",
       "      <td>[MCF-7]</td>\n",
       "      <td>[luca]</td>\n",
       "    </tr>\n",
       "    <tr>\n",
       "      <th>-8760850962206896694</th>\n",
       "      <td>[CTCF]</td>\n",
       "      <td>[MCF-7]</td>\n",
       "      <td>[luca]</td>\n",
       "    </tr>\n",
       "    <tr>\n",
       "      <th>-8556045950597285261</th>\n",
       "      <td>[CTCF]</td>\n",
       "      <td>[A549]</td>\n",
       "      <td>[luca]</td>\n",
       "    </tr>\n",
       "  </tbody>\n",
       "</table>\n",
       "</div>"
      ],
      "text/plain": [
       "                     antibody       cell creator\n",
       "id_sample                                       \n",
       "-9219803729611809025   [CTCF]  [AG04449]  [luca]\n",
       "-9120762041249846625   [CTCF]    [MCF-7]  [luca]\n",
       "-9118037537398139811   [CTCF]    [MCF-7]  [luca]\n",
       "-8760850962206896694   [CTCF]    [MCF-7]  [luca]\n",
       "-8556045950597285261   [CTCF]     [A549]  [luca]"
      ]
     },
     "execution_count": 13,
     "metadata": {},
     "output_type": "execute_result"
    }
   ],
   "source": [
    "filtered_proj_data = filtered_proj_data.add_meta('creator', 'luca')\n",
    "filtered_proj_data.meta_dataset.head()"
   ]
  },
  {
   "cell_type": "code",
   "execution_count": 15,
   "metadata": {
    "collapsed": false,
    "deletable": true,
    "editable": true
   },
   "outputs": [
    {
     "data": {
      "text/plain": [
       "['antibody', 'cell', 'creator']"
      ]
     },
     "execution_count": 15,
     "metadata": {},
     "output_type": "execute_result"
    }
   ],
   "source": [
    "all_attributes = filtered_proj_data.get_meta_attributes()\n",
    "all_attributes"
   ]
  },
  {
   "cell_type": "markdown",
   "metadata": {
    "deletable": true,
    "editable": true
   },
   "source": [
    "### Project and also compute new columns based on complex functions"
   ]
  },
  {
   "cell_type": "code",
   "execution_count": 16,
   "metadata": {
    "collapsed": false,
    "deletable": true,
    "editable": true
   },
   "outputs": [],
   "source": [
    "# define a function that operates on rows of the metadata dataset and gives us the resulting new column value\n",
    "def complex_function(row):\n",
    "    x = list(row['antibody'])\n",
    "    y = list(row['cell'])\n",
    "    #print(\"antibody: {}\\t cell: {}\".format(x, y))\n",
    "    return x + y"
   ]
  },
  {
   "cell_type": "code",
   "execution_count": 17,
   "metadata": {
    "collapsed": false,
    "deletable": true,
    "editable": true
   },
   "outputs": [],
   "source": [
    "new_attr_dict = {\n",
    "    'extended' : complex_function\n",
    "}\n",
    "\n",
    "extended_dataset = filtered_proj_data.meta_project(attr_list=all_attributes, new_attr_dict=new_attr_dict)"
   ]
  },
  {
   "cell_type": "markdown",
   "metadata": {
    "collapsed": false,
    "deletable": true,
    "editable": true
   },
   "source": [
    "## Example"
   ]
  },
  {
   "cell_type": "code",
   "execution_count": 47,
   "metadata": {
    "collapsed": false
   },
   "outputs": [],
   "source": [
    "from datetime import datetime\n",
    "\n",
    "born_date = datetime.strptime(\"30 Nov 1935\",\"%d %b %Y\")\n",
    "death_date = datetime.strptime(\"30 Nov 1999\",\"%d %b %Y\")"
   ]
  },
  {
   "cell_type": "code",
   "execution_count": 67,
   "metadata": {
    "collapsed": false
   },
   "outputs": [
    {
     "data": {
      "text/plain": [
       "['antibody', 'cell', 'creator', 'born_date', 'death_date']"
      ]
     },
     "execution_count": 67,
     "metadata": {},
     "output_type": "execute_result"
    }
   ],
   "source": [
    "example_dataset = filtered_proj_data.add_meta('born_date', born_date)\n",
    "example_dataset = example_dataset.add_meta('death_date', death_date)\n",
    "all_attributes = example_dataset.get_meta_attributes()\n",
    "all_attributes"
   ]
  },
  {
   "cell_type": "code",
   "execution_count": 68,
   "metadata": {
    "collapsed": false
   },
   "outputs": [],
   "source": [
    "def calculate_age(row):\n",
    "    #print(row)\n",
    "    born_date = row['born_date'][0]\n",
    "    death_date = row['death_date'][0]\n",
    "    return (death_date - born_date).days / 365"
   ]
  },
  {
   "cell_type": "code",
   "execution_count": 69,
   "metadata": {
    "collapsed": false
   },
   "outputs": [],
   "source": [
    "new_attr_dict = {\n",
    "    'age' : calculate_age\n",
    "}\n",
    "example_dataset = example_dataset.meta_project(attr_list=all_attributes, new_attr_dict=new_attr_dict)"
   ]
  },
  {
   "cell_type": "code",
   "execution_count": 71,
   "metadata": {
    "collapsed": false
   },
   "outputs": [
    {
     "data": {
      "text/html": [
       "<div>\n",
       "<table border=\"1\" class=\"dataframe\">\n",
       "  <thead>\n",
       "    <tr style=\"text-align: right;\">\n",
       "      <th></th>\n",
       "      <th>antibody</th>\n",
       "      <th>cell</th>\n",
       "      <th>creator</th>\n",
       "      <th>born_date</th>\n",
       "      <th>death_date</th>\n",
       "      <th>age</th>\n",
       "    </tr>\n",
       "    <tr>\n",
       "      <th>id_sample</th>\n",
       "      <th></th>\n",
       "      <th></th>\n",
       "      <th></th>\n",
       "      <th></th>\n",
       "      <th></th>\n",
       "      <th></th>\n",
       "    </tr>\n",
       "  </thead>\n",
       "  <tbody>\n",
       "    <tr>\n",
       "      <th>-9219803729611809025</th>\n",
       "      <td>[CTCF]</td>\n",
       "      <td>[AG04449]</td>\n",
       "      <td>[luca]</td>\n",
       "      <td>[1935-11-30 00:00:00]</td>\n",
       "      <td>[1999-11-30 00:00:00]</td>\n",
       "      <td>64.043836</td>\n",
       "    </tr>\n",
       "    <tr>\n",
       "      <th>-9120762041249846625</th>\n",
       "      <td>[CTCF]</td>\n",
       "      <td>[MCF-7]</td>\n",
       "      <td>[luca]</td>\n",
       "      <td>[1935-11-30 00:00:00]</td>\n",
       "      <td>[1999-11-30 00:00:00]</td>\n",
       "      <td>64.043836</td>\n",
       "    </tr>\n",
       "    <tr>\n",
       "      <th>-9118037537398139811</th>\n",
       "      <td>[CTCF]</td>\n",
       "      <td>[MCF-7]</td>\n",
       "      <td>[luca]</td>\n",
       "      <td>[1935-11-30 00:00:00]</td>\n",
       "      <td>[1999-11-30 00:00:00]</td>\n",
       "      <td>64.043836</td>\n",
       "    </tr>\n",
       "    <tr>\n",
       "      <th>-8760850962206896694</th>\n",
       "      <td>[CTCF]</td>\n",
       "      <td>[MCF-7]</td>\n",
       "      <td>[luca]</td>\n",
       "      <td>[1935-11-30 00:00:00]</td>\n",
       "      <td>[1999-11-30 00:00:00]</td>\n",
       "      <td>64.043836</td>\n",
       "    </tr>\n",
       "    <tr>\n",
       "      <th>-8556045950597285261</th>\n",
       "      <td>[CTCF]</td>\n",
       "      <td>[A549]</td>\n",
       "      <td>[luca]</td>\n",
       "      <td>[1935-11-30 00:00:00]</td>\n",
       "      <td>[1999-11-30 00:00:00]</td>\n",
       "      <td>64.043836</td>\n",
       "    </tr>\n",
       "  </tbody>\n",
       "</table>\n",
       "</div>"
      ],
      "text/plain": [
       "                     antibody       cell creator              born_date  \\\n",
       "id_sample                                                                 \n",
       "-9219803729611809025   [CTCF]  [AG04449]  [luca]  [1935-11-30 00:00:00]   \n",
       "-9120762041249846625   [CTCF]    [MCF-7]  [luca]  [1935-11-30 00:00:00]   \n",
       "-9118037537398139811   [CTCF]    [MCF-7]  [luca]  [1935-11-30 00:00:00]   \n",
       "-8760850962206896694   [CTCF]    [MCF-7]  [luca]  [1935-11-30 00:00:00]   \n",
       "-8556045950597285261   [CTCF]     [A549]  [luca]  [1935-11-30 00:00:00]   \n",
       "\n",
       "                                 death_date        age  \n",
       "id_sample                                               \n",
       "-9219803729611809025  [1999-11-30 00:00:00]  64.043836  \n",
       "-9120762041249846625  [1999-11-30 00:00:00]  64.043836  \n",
       "-9118037537398139811  [1999-11-30 00:00:00]  64.043836  \n",
       "-8760850962206896694  [1999-11-30 00:00:00]  64.043836  \n",
       "-8556045950597285261  [1999-11-30 00:00:00]  64.043836  "
      ]
     },
     "execution_count": 71,
     "metadata": {},
     "output_type": "execute_result"
    }
   ],
   "source": [
    "example_dataset.meta_dataset.head()"
   ]
  }
 ],
 "metadata": {
  "kernelspec": {
   "display_name": "Python 3",
   "language": "python",
   "name": "python3"
  },
  "language_info": {
   "codemirror_mode": {
    "name": "ipython",
    "version": 3
   },
   "file_extension": ".py",
   "mimetype": "text/x-python",
   "name": "python",
   "nbconvert_exporter": "python",
   "pygments_lexer": "ipython3",
   "version": "3.5.3"
  }
 },
 "nbformat": 4,
 "nbformat_minor": 0
}
