{
 "cells": [
  {
   "cell_type": "code",
   "execution_count": 1,
   "metadata": {
    "collapsed": false,
    "deletable": true,
    "editable": true
   },
   "outputs": [],
   "source": [
    "import gmql as gl"
   ]
  },
  {
   "cell_type": "code",
   "execution_count": 2,
   "metadata": {
    "collapsed": true,
    "deletable": true,
    "editable": true
   },
   "outputs": [],
   "source": [
    "# loading of a dataset\n",
    "data_path = \"/home/luca/Documenti/resources/hg_narrowPeaks\"\n",
    "output_path = \"/home/luca/Documenti/resources/result\""
   ]
  },
  {
   "cell_type": "code",
   "execution_count": 3,
   "metadata": {
    "collapsed": false,
    "deletable": true,
    "editable": true
   },
   "outputs": [
    {
     "name": "stdout",
     "output_type": "stream",
     "text": [
      "GMQLDataset\n",
      "\tParser:\tNarrowPeakParser\n",
      "\tIndex:\t0\n"
     ]
    }
   ],
   "source": [
    "parser = gl.parsers.NarrowPeakParser()\n",
    "\n",
    "data = gl.GMQLDataset(parser=parser)\\\n",
    "                .load_from_path(path=data_path)\n",
    "    \n",
    "data.show_info()"
   ]
  },
  {
   "cell_type": "code",
   "execution_count": 4,
   "metadata": {
    "collapsed": false,
    "deletable": true,
    "editable": true
   },
   "outputs": [],
   "source": [
    "# apply an operation\n",
    "\n",
    "condition = (gl.MetaField(\"cell\") == 'K562') & (gl.MetaField(\"cell_tissue\") == 'blood') & (gl.MetaField(\"cell_sex\") == 'F')\n",
    "\n",
    "filtered_data = data.meta_select(predicate=condition) # test"
   ]
  },
  {
   "cell_type": "code",
   "execution_count": null,
   "metadata": {
    "collapsed": false,
    "deletable": true,
    "editable": true
   },
   "outputs": [
    {
     "name": "stdout",
     "output_type": "stream",
     "text": [
      "2017-04-15 21:24:48,154 - PyGML logger - INFO - Loading meta data from path /home/luca/Documenti/resources/result/exp/\n"
     ]
    },
    {
     "name": "stderr",
     "output_type": "stream",
     "text": [
      "100%|██████████| 314/314 [00:00<00:00, 2427.60it/s]"
     ]
    },
    {
     "name": "stdout",
     "output_type": "stream",
     "text": [
      "2017-04-15 21:24:48,750 - PyGML logger - INFO - dataframe construction\n"
     ]
    },
    {
     "name": "stderr",
     "output_type": "stream",
     "text": [
      "\n",
      "100%|██████████| 103/103 [00:06<00:00, 16.02it/s]"
     ]
    },
    {
     "name": "stdout",
     "output_type": "stream",
     "text": [
      "2017-04-15 21:24:55,237 - PyGML logger - INFO - Loading region data from path /home/luca/Documenti/resources/result/exp/\n"
     ]
    },
    {
     "name": "stderr",
     "output_type": "stream",
     "text": [
      "\n",
      " 92%|█████████▏| 290/316 [03:51<00:28,  1.08s/it]"
     ]
    }
   ],
   "source": [
    "filtered_data = filtered_data.materialize(output_path=output_path)"
   ]
  },
  {
   "cell_type": "code",
   "execution_count": null,
   "metadata": {
    "collapsed": false,
    "deletable": true,
    "editable": true
   },
   "outputs": [],
   "source": [
    "filtered_data.meta[['cell','cell_tissue']]"
   ]
  },
  {
   "cell_type": "code",
   "execution_count": null,
   "metadata": {
    "collapsed": false
   },
   "outputs": [],
   "source": [
    "condition.name"
   ]
  },
  {
   "cell_type": "code",
   "execution_count": null,
   "metadata": {
    "collapsed": true
   },
   "outputs": [],
   "source": []
  }
 ],
 "metadata": {
  "kernelspec": {
   "display_name": "Python 3",
   "language": "python",
   "name": "python3"
  },
  "language_info": {
   "codemirror_mode": {
    "name": "ipython",
    "version": 3
   },
   "file_extension": ".py",
   "mimetype": "text/x-python",
   "name": "python",
   "nbconvert_exporter": "python",
   "pygments_lexer": "ipython3",
   "version": "3.5.3"
  }
 },
 "nbformat": 4,
 "nbformat_minor": 2
}
